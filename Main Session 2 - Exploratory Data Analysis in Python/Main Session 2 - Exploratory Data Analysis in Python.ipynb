{
 "cells": [
  {
   "cell_type": "code",
   "execution_count": 1,
   "metadata": {},
   "outputs": [
    {
     "data": {
      "text/html": [
       "<style>.container { width:100% !important; }</style>"
      ],
      "text/plain": [
       "<IPython.core.display.HTML object>"
      ]
     },
     "metadata": {},
     "output_type": "display_data"
    }
   ],
   "source": [
    "from IPython.display import display, HTML\n",
    "display(HTML(\"<style>.container { width:100% !important; }</style>\"))"
   ]
  },
  {
   "cell_type": "markdown",
   "metadata": {
    "id": "pSKLN0VefVGe"
   },
   "source": [
    "\n",
    "<img src=\"img/company-logo.png\" width=120 height=120 align=\"right\">\n",
    "\n",
    "Author: Prof. Manoel Gadi\n",
    "\n",
    "Contact: manoelgadi@gmail.com\n",
    "\n",
    "Teaching Web: http://mfalonso.pythonanywhere.com\n",
    "\n",
    "Linkedin: https://www.linkedin.com/in/manoel-gadi-97821213/\n",
    "\n",
    "Github: https://github.com/manoelgadi\n",
    "\n",
    "Last revision: 27/October/2022\n",
    "\n"
   ]
  },
  {
   "cell_type": "markdown",
   "metadata": {},
   "source": [
    "# Session 2 - Exploratory Data Analysis in Python"
   ]
  },
  {
   "cell_type": "markdown",
   "metadata": {
    "id": "GxK2-fUUfVGj"
   },
   "source": [
    "## Python Ecosystem\n",
    "<img src=\"img/scipy_ecosystem.png\" width=400 height=300 align=\"left\">"
   ]
  },
  {
   "cell_type": "markdown",
   "metadata": {
    "id": "e2BFDaEAfVGj"
   },
   "source": [
    "## Python Pandas DataFrame\n",
    "A **DataFrame** in pandas is a tabular, spreadsheet-like (Excel-like) structure with an **ordered** collection of columns, each with potentially a different type.\n",
    "\n",
    "<img src=\"img/pandas_df_structure.png\" width=400 height=300 align=\"left\">\n"
   ]
  },
  {
   "cell_type": "markdown",
   "metadata": {
    "id": "CRzLMLdqfVGk"
   },
   "source": [
    "Like in Excel, DataFrames have **both** column name and row indexes:\n",
    "* .iloc (index locator) accessing the data via a list [0,1,2,...,N] and \n",
    "* .loc accessing the data as dictionary {key:value}. \n",
    "\n",
    "There will be more tecninical details about pandas in further classes... Let's play with its basic functionalities first."
   ]
  },
  {
   "cell_type": "markdown",
   "metadata": {
    "id": "kCHfTTMffVGk"
   },
   "source": [
    "## Growing with Pandas - Reading files using Pandas"
   ]
  },
  {
   "cell_type": "markdown",
   "metadata": {
    "id": "IqpcpDF3fVGk"
   },
   "source": [
    "importing pandas library with an alias"
   ]
  },
  {
   "cell_type": "code",
   "execution_count": null,
   "metadata": {
    "id": "jlpJxfJyfVGl"
   },
   "outputs": [],
   "source": [
    "import pandas as pd"
   ]
  },
  {
   "cell_type": "markdown",
   "metadata": {
    "id": "4lqHdk3LfVGl"
   },
   "source": [
    "### importing dataset using pd.read_excel() function"
   ]
  },
  {
   "cell_type": "code",
   "execution_count": null,
   "metadata": {
    "id": "ZqW-c8iwfVGm",
    "outputId": "095a5070-cfdc-465c-c8d4-9184a7bdb8cf"
   },
   "outputs": [
    {
     "data": {
      "text/html": [
       "<div>\n",
       "<style scoped>\n",
       "    .dataframe tbody tr th:only-of-type {\n",
       "        vertical-align: middle;\n",
       "    }\n",
       "\n",
       "    .dataframe tbody tr th {\n",
       "        vertical-align: top;\n",
       "    }\n",
       "\n",
       "    .dataframe thead th {\n",
       "        text-align: right;\n",
       "    }\n",
       "</style>\n",
       "<table border=\"1\" class=\"dataframe\">\n",
       "  <thead>\n",
       "    <tr style=\"text-align: right;\">\n",
       "      <th></th>\n",
       "      <th>Unnamed: 0</th>\n",
       "      <th>ticker</th>\n",
       "      <th>country</th>\n",
       "      <th>sector</th>\n",
       "      <th>RefIndex</th>\n",
       "      <th>Market Cap</th>\n",
       "      <th>Enterprise Value</th>\n",
       "      <th>Trailing P/E</th>\n",
       "      <th>Forward P/E</th>\n",
       "      <th>PEG Ratio</th>\n",
       "      <th>...</th>\n",
       "      <th>Trailing Annual Dividend Rate</th>\n",
       "      <th>Trailing Annual Dividend Yield</th>\n",
       "      <th>5 Year Average Dividend Yield</th>\n",
       "      <th>Payout Ratio</th>\n",
       "      <th>Dividend Date</th>\n",
       "      <th>Ex-Dividend Date</th>\n",
       "      <th>Last Split Factor</th>\n",
       "      <th>Last Split Date</th>\n",
       "      <th>ScrapedName</th>\n",
       "      <th>Sector</th>\n",
       "    </tr>\n",
       "  </thead>\n",
       "  <tbody>\n",
       "    <tr>\n",
       "      <th>0</th>\n",
       "      <td>0</td>\n",
       "      <td>GOOG</td>\n",
       "      <td>USA</td>\n",
       "      <td>Technology</td>\n",
       "      <td>SPY</td>\n",
       "      <td>818.1B</td>\n",
       "      <td>712.95B</td>\n",
       "      <td>50.67</td>\n",
       "      <td>24.46</td>\n",
       "      <td>1.70</td>\n",
       "      <td>...</td>\n",
       "      <td>NaN</td>\n",
       "      <td>NaN</td>\n",
       "      <td>NaN</td>\n",
       "      <td>0.00%</td>\n",
       "      <td>NaN</td>\n",
       "      <td>NaN</td>\n",
       "      <td>10000000/10000000</td>\n",
       "      <td>Apr 27, 2015</td>\n",
       "      <td>Alphabet Inc. (GOOG)</td>\n",
       "      <td>Technology</td>\n",
       "    </tr>\n",
       "    <tr>\n",
       "      <th>1</th>\n",
       "      <td>1</td>\n",
       "      <td>MSFT</td>\n",
       "      <td>USA</td>\n",
       "      <td>Technology</td>\n",
       "      <td>SPY</td>\n",
       "      <td>879.31B</td>\n",
       "      <td>830.01B</td>\n",
       "      <td>53.84</td>\n",
       "      <td>23.26</td>\n",
       "      <td>2.14</td>\n",
       "      <td>...</td>\n",
       "      <td>1.68</td>\n",
       "      <td>1.47%</td>\n",
       "      <td>2.35</td>\n",
       "      <td>77.46%</td>\n",
       "      <td>Dec 13, 2018</td>\n",
       "      <td>Nov 14, 2018</td>\n",
       "      <td>2/1</td>\n",
       "      <td>Feb 18, 2003</td>\n",
       "      <td>Microsoft Corporation (MSFT)</td>\n",
       "      <td>Technology</td>\n",
       "    </tr>\n",
       "  </tbody>\n",
       "</table>\n",
       "<p>2 rows × 65 columns</p>\n",
       "</div>"
      ],
      "text/plain": [
       "   Unnamed: 0 ticker country      sector RefIndex Market Cap Enterprise Value  \\\n",
       "0           0   GOOG     USA  Technology      SPY     818.1B          712.95B   \n",
       "1           1   MSFT     USA  Technology      SPY    879.31B          830.01B   \n",
       "\n",
       "  Trailing P/E  Forward P/E  PEG Ratio  ...  Trailing Annual Dividend Rate  \\\n",
       "0        50.67        24.46       1.70  ...                            NaN   \n",
       "1        53.84        23.26       2.14  ...                           1.68   \n",
       "\n",
       "   Trailing Annual Dividend Yield  5 Year Average Dividend Yield  \\\n",
       "0                             NaN                            NaN   \n",
       "1                           1.47%                           2.35   \n",
       "\n",
       "   Payout Ratio Dividend Date Ex-Dividend Date  Last Split Factor  \\\n",
       "0         0.00%           NaN              NaN  10000000/10000000   \n",
       "1        77.46%  Dec 13, 2018     Nov 14, 2018                2/1   \n",
       "\n",
       "  Last Split Date                    ScrapedName      Sector  \n",
       "0    Apr 27, 2015           Alphabet Inc. (GOOG)  Technology  \n",
       "1    Feb 18, 2003   Microsoft Corporation (MSFT)  Technology  \n",
       "\n",
       "[2 rows x 65 columns]"
      ]
     },
     "execution_count": 2,
     "metadata": {},
     "output_type": "execute_result"
    }
   ],
   "source": [
    "df = pd.read_excel(\"datasets/yahoo.xlsx\")\n",
    "df.head(2)"
   ]
  },
  {
   "cell_type": "markdown",
   "metadata": {
    "id": "qsqo9ZGIfVGn"
   },
   "source": [
    "## import SAS dataset using pd.read_spss() function"
   ]
  },
  {
   "cell_type": "code",
   "execution_count": null,
   "metadata": {
    "id": "L77ANSPlfVGo",
    "outputId": "953797d1-2560-440d-aaa8-f1ba00f9163d"
   },
   "outputs": [
    {
     "data": {
      "text/html": [
       "<div>\n",
       "<style scoped>\n",
       "    .dataframe tbody tr th:only-of-type {\n",
       "        vertical-align: middle;\n",
       "    }\n",
       "\n",
       "    .dataframe tbody tr th {\n",
       "        vertical-align: top;\n",
       "    }\n",
       "\n",
       "    .dataframe thead th {\n",
       "        text-align: right;\n",
       "    }\n",
       "</style>\n",
       "<table border=\"1\" class=\"dataframe\">\n",
       "  <thead>\n",
       "    <tr style=\"text-align: right;\">\n",
       "      <th></th>\n",
       "      <th>ProductKey</th>\n",
       "      <th>DistributionCenter</th>\n",
       "      <th>DATE</th>\n",
       "      <th>Discount</th>\n",
       "      <th>Revenue</th>\n",
       "    </tr>\n",
       "  </thead>\n",
       "  <tbody>\n",
       "    <tr>\n",
       "      <th>0</th>\n",
       "      <td>b\"Javier's Deep Cleansing Hair Shampoo 2.718 dl\"</td>\n",
       "      <td>b'Cary'</td>\n",
       "      <td>2013-02-10</td>\n",
       "      <td>0.0</td>\n",
       "      <td>0.0</td>\n",
       "    </tr>\n",
       "    <tr>\n",
       "      <th>1</th>\n",
       "      <td>b\"Javier's Deep Cleansing Hair Shampoo 2.718 dl\"</td>\n",
       "      <td>b'Cary'</td>\n",
       "      <td>2013-02-17</td>\n",
       "      <td>0.0</td>\n",
       "      <td>0.0</td>\n",
       "    </tr>\n",
       "  </tbody>\n",
       "</table>\n",
       "</div>"
      ],
      "text/plain": [
       "                                         ProductKey DistributionCenter  \\\n",
       "0  b\"Javier's Deep Cleansing Hair Shampoo 2.718 dl\"            b'Cary'   \n",
       "1  b\"Javier's Deep Cleansing Hair Shampoo 2.718 dl\"            b'Cary'   \n",
       "\n",
       "        DATE  Discount  Revenue  \n",
       "0 2013-02-10       0.0      0.0  \n",
       "1 2013-02-17       0.0      0.0  "
      ]
     },
     "execution_count": 3,
     "metadata": {},
     "output_type": "execute_result"
    }
   ],
   "source": [
    "df = pd.read_sas(\"datasets/DCSKINPRODUCT.sas7bdat\")\n",
    "df.head(2)"
   ]
  },
  {
   "cell_type": "markdown",
   "metadata": {
    "id": "lrhk6CsbfVGo"
   },
   "source": [
    "## import data from a SQL database"
   ]
  },
  {
   "cell_type": "code",
   "execution_count": null,
   "metadata": {
    "id": "2qM6NPOZfVGp",
    "outputId": "3079b5b2-216d-418d-8fda-39deb80ad662"
   },
   "outputs": [
    {
     "data": {
      "text/html": [
       "<div>\n",
       "<style scoped>\n",
       "    .dataframe tbody tr th:only-of-type {\n",
       "        vertical-align: middle;\n",
       "    }\n",
       "\n",
       "    .dataframe tbody tr th {\n",
       "        vertical-align: top;\n",
       "    }\n",
       "\n",
       "    .dataframe thead th {\n",
       "        text-align: right;\n",
       "    }\n",
       "</style>\n",
       "<table border=\"1\" class=\"dataframe\">\n",
       "  <thead>\n",
       "    <tr style=\"text-align: right;\">\n",
       "      <th></th>\n",
       "      <th>id</th>\n",
       "      <th>nif_fical_number_id</th>\n",
       "      <th>company_name</th>\n",
       "      <th>CNAE</th>\n",
       "      <th>p10000_TotalAssets_h0</th>\n",
       "      <th>p10000_TotalAssets_h1</th>\n",
       "      <th>p10000_TotalAssets_h2</th>\n",
       "      <th>p20000_OwnCapital_h0</th>\n",
       "      <th>p20000_OwnCapital_h1</th>\n",
       "      <th>p20000_OwnCapital_h2</th>\n",
       "      <th>...</th>\n",
       "      <th>p40100_40500_SalesTurnover_h0</th>\n",
       "      <th>p40100_40500_SalesTurnover_h1</th>\n",
       "      <th>p40100_40500_SalesTurnover_h2</th>\n",
       "      <th>p40800_Amortization_h0</th>\n",
       "      <th>p40800_Amortization_h1</th>\n",
       "      <th>p40800_Amortization_h2</th>\n",
       "      <th>p49100_Profit_h0</th>\n",
       "      <th>p49100_Profit_h1</th>\n",
       "      <th>p49100_Profit_h2</th>\n",
       "      <th>detailed_status</th>\n",
       "    </tr>\n",
       "  </thead>\n",
       "  <tbody>\n",
       "    <tr>\n",
       "      <th>0</th>\n",
       "      <td>1</td>\n",
       "      <td>A28015865</td>\n",
       "      <td>Telefonica, SA</td>\n",
       "      <td>6420</td>\n",
       "      <td>1.150660e+08</td>\n",
       "      <td>1.236410e+08</td>\n",
       "      <td>1.203290e+08</td>\n",
       "      <td>26618000.0</td>\n",
       "      <td>28385000.0</td>\n",
       "      <td>25436000.0</td>\n",
       "      <td>...</td>\n",
       "      <td>52455000.0</td>\n",
       "      <td>52574000.0</td>\n",
       "      <td>55665000.0</td>\n",
       "      <td>-9396000.0</td>\n",
       "      <td>-9649000.0</td>\n",
       "      <td>-9704000.0</td>\n",
       "      <td>6791000.0</td>\n",
       "      <td>5469000.0</td>\n",
       "      <td>3525000.0</td>\n",
       "      <td>Activa</td>\n",
       "    </tr>\n",
       "    <tr>\n",
       "      <th>1</th>\n",
       "      <td>2</td>\n",
       "      <td>A39000013</td>\n",
       "      <td>Banco Santander SA</td>\n",
       "      <td>6419</td>\n",
       "      <td>1.444305e+09</td>\n",
       "      <td>1.339125e+09</td>\n",
       "      <td>1.340260e+09</td>\n",
       "      <td>106833000.0</td>\n",
       "      <td>102699000.0</td>\n",
       "      <td>98753000.0</td>\n",
       "      <td>...</td>\n",
       "      <td>50321000.0</td>\n",
       "      <td>46192000.0</td>\n",
       "      <td>48130000.0</td>\n",
       "      <td>0.0</td>\n",
       "      <td>0.0</td>\n",
       "      <td>0.0</td>\n",
       "      <td>0.0</td>\n",
       "      <td>0.0</td>\n",
       "      <td>0.0</td>\n",
       "      <td>0</td>\n",
       "    </tr>\n",
       "  </tbody>\n",
       "</table>\n",
       "<p>2 rows × 26 columns</p>\n",
       "</div>"
      ],
      "text/plain": [
       "   id nif_fical_number_id        company_name  CNAE  p10000_TotalAssets_h0  \\\n",
       "0   1           A28015865      Telefonica, SA  6420           1.150660e+08   \n",
       "1   2           A39000013  Banco Santander SA  6419           1.444305e+09   \n",
       "\n",
       "   p10000_TotalAssets_h1  p10000_TotalAssets_h2  p20000_OwnCapital_h0  \\\n",
       "0           1.236410e+08           1.203290e+08            26618000.0   \n",
       "1           1.339125e+09           1.340260e+09           106833000.0   \n",
       "\n",
       "   p20000_OwnCapital_h1  p20000_OwnCapital_h2  ...  \\\n",
       "0            28385000.0            25436000.0  ...   \n",
       "1           102699000.0            98753000.0  ...   \n",
       "\n",
       "   p40100_40500_SalesTurnover_h0  p40100_40500_SalesTurnover_h1  \\\n",
       "0                     52455000.0                     52574000.0   \n",
       "1                     50321000.0                     46192000.0   \n",
       "\n",
       "   p40100_40500_SalesTurnover_h2  p40800_Amortization_h0  \\\n",
       "0                     55665000.0              -9396000.0   \n",
       "1                     48130000.0                     0.0   \n",
       "\n",
       "   p40800_Amortization_h1  p40800_Amortization_h2  p49100_Profit_h0  \\\n",
       "0              -9649000.0              -9704000.0         6791000.0   \n",
       "1                     0.0                     0.0               0.0   \n",
       "\n",
       "   p49100_Profit_h1  p49100_Profit_h2  detailed_status  \n",
       "0         5469000.0         3525000.0           Activa  \n",
       "1               0.0               0.0                0  \n",
       "\n",
       "[2 rows x 26 columns]"
      ]
     },
     "execution_count": 4,
     "metadata": {},
     "output_type": "execute_result"
    }
   ],
   "source": [
    "import sqlite3\n",
    "conn = sqlite3.connect('datasets/company_balancesheet_database.db')\n",
    "df = pd.read_sql(\"\"\"\n",
    " SELECT *\n",
    "    FROM balancesheet\n",
    "\"\"\", conn)\n",
    "df.head(2)"
   ]
  },
  {
   "cell_type": "markdown",
   "metadata": {
    "id": "aGDLullxfVGp"
   },
   "source": [
    "## import data from HTML directly from a Website!"
   ]
  },
  {
   "cell_type": "code",
   "execution_count": null,
   "metadata": {
    "id": "-FoGGnzafVGp"
   },
   "outputs": [],
   "source": [
    "df = pd.read_html('https://en.wikipedia.org/wiki/Minnesota')"
   ]
  },
  {
   "cell_type": "code",
   "execution_count": null,
   "metadata": {
    "id": "u-8Vy8bgfVGq",
    "outputId": "aaa4bb69-57cb-4903-88bd-e36c438c0e1b"
   },
   "outputs": [
    {
     "data": {
      "text/plain": [
       "list"
      ]
     },
     "execution_count": 6,
     "metadata": {},
     "output_type": "execute_result"
    }
   ],
   "source": [
    "type(df)"
   ]
  },
  {
   "cell_type": "code",
   "execution_count": null,
   "metadata": {
    "id": "00cohUtSfVGq"
   },
   "outputs": [],
   "source": [
    "table_MN = pd.read_html('https://en.wikipedia.org/wiki/Minnesota', match='Election results from statewide races')"
   ]
  },
  {
   "cell_type": "code",
   "execution_count": null,
   "metadata": {
    "id": "Ymzg52QMfVGq",
    "outputId": "227f4faf-2f63-4ee6-8902-e868479c3190"
   },
   "outputs": [
    {
     "data": {
      "text/html": [
       "<div>\n",
       "<style scoped>\n",
       "    .dataframe tbody tr th:only-of-type {\n",
       "        vertical-align: middle;\n",
       "    }\n",
       "\n",
       "    .dataframe tbody tr th {\n",
       "        vertical-align: top;\n",
       "    }\n",
       "\n",
       "    .dataframe thead th {\n",
       "        text-align: right;\n",
       "    }\n",
       "</style>\n",
       "<table border=\"1\" class=\"dataframe\">\n",
       "  <thead>\n",
       "    <tr style=\"text-align: right;\">\n",
       "      <th></th>\n",
       "      <th>Year</th>\n",
       "      <th>Office</th>\n",
       "      <th>GOP</th>\n",
       "      <th>DFL</th>\n",
       "      <th>Others</th>\n",
       "    </tr>\n",
       "  </thead>\n",
       "  <tbody>\n",
       "    <tr>\n",
       "      <th>0</th>\n",
       "      <td>2020</td>\n",
       "      <td>President</td>\n",
       "      <td>45.3%</td>\n",
       "      <td>52.4%</td>\n",
       "      <td>2.3%</td>\n",
       "    </tr>\n",
       "    <tr>\n",
       "      <th>1</th>\n",
       "      <td>2020</td>\n",
       "      <td>Senator</td>\n",
       "      <td>43.5%</td>\n",
       "      <td>48.8%</td>\n",
       "      <td>7.7%</td>\n",
       "    </tr>\n",
       "  </tbody>\n",
       "</table>\n",
       "</div>"
      ],
      "text/plain": [
       "   Year     Office    GOP    DFL Others\n",
       "0  2020  President  45.3%  52.4%   2.3%\n",
       "1  2020    Senator  43.5%  48.8%   7.7%"
      ]
     },
     "execution_count": 8,
     "metadata": {},
     "output_type": "execute_result"
    }
   ],
   "source": [
    "df = table_MN[0]\n",
    "df.head(2)"
   ]
  },
  {
   "cell_type": "markdown",
   "metadata": {
    "id": "L-UF70D3fVGq"
   },
   "source": [
    "## import dataset using pd.read_csv() function"
   ]
  },
  {
   "cell_type": "code",
   "execution_count": null,
   "metadata": {
    "id": "wJO4Df9EfVGq",
    "outputId": "dbb1315e-3624-42ae-980c-9ea07ee2c559"
   },
   "outputs": [
    {
     "data": {
      "text/html": [
       "<div>\n",
       "<style scoped>\n",
       "    .dataframe tbody tr th:only-of-type {\n",
       "        vertical-align: middle;\n",
       "    }\n",
       "\n",
       "    .dataframe tbody tr th {\n",
       "        vertical-align: top;\n",
       "    }\n",
       "\n",
       "    .dataframe thead th {\n",
       "        text-align: right;\n",
       "    }\n",
       "</style>\n",
       "<table border=\"1\" class=\"dataframe\">\n",
       "  <thead>\n",
       "    <tr style=\"text-align: right;\">\n",
       "      <th></th>\n",
       "      <th>ID</th>\n",
       "      <th>group</th>\n",
       "      <th>prewt</th>\n",
       "      <th>postwt</th>\n",
       "      <th>difwt</th>\n",
       "    </tr>\n",
       "  </thead>\n",
       "  <tbody>\n",
       "    <tr>\n",
       "      <th>0</th>\n",
       "      <td>101</td>\n",
       "      <td>1</td>\n",
       "      <td>80.5</td>\n",
       "      <td>82.2</td>\n",
       "      <td>1.7</td>\n",
       "    </tr>\n",
       "    <tr>\n",
       "      <th>1</th>\n",
       "      <td>201</td>\n",
       "      <td>2</td>\n",
       "      <td>80.7</td>\n",
       "      <td>80.2</td>\n",
       "      <td>-0.5</td>\n",
       "    </tr>\n",
       "  </tbody>\n",
       "</table>\n",
       "</div>"
      ],
      "text/plain": [
       "    ID  group  prewt  postwt  difwt\n",
       "0  101      1   80.5    82.2    1.7\n",
       "1  201      2   80.7    80.2   -0.5"
      ]
     },
     "execution_count": 9,
     "metadata": {},
     "output_type": "execute_result"
    }
   ],
   "source": [
    "df = pd.read_csv(\"datasets/anorexia.csv\")\n",
    "df.head(2)"
   ]
  },
  {
   "cell_type": "markdown",
   "metadata": {
    "id": "O_tHHiEKfVGq"
   },
   "source": [
    "---\n",
    "## Exercise\n",
    "\n",
    "Import 2 datasets into 2 different dataframes:\n",
    "* census_train.csv\n",
    "* census_test.csv"
   ]
  },
  {
   "cell_type": "code",
   "execution_count": null,
   "metadata": {
    "id": "bnIUlemYfVGq"
   },
   "outputs": [],
   "source": []
  },
  {
   "cell_type": "code",
   "execution_count": null,
   "metadata": {
    "id": "lF7asGMhfVGq"
   },
   "outputs": [],
   "source": []
  },
  {
   "cell_type": "code",
   "execution_count": null,
   "metadata": {
    "id": "1rKE1dGCfVGr"
   },
   "outputs": [],
   "source": []
  },
  {
   "cell_type": "code",
   "execution_count": null,
   "metadata": {
    "id": "F3oTmy6ffVGr"
   },
   "outputs": [],
   "source": []
  },
  {
   "cell_type": "markdown",
   "metadata": {
    "id": "Qr_VDPJefVGr"
   },
   "source": [
    "---"
   ]
  },
  {
   "cell_type": "markdown",
   "metadata": {
    "id": "tioqu9EAfVGr"
   },
   "source": [
    "# Descriptive statistics\n",
    "\n",
    "Descriptive statistics is the process of describing the sample.\n",
    "For this, centrality measures, dispersion measures, distribution form and outliers are used.\n",
    "Visualizations can also be used to explore and make sense of the data.\n",
    "\n",
    "\n"
   ]
  },
  {
   "cell_type": "markdown",
   "metadata": {
    "id": "jOqfewNJfVGr"
   },
   "source": [
    "## PART 1 - Measures of central tendency"
   ]
  },
  {
   "cell_type": "markdown",
   "metadata": {
    "id": "cVytebnIfVGr"
   },
   "source": [
    "### Mean (Arithmetic Mean or Arithmetic Average)\n",
    "\n",
    "The mean (or average) is the most popular and well-known measure of central tendency. It can be used with both discrete and continuous data, although its use is more frequent with continuous data. The average is equal to the sum of all the values in the data set divided by the number of values in the data set. Therefore, if we have n values in a data set and they have values x1, x2, ..., xn, the mean of the sample, usually denoted by (pronounced x bar):\n",
    "\n",
    "\\begin{equation*}\n",
    "\\overline{x} =\n",
    "\\frac{( x_1 + x_2 + ... + x_n )} {N}\n",
    "\\end{equation*}\n",
    "\n",
    "This formula is usually written in a slightly different way using the Greek capital letter, which is pronounced \"sigma,\" which means \"sum of ...\":\n",
    "\n",
    "\\begin{equation*}\n",
    "\\overline{x} = \\frac{\\left( \\sum_{k=1}^n x_k \\right)} {N}\n",
    "\\end{equation*}\n",
    "\n",
    "You may have noticed that the above formula refers to the sample mean. So why have we called it a sample mean? This is because, in statistics, samples and populations have very different meanings and these differences are very important, even if, in the case of the average, they are calculated in the same way. To recognize that we are calculating the population mean and not the sample mean, we use the lowercase Greek letter \"mu\", indicated as µ:\n",
    "\n",
    "\\begin{equation*}\n",
    "\\mu = \\frac{\\left( \\sum_{k=1}^n x_k \\right)} {N}\n",
    "\\end{equation*}"
   ]
  },
  {
   "cell_type": "markdown",
   "metadata": {
    "id": "tj8gvU_dfVGr"
   },
   "source": [
    "Lets calculate some \"mean\" using Python for the anorexia.csv database"
   ]
  },
  {
   "cell_type": "code",
   "execution_count": null,
   "metadata": {
    "id": "C1CHVn0DfVGr"
   },
   "outputs": [],
   "source": [
    "# import libraries numpy, pandas, and scipy.stats module\n",
    "import numpy as np\n",
    "import pandas as pd\n",
    "import scipy.stats as stats"
   ]
  },
  {
   "cell_type": "code",
   "execution_count": null,
   "metadata": {
    "id": "YEDi4KwMfVGs"
   },
   "outputs": [],
   "source": [
    "# import dataset using pd.read_csv() function\n",
    "df = pd.read_csv(\"datasets/anorexia.csv\")"
   ]
  },
  {
   "cell_type": "code",
   "execution_count": null,
   "metadata": {
    "id": "RZ5UBs0UfVGs",
    "outputId": "d1cecbf2-1ab0-44d7-8110-8a52bb056fa2"
   },
   "outputs": [
    {
     "data": {
      "text/plain": [
       "Index(['ID', 'group', 'prewt', 'postwt', 'difwt'], dtype='object')"
      ]
     },
     "execution_count": 12,
     "metadata": {},
     "output_type": "execute_result"
    }
   ],
   "source": [
    "df.columns"
   ]
  },
  {
   "cell_type": "code",
   "execution_count": null,
   "metadata": {
    "id": "d4l-yPLifVGs",
    "outputId": "c9d34939-1825-4807-8a2f-41f62ce139b3"
   },
   "outputs": [
    {
     "data": {
      "text/plain": [
       "82.40833333333333"
      ]
     },
     "execution_count": 13,
     "metadata": {},
     "output_type": "execute_result"
    }
   ],
   "source": [
    "df.prewt.mean()"
   ]
  },
  {
   "cell_type": "markdown",
   "metadata": {
    "id": "SbB9Ni9PfVGs"
   },
   "source": [
    "__QUESTION FOR DISCUSSION 1__: is the previous __average__ a __population__ or __sample__ average?"
   ]
  },
  {
   "cell_type": "markdown",
   "metadata": {
    "id": "LFR30PlIfVGs"
   },
   "source": [
    "### [Practice 1]: Calculate the average for all variables.\n",
    "\n"
   ]
  },
  {
   "cell_type": "code",
   "execution_count": null,
   "metadata": {
    "id": "XkuNjy2kfVGs"
   },
   "outputs": [],
   "source": []
  },
  {
   "cell_type": "markdown",
   "metadata": {
    "id": "oo5hSfUVfVGs"
   },
   "source": [
    "### Median\n",
    "\n",
    "The median is the medium element for a set of data that have been organized in order of magnitude. The median is less affected by atypical and skewed values. To calculate the median, suppose we have the following data:"
   ]
  },
  {
   "cell_type": "code",
   "execution_count": null,
   "metadata": {
    "id": "RAR3dZ30fVGs",
    "outputId": "9b3c34a1-001b-4f76-d012-8277c7741b7d"
   },
   "outputs": [
    {
     "data": {
      "text/plain": [
       "[80.5, 80.7, 83.8, 84.9, 89.4, 83.3, 81.5, 91.8, 86.0, 82.6, 74.0]"
      ]
     },
     "execution_count": 14,
     "metadata": {},
     "output_type": "execute_result"
    }
   ],
   "source": [
    "list(df.prewt.head(11))"
   ]
  },
  {
   "cell_type": "markdown",
   "metadata": {
    "id": "thXa-1VNfVGt"
   },
   "source": [
    "First we need to reorganize that data in order of magnitude (sort it):"
   ]
  },
  {
   "cell_type": "code",
   "execution_count": null,
   "metadata": {
    "id": "3iYOvSLifVGt",
    "outputId": "cb79ff53-450b-47f5-901f-61739d0923b1"
   },
   "outputs": [
    {
     "name": "stdout",
     "output_type": "stream",
     "text": [
      "[80.5, 80.7, 83.8, 84.9, 89.4, 83.3, 81.5, 91.8, 86.0, 82.6, 74.0]\n"
     ]
    }
   ],
   "source": [
    "a = list(df.prewt.head(11));print(a)"
   ]
  },
  {
   "cell_type": "code",
   "execution_count": null,
   "metadata": {
    "id": "c9gWTDW3fVGt",
    "outputId": "83ff20ee-1fd5-49bd-da02-737712990a30"
   },
   "outputs": [
    {
     "name": "stdout",
     "output_type": "stream",
     "text": [
      "[74.0, 80.5, 80.7, 81.5, 82.6, 83.3, 83.8, 84.9, 86.0, 89.4, 91.8]\n"
     ]
    }
   ],
   "source": [
    "a.sort();print(a)"
   ]
  },
  {
   "cell_type": "markdown",
   "metadata": {
    "id": "UBFab0SXfVGt"
   },
   "source": [
    "Our median is center value, in this case, 83.3. \n",
    "\n",
    "It is the central value because there are exactly 5 scores before and 5 scores after."
   ]
  },
  {
   "cell_type": "code",
   "execution_count": null,
   "metadata": {
    "id": "mlhMjv-TfVGt",
    "outputId": "e1f792f4-9594-45c6-efe7-b57c611f3614"
   },
   "outputs": [
    {
     "data": {
      "text/plain": [
       "83.3"
      ]
     },
     "execution_count": 17,
     "metadata": {},
     "output_type": "execute_result"
    }
   ],
   "source": [
    "a[5]"
   ]
  },
  {
   "cell_type": "markdown",
   "metadata": {
    "id": "OhaN1HXrfVGt"
   },
   "source": [
    "__QUESTION FOR DISCUSSION 2__: is the previous the __median__ for the __population__ or for a __sample__?"
   ]
  },
  {
   "cell_type": "markdown",
   "metadata": {
    "id": "sEc3GuzgfVGt"
   },
   "source": [
    "---"
   ]
  },
  {
   "cell_type": "markdown",
   "metadata": {
    "id": "dK0BY--OfVGt"
   },
   "source": [
    "Using __Numpy__ we can see that the calculation of the median works well and gives us the same result ;-)"
   ]
  },
  {
   "cell_type": "code",
   "execution_count": null,
   "metadata": {
    "id": "w51WyfCWfVGt",
    "outputId": "06a3fbc4-5079-4cd4-e732-da8cea4b8e70"
   },
   "outputs": [
    {
     "name": "stdout",
     "output_type": "stream",
     "text": [
      "list of original first 11 elements =  [80.5, 80.7, 83.8, 84.9, 89.4, 83.3, 81.5, 91.8, 86.0, 82.6, 74.0]\n",
      "sorted list of original first 11 elements =  [74.0, 80.5, 80.7, 81.5, 82.6, 83.3, 83.8, 84.9, 86.0, 89.4, 91.8]\n",
      "median using NumPy =  83.3\n"
     ]
    }
   ],
   "source": [
    "a = list(df.prewt.head(11))\n",
    "print(\"list of original first 11 elements = \",a)\n",
    "a.sort()\n",
    "print(\"sorted list of original first 11 elements = \",a)\n",
    "print(\"median using NumPy = \",np.median(a))"
   ]
  },
  {
   "cell_type": "markdown",
   "metadata": {
    "id": "13iXZgpbfVGt"
   },
   "source": [
    "Now lets use __Pandas__, which uses Numpy behind the scene, and we get the same result!"
   ]
  },
  {
   "cell_type": "code",
   "execution_count": null,
   "metadata": {
    "id": "o1MS5qCCfVGu",
    "outputId": "ced2172d-f608-42d8-f8ee-8b3625bc5f86"
   },
   "outputs": [
    {
     "name": "stdout",
     "output_type": "stream",
     "text": [
      "median using Pandas, which uses Numpy behind the scence =  83.3\n"
     ]
    }
   ],
   "source": [
    "print(\"median using Pandas, which uses Numpy behind the scence = \",df.prewt.head(11).median())"
   ]
  },
  {
   "cell_type": "markdown",
   "metadata": {
    "id": "hiTg0sp2fVGu"
   },
   "source": [
    "---"
   ]
  },
  {
   "cell_type": "markdown",
   "metadata": {
    "id": "lZViKwqXfVGu"
   },
   "source": [
    "The previous calcualtion works well when we have an odd number of values! But what happens when you have an even number of values? \n",
    "\n",
    "__What if you only had 10 scores?__ Well, you just have to take the average of the two central values. Lets look into the following example:\n"
   ]
  },
  {
   "cell_type": "code",
   "execution_count": null,
   "metadata": {
    "id": "6bX1siHVfVGu",
    "outputId": "b166bcb6-955c-46c6-ce54-7ba1c96e21b4"
   },
   "outputs": [
    {
     "name": "stdout",
     "output_type": "stream",
     "text": [
      "[80.5, 80.7, 83.8, 84.9, 89.4, 83.3, 81.5, 91.8, 86.0, 82.6]\n"
     ]
    }
   ],
   "source": [
    "a = list(df.prewt.head(10));print(a)"
   ]
  },
  {
   "cell_type": "code",
   "execution_count": null,
   "metadata": {
    "id": "Jk6zjHBsfVGu",
    "outputId": "4e0db5d4-e4a2-4d28-c6cc-0ecf2a5a77f1"
   },
   "outputs": [
    {
     "name": "stdout",
     "output_type": "stream",
     "text": [
      "[80.5, 80.7, 81.5, 82.6, 83.3, 83.8, 84.9, 86.0, 89.4, 91.8]\n"
     ]
    }
   ],
   "source": [
    "a.sort();print(a)"
   ]
  },
  {
   "cell_type": "code",
   "execution_count": null,
   "metadata": {
    "id": "J5sop6TQfVGu",
    "outputId": "66271e14-f554-460b-9703-6a873c6be0ad"
   },
   "outputs": [
    {
     "data": {
      "text/plain": [
       "83.55"
      ]
     },
     "execution_count": 22,
     "metadata": {},
     "output_type": "execute_result"
    }
   ],
   "source": [
    "(a[4] + a[5])/2"
   ]
  },
  {
   "cell_type": "markdown",
   "metadata": {
    "id": "soweD3IyfVGu"
   },
   "source": [
    "In __Numpy__ we can see that the calculation also works the same way when we have an even number of observations."
   ]
  },
  {
   "cell_type": "code",
   "execution_count": null,
   "metadata": {
    "id": "JwOxquL-fVGu",
    "outputId": "8e458906-2f66-43cb-a052-782bee340a71"
   },
   "outputs": [
    {
     "name": "stdout",
     "output_type": "stream",
     "text": [
      "list of original first 11 elements =  [80.5, 80.7, 83.8, 84.9, 89.4, 83.3, 81.5, 91.8, 86.0, 82.6]\n",
      "sorted list of original first 11 elements =  [80.5, 80.7, 81.5, 82.6, 83.3, 83.8, 84.9, 86.0, 89.4, 91.8]\n",
      "median using NumPy =  83.55\n"
     ]
    }
   ],
   "source": [
    "a = list(df.prewt.head(10))\n",
    "print(\"list of original first 11 elements = \",a)\n",
    "a.sort()\n",
    "print(\"sorted list of original first 11 elements = \",a)\n",
    "print(\"median using NumPy = \",np.median(a))"
   ]
  },
  {
   "cell_type": "markdown",
   "metadata": {
    "id": "UxQfWLTRfVGu"
   },
   "source": [
    "Now lets use __Pandas__, which uses Numpy behind the scene, and we get the same result!"
   ]
  },
  {
   "cell_type": "code",
   "execution_count": null,
   "metadata": {
    "id": "VchSfidrfVGu",
    "outputId": "bb08010c-2cac-40bb-efab-949cd4a160ff"
   },
   "outputs": [
    {
     "name": "stdout",
     "output_type": "stream",
     "text": [
      "median using Pandas, which uses Numpy behind the scene =  83.55\n"
     ]
    }
   ],
   "source": [
    "print(\"median using Pandas, which uses Numpy behind the scene = \",df.prewt.head(10).median())"
   ]
  },
  {
   "cell_type": "markdown",
   "metadata": {
    "id": "p-kIqz17fVGv"
   },
   "source": [
    "### [Practice 2]: Calculate the median for all variables and for all data.\n",
    "\n"
   ]
  },
  {
   "cell_type": "code",
   "execution_count": null,
   "metadata": {
    "id": "X9XaVLy-fVGv"
   },
   "outputs": [],
   "source": []
  },
  {
   "cell_type": "markdown",
   "metadata": {
    "id": "6YMk392wfVGv"
   },
   "source": [
    "---"
   ]
  },
  {
   "cell_type": "markdown",
   "metadata": {
    "id": "9_IR3LeKfVGv"
   },
   "source": [
    "## Mode\n",
    "\n",
    "The mode is the most frequent value in our data set. Mode does not make much sense for continuous numerical values, it is used for __categorical__ data where we want to know what is the most common category. In our examples data we can look at the categorical field __group__"
   ]
  },
  {
   "cell_type": "code",
   "execution_count": null,
   "metadata": {
    "id": "7vr75NYKfVGv",
    "outputId": "b98a3c10-212d-4874-a9af-9eaeeaf155f0"
   },
   "outputs": [
    {
     "data": {
      "text/plain": [
       "0    1\n",
       "1    2\n",
       "2    3\n",
       "3    1\n",
       "4    2\n",
       "Name: group, dtype: int64"
      ]
     },
     "execution_count": 25,
     "metadata": {},
     "output_type": "execute_result"
    }
   ],
   "source": [
    "df.group.head()"
   ]
  },
  {
   "cell_type": "markdown",
   "metadata": {
    "id": "0g26wpc3fVGv"
   },
   "source": [
    "One can see below that applying mode to the dataframe generates meaningless results"
   ]
  },
  {
   "cell_type": "code",
   "execution_count": null,
   "metadata": {
    "id": "4WGWgSJWfVGv",
    "outputId": "cec41571-ddd7-43d7-ec8b-523e1e8ea4de"
   },
   "outputs": [
    {
     "data": {
      "text/html": [
       "<div>\n",
       "<style scoped>\n",
       "    .dataframe tbody tr th:only-of-type {\n",
       "        vertical-align: middle;\n",
       "    }\n",
       "\n",
       "    .dataframe tbody tr th {\n",
       "        vertical-align: top;\n",
       "    }\n",
       "\n",
       "    .dataframe thead th {\n",
       "        text-align: right;\n",
       "    }\n",
       "</style>\n",
       "<table border=\"1\" class=\"dataframe\">\n",
       "  <thead>\n",
       "    <tr style=\"text-align: right;\">\n",
       "      <th></th>\n",
       "      <th>ID</th>\n",
       "      <th>group</th>\n",
       "      <th>prewt</th>\n",
       "      <th>postwt</th>\n",
       "      <th>difwt</th>\n",
       "    </tr>\n",
       "  </thead>\n",
       "  <tbody>\n",
       "    <tr>\n",
       "      <th>0</th>\n",
       "      <td>101</td>\n",
       "      <td>1.0</td>\n",
       "      <td>80.5</td>\n",
       "      <td>81.4</td>\n",
       "      <td>-10.2</td>\n",
       "    </tr>\n",
       "    <tr>\n",
       "      <th>1</th>\n",
       "      <td>102</td>\n",
       "      <td>NaN</td>\n",
       "      <td>83.3</td>\n",
       "      <td>NaN</td>\n",
       "      <td>-0.7</td>\n",
       "    </tr>\n",
       "    <tr>\n",
       "      <th>2</th>\n",
       "      <td>103</td>\n",
       "      <td>NaN</td>\n",
       "      <td>86.0</td>\n",
       "      <td>NaN</td>\n",
       "      <td>-0.1</td>\n",
       "    </tr>\n",
       "    <tr>\n",
       "      <th>3</th>\n",
       "      <td>104</td>\n",
       "      <td>NaN</td>\n",
       "      <td>NaN</td>\n",
       "      <td>NaN</td>\n",
       "      <td>3.9</td>\n",
       "    </tr>\n",
       "    <tr>\n",
       "      <th>4</th>\n",
       "      <td>105</td>\n",
       "      <td>NaN</td>\n",
       "      <td>NaN</td>\n",
       "      <td>NaN</td>\n",
       "      <td>NaN</td>\n",
       "    </tr>\n",
       "    <tr>\n",
       "      <th>...</th>\n",
       "      <td>...</td>\n",
       "      <td>...</td>\n",
       "      <td>...</td>\n",
       "      <td>...</td>\n",
       "      <td>...</td>\n",
       "    </tr>\n",
       "    <tr>\n",
       "      <th>67</th>\n",
       "      <td>313</td>\n",
       "      <td>NaN</td>\n",
       "      <td>NaN</td>\n",
       "      <td>NaN</td>\n",
       "      <td>NaN</td>\n",
       "    </tr>\n",
       "    <tr>\n",
       "      <th>68</th>\n",
       "      <td>314</td>\n",
       "      <td>NaN</td>\n",
       "      <td>NaN</td>\n",
       "      <td>NaN</td>\n",
       "      <td>NaN</td>\n",
       "    </tr>\n",
       "    <tr>\n",
       "      <th>69</th>\n",
       "      <td>315</td>\n",
       "      <td>NaN</td>\n",
       "      <td>NaN</td>\n",
       "      <td>NaN</td>\n",
       "      <td>NaN</td>\n",
       "    </tr>\n",
       "    <tr>\n",
       "      <th>70</th>\n",
       "      <td>316</td>\n",
       "      <td>NaN</td>\n",
       "      <td>NaN</td>\n",
       "      <td>NaN</td>\n",
       "      <td>NaN</td>\n",
       "    </tr>\n",
       "    <tr>\n",
       "      <th>71</th>\n",
       "      <td>317</td>\n",
       "      <td>NaN</td>\n",
       "      <td>NaN</td>\n",
       "      <td>NaN</td>\n",
       "      <td>NaN</td>\n",
       "    </tr>\n",
       "  </tbody>\n",
       "</table>\n",
       "<p>72 rows × 5 columns</p>\n",
       "</div>"
      ],
      "text/plain": [
       "     ID  group  prewt  postwt  difwt\n",
       "0   101    1.0   80.5    81.4  -10.2\n",
       "1   102    NaN   83.3     NaN   -0.7\n",
       "2   103    NaN   86.0     NaN   -0.1\n",
       "3   104    NaN    NaN     NaN    3.9\n",
       "4   105    NaN    NaN     NaN    NaN\n",
       "..  ...    ...    ...     ...    ...\n",
       "67  313    NaN    NaN     NaN    NaN\n",
       "68  314    NaN    NaN     NaN    NaN\n",
       "69  315    NaN    NaN     NaN    NaN\n",
       "70  316    NaN    NaN     NaN    NaN\n",
       "71  317    NaN    NaN     NaN    NaN\n",
       "\n",
       "[72 rows x 5 columns]"
      ]
     },
     "execution_count": 26,
     "metadata": {},
     "output_type": "execute_result"
    }
   ],
   "source": [
    "df.mode()"
   ]
  },
  {
   "cell_type": "markdown",
   "metadata": {
    "id": "D0A3UJQKfVGv"
   },
   "source": [
    "To calculate the mode in Pandas (via Numpy), we simply use .mode()"
   ]
  },
  {
   "cell_type": "code",
   "execution_count": null,
   "metadata": {
    "id": "MohTnkVNfVGv",
    "outputId": "89968717-ddee-400a-f3a3-5835e09edc11"
   },
   "outputs": [
    {
     "data": {
      "text/plain": [
       "0    1\n",
       "Name: group, dtype: int64"
      ]
     },
     "execution_count": 27,
     "metadata": {},
     "output_type": "execute_result"
    }
   ],
   "source": [
    "df.group.mode()"
   ]
  },
  {
   "cell_type": "markdown",
   "metadata": {
    "id": "cV8YdDlcfVGw"
   },
   "source": [
    "__Bad!__, is it not? Luckly we have __value_counts()__ method!!!"
   ]
  },
  {
   "cell_type": "code",
   "execution_count": null,
   "metadata": {
    "id": "8qU0-4PWfVGw",
    "outputId": "428ac127-e83d-4414-e934-105866c81ee6"
   },
   "outputs": [
    {
     "data": {
      "text/plain": [
       "1    29\n",
       "2    26\n",
       "3    17\n",
       "Name: group, dtype: int64"
      ]
     },
     "execution_count": 28,
     "metadata": {},
     "output_type": "execute_result"
    }
   ],
   "source": [
    "df.group.value_counts() "
   ]
  },
  {
   "cell_type": "markdown",
   "metadata": {
    "id": "Ap87JJ5cfVGw"
   },
   "source": [
    "Now, to continue analyzing mode, it would be a good idea to understand a little more about our database and mainly the __group__ column. According to https://stat.ethz.ch/R-manual/R-devel/library/MASS/html/anorexia.html, our database anorexia.csv weight change data for young patients with female anorexia.\n",
    "This dataset contains the recorded weights of anorexic patients before and after a treatment.\n",
    "\n",
    "* Group 1: Behavioural therapy\n",
    "* Group 2: Control group\n",
    "* Group 3: Family therapy\n",
    "\n",
    "The Prewt column\n",
    "\n",
    "      Indicates the patient's weight before the study period, in pounds.\n",
    "\n",
    "Postwt\n",
    "\n",
    "      Indicates the patient's weight after the study period, in pounds."
   ]
  },
  {
   "cell_type": "markdown",
   "metadata": {
    "id": "vXEKxCjffVGw"
   },
   "source": [
    "__QUESTION FOR DISCUSSION 3__: What does the previous result mean?"
   ]
  },
  {
   "cell_type": "markdown",
   "metadata": {
    "id": "ajuBNWg2fVGw"
   },
   "source": [
    "---"
   ]
  },
  {
   "cell_type": "markdown",
   "metadata": {
    "id": "yTY99I_WfVGw"
   },
   "source": [
    "It ends up being easier to see this result, if instead of using mode, we directly draw a __frequency table__ and a __histogram graph__ by group."
   ]
  },
  {
   "cell_type": "markdown",
   "metadata": {
    "id": "qIdNLthefVGw"
   },
   "source": [
    "### Frequency table"
   ]
  },
  {
   "cell_type": "code",
   "execution_count": null,
   "metadata": {
    "id": "Efq-8KrffVGw",
    "outputId": "73a0720a-1256-454e-8717-d5f5404f8eb4"
   },
   "outputs": [
    {
     "data": {
      "text/html": [
       "<div>\n",
       "<style scoped>\n",
       "    .dataframe tbody tr th:only-of-type {\n",
       "        vertical-align: middle;\n",
       "    }\n",
       "\n",
       "    .dataframe tbody tr th {\n",
       "        vertical-align: top;\n",
       "    }\n",
       "\n",
       "    .dataframe thead th {\n",
       "        text-align: right;\n",
       "    }\n",
       "</style>\n",
       "<table border=\"1\" class=\"dataframe\">\n",
       "  <thead>\n",
       "    <tr style=\"text-align: right;\">\n",
       "      <th></th>\n",
       "      <th>ID</th>\n",
       "    </tr>\n",
       "    <tr>\n",
       "      <th>group</th>\n",
       "      <th></th>\n",
       "    </tr>\n",
       "  </thead>\n",
       "  <tbody>\n",
       "    <tr>\n",
       "      <th>1</th>\n",
       "      <td>29</td>\n",
       "    </tr>\n",
       "    <tr>\n",
       "      <th>2</th>\n",
       "      <td>26</td>\n",
       "    </tr>\n",
       "    <tr>\n",
       "      <th>3</th>\n",
       "      <td>17</td>\n",
       "    </tr>\n",
       "  </tbody>\n",
       "</table>\n",
       "</div>"
      ],
      "text/plain": [
       "       ID\n",
       "group    \n",
       "1      29\n",
       "2      26\n",
       "3      17"
      ]
     },
     "execution_count": 29,
     "metadata": {},
     "output_type": "execute_result"
    }
   ],
   "source": [
    "df[['group','ID']].groupby(['group']).count()"
   ]
  },
  {
   "cell_type": "code",
   "execution_count": null,
   "metadata": {
    "id": "nzyOPTvCfVGw"
   },
   "outputs": [],
   "source": []
  },
  {
   "cell_type": "markdown",
   "metadata": {
    "id": "2zvFxnC0fVGw"
   },
   "source": [
    "### Histogram graph"
   ]
  },
  {
   "cell_type": "markdown",
   "metadata": {
    "id": "hMkWNIAtfVGx"
   },
   "source": [
    "To draw the histogram we will use .hist of Pandas, .hist uses methods from Matplotlib. if we call __df.hist(column='group')__ straight away, the graph may not appear, that is because the default behaviour of Matplotlib in a Notebook is returning an object with the graph instead of drawing it."
   ]
  },
  {
   "cell_type": "code",
   "execution_count": null,
   "metadata": {
    "id": "4JqfPFZDfVGx",
    "outputId": "f435a432-400a-4133-9d85-78d8fafb0c59"
   },
   "outputs": [
    {
     "data": {
      "text/plain": [
       "array([[<AxesSubplot:title={'center':'group'}>]], dtype=object)"
      ]
     },
     "execution_count": 30,
     "metadata": {},
     "output_type": "execute_result"
    },
    {
     "data": {
      "image/png": "[encoded data removed]",
      "text/plain": [
       "<Figure size 432x288 with 1 Axes>"
      ]
     },
     "metadata": {
      "needs_background": "light"
     },
     "output_type": "display_data"
    }
   ],
   "source": [
    "df.hist(column='group')"
   ]
  },
  {
   "cell_type": "markdown",
   "metadata": {
    "id": "wJtDL0qqfVGx"
   },
   "source": [
    "Therefore, it is a good idea to include:\n",
    "\n",
    "    * %matplotlib inline\n",
    "\n",
    "In Notebook the symbol \"%\" represent a magic script or magic function.\n",
    "in this case, matplotlib inline invoke a magic script that changes the default to render/plot the figure in the notebook instead of only dumping the figure as an object."
   ]
  },
  {
   "cell_type": "code",
   "execution_count": null,
   "metadata": {
    "id": "C7D0sBHtfVGx"
   },
   "outputs": [],
   "source": [
    "%matplotlib inline"
   ]
  },
  {
   "cell_type": "code",
   "execution_count": null,
   "metadata": {
    "id": "p-k9Qf4JfVGx",
    "outputId": "2263889c-fdaf-49d9-b54b-8889ef58d65b"
   },
   "outputs": [
    {
     "data": {
      "text/plain": [
       "array([[<AxesSubplot:title={'center':'group'}>]], dtype=object)"
      ]
     },
     "execution_count": 32,
     "metadata": {},
     "output_type": "execute_result"
    },
    {
     "data": {
      "image/png": "[encoded data removed]",
      "text/plain": [
       "<Figure size 432x288 with 1 Axes>"
      ]
     },
     "metadata": {
      "needs_background": "light"
     },
     "output_type": "display_data"
    }
   ],
   "source": [
    "df.hist(column='group')"
   ]
  },
  {
   "cell_type": "markdown",
   "metadata": {
    "id": "LJ_GuKpSfVGx"
   },
   "source": [
    "### When the categorical variable is not numeric (text for example), we can use values_counts trick to build the histogram:"
   ]
  },
  {
   "cell_type": "code",
   "execution_count": null,
   "metadata": {
    "id": "NXiKLr9xfVGx",
    "outputId": "26f7b386-7275-4c31-ff4b-2056e0550c28"
   },
   "outputs": [
    {
     "data": {
      "text/plain": [
       "<AxesSubplot:>"
      ]
     },
     "execution_count": 33,
     "metadata": {},
     "output_type": "execute_result"
    },
    {
     "data": {
      "image/png": "[encoded data removed]",
      "text/plain": [
       "<Figure size 432x288 with 1 Axes>"
      ]
     },
     "metadata": {
      "needs_background": "light"
     },
     "output_type": "display_data"
    }
   ],
   "source": [
    "df['group'].value_counts().plot(kind='bar')"
   ]
  },
  {
   "cell_type": "markdown",
   "metadata": {
    "id": "RZN-VdWHfVGx"
   },
   "source": [
    "So it looks better that group 1 has more cases, followed by group 2 and then 3, right?"
   ]
  },
  {
   "cell_type": "markdown",
   "metadata": {
    "id": "Uo8iXDyifVGx"
   },
   "source": [
    "---"
   ]
  },
  {
   "cell_type": "markdown",
   "metadata": {
    "id": "QryyqxrVfVGx"
   },
   "source": [
    "__QUESTION FOR DISCUSSION 4__: What information can we get from the average, the median and the mode below?"
   ]
  },
  {
   "cell_type": "code",
   "execution_count": null,
   "metadata": {
    "id": "PLeXwaeVfVGx",
    "outputId": "0c0d9f96-4fa1-4bec-9329-6aec0e7e52aa"
   },
   "outputs": [
    {
     "data": {
      "text/plain": [
       "ID        197.736111\n",
       "group       1.833333\n",
       "prewt      82.408333\n",
       "postwt     85.172222\n",
       "difwt       2.763889\n",
       "dtype: float64"
      ]
     },
     "execution_count": 34,
     "metadata": {},
     "output_type": "execute_result"
    }
   ],
   "source": [
    "df.mean()"
   ]
  },
  {
   "cell_type": "code",
   "execution_count": null,
   "metadata": {
    "id": "NQUUkddbfVGx",
    "outputId": "af7db543-d4e9-4cd1-bb26-4a0e911c627e"
   },
   "outputs": [
    {
     "data": {
      "text/plain": [
       "ID        208.50\n",
       "group       2.00\n",
       "prewt      82.30\n",
       "postwt     84.05\n",
       "difwt       1.65\n",
       "dtype: float64"
      ]
     },
     "execution_count": 35,
     "metadata": {},
     "output_type": "execute_result"
    }
   ],
   "source": [
    "df.median()"
   ]
  },
  {
   "cell_type": "code",
   "execution_count": null,
   "metadata": {
    "id": "SEm-rJaUfVGx",
    "outputId": "01080213-a72e-41d2-b5bc-6b94ab408932"
   },
   "outputs": [
    {
     "data": {
      "text/plain": [
       "0    1\n",
       "Name: group, dtype: int64"
      ]
     },
     "execution_count": 36,
     "metadata": {},
     "output_type": "execute_result"
    }
   ],
   "source": [
    "df.group.mode()"
   ]
  },
  {
   "cell_type": "markdown",
   "metadata": {
    "id": "s_A9xHQkfVGx"
   },
   "source": [
    "---"
   ]
  },
  {
   "cell_type": "markdown",
   "metadata": {
    "id": "IpPuuvqzfVGy"
   },
   "source": [
    "In isolation, these metrics say little about our data, but if we apply these metrics in groups 1, 2 and 3 our analysis begins to get interesting."
   ]
  },
  {
   "cell_type": "code",
   "execution_count": null,
   "metadata": {
    "id": "AFBOgPM7fVGy",
    "outputId": "131d712b-58d5-4a08-fd8d-a2a230e859e7"
   },
   "outputs": [
    {
     "data": {
      "text/html": [
       "<div>\n",
       "<style scoped>\n",
       "    .dataframe tbody tr th:only-of-type {\n",
       "        vertical-align: middle;\n",
       "    }\n",
       "\n",
       "    .dataframe tbody tr th {\n",
       "        vertical-align: top;\n",
       "    }\n",
       "\n",
       "    .dataframe thead th {\n",
       "        text-align: right;\n",
       "    }\n",
       "</style>\n",
       "<table border=\"1\" class=\"dataframe\">\n",
       "  <thead>\n",
       "    <tr style=\"text-align: right;\">\n",
       "      <th></th>\n",
       "      <th>difwt</th>\n",
       "    </tr>\n",
       "    <tr>\n",
       "      <th>group</th>\n",
       "      <th></th>\n",
       "    </tr>\n",
       "  </thead>\n",
       "  <tbody>\n",
       "    <tr>\n",
       "      <th>1</th>\n",
       "      <td>3.006897</td>\n",
       "    </tr>\n",
       "    <tr>\n",
       "      <th>2</th>\n",
       "      <td>-0.450000</td>\n",
       "    </tr>\n",
       "    <tr>\n",
       "      <th>3</th>\n",
       "      <td>7.264706</td>\n",
       "    </tr>\n",
       "  </tbody>\n",
       "</table>\n",
       "</div>"
      ],
      "text/plain": [
       "          difwt\n",
       "group          \n",
       "1      3.006897\n",
       "2     -0.450000\n",
       "3      7.264706"
      ]
     },
     "execution_count": 37,
     "metadata": {},
     "output_type": "execute_result"
    }
   ],
   "source": [
    "df[['difwt','group']].groupby(['group']).mean()"
   ]
  },
  {
   "cell_type": "markdown",
   "metadata": {
    "id": "TBdRHGn-fVGy"
   },
   "source": [
    "__QUESTION FOR DISCUSSION 5__: What information can we get from the mean (average) by group (that is, by 1-Individual, 2-Control and 3-Family treatment)? What treatment seems to work best?"
   ]
  },
  {
   "cell_type": "markdown",
   "metadata": {
    "id": "anNkTXnFfVGy"
   },
   "source": [
    "---"
   ]
  },
  {
   "cell_type": "markdown",
   "metadata": {
    "id": "mm6RYgvDfVGy"
   },
   "source": [
    "Well, to be sure about our analysis with the measures of central tendency. We need to know the measures of spread of our population."
   ]
  },
  {
   "cell_type": "markdown",
   "metadata": {
    "id": "QirNBV-ofVGy"
   },
   "source": [
    "---"
   ]
  },
  {
   "cell_type": "markdown",
   "metadata": {
    "id": "TH1jVbb4fVGy"
   },
   "source": [
    "## PART 2 - Measure of Spread"
   ]
  },
  {
   "cell_type": "markdown",
   "metadata": {
    "id": "Cjw8NtAYfVGy"
   },
   "source": [
    "### Min\n",
    "\n",
    "The min represents the smallest value in a data set. Then we calculate the range as:\n",
    "\n",
    "\\begin{equation*}\n",
    "Min = [Minimum value]\n",
    "\\end{equation*}"
   ]
  },
  {
   "cell_type": "markdown",
   "metadata": {
    "id": "hBwpNe8UfVGy"
   },
   "source": [
    "Let's take again the example of the first 11 values of our variable weight __prewt__ that we know indicates the weight of the patient before the study period, in pounds."
   ]
  },
  {
   "cell_type": "code",
   "execution_count": null,
   "metadata": {
    "id": "kfFEBHlqfVGy",
    "outputId": "9ea75a02-1eb8-4191-fed1-53b18578aef0"
   },
   "outputs": [
    {
     "name": "stdout",
     "output_type": "stream",
     "text": [
      "[80.5, 80.7, 83.8, 84.9, 89.4, 83.3, 81.5, 91.8, 86.0, 82.6, 74.0]\n"
     ]
    }
   ],
   "source": [
    "a = list(df.prewt.head(11));print(a)"
   ]
  },
  {
   "cell_type": "code",
   "execution_count": null,
   "metadata": {
    "id": "1bH81HImfVGy",
    "outputId": "de70432e-f9d9-46d2-8414-879cf45f5840"
   },
   "outputs": [
    {
     "data": {
      "text/plain": [
       "74.0"
      ]
     },
     "execution_count": 39,
     "metadata": {},
     "output_type": "execute_result"
    }
   ],
   "source": [
    "min(a)"
   ]
  },
  {
   "cell_type": "markdown",
   "metadata": {
    "id": "k1ulUSSXfVGy"
   },
   "source": [
    "### Max\n",
    "\n",
    "The max represents the biggest value in a data set. Then we calculate the range as:\n",
    "\n",
    "\\begin{equation*}\n",
    "Max = [Maximum Value]\n",
    "\\end{equation*}"
   ]
  },
  {
   "cell_type": "code",
   "execution_count": null,
   "metadata": {
    "id": "vBWyoNd_fVGy",
    "outputId": "10057b6e-17bd-402a-a576-eae69a238bc3"
   },
   "outputs": [
    {
     "data": {
      "text/plain": [
       "91.8"
      ]
     },
     "execution_count": 40,
     "metadata": {},
     "output_type": "execute_result"
    }
   ],
   "source": [
    "max(a)"
   ]
  },
  {
   "cell_type": "markdown",
   "metadata": {
    "id": "0Q2jZxjFfVGy"
   },
   "source": [
    "### Range"
   ]
  },
  {
   "cell_type": "markdown",
   "metadata": {
    "id": "2wrIGE7afVGy"
   },
   "source": [
    "The range has 2 common intepretation:\n",
    "\n",
    "1. the difference between the biggest and the smallest value\n",
    "2. the array [smallest, biggest]\n",
    "\n"
   ]
  },
  {
   "cell_type": "markdown",
   "metadata": {
    "id": "qo3kx8f-fVGz"
   },
   "source": [
    "For 1, we calculate the range as:\n",
    "\\begin{equation*}\n",
    "Range = [Manimum Value] - [Minimum Value]\n",
    "\\end{equation*}"
   ]
  },
  {
   "cell_type": "markdown",
   "metadata": {
    "id": "B8JZWk1yfVGz"
   },
   "source": [
    "Which means:"
   ]
  },
  {
   "cell_type": "code",
   "execution_count": null,
   "metadata": {
    "id": "Qj_QVDmkfVGz",
    "outputId": "d709ff6e-7410-4539-b8b1-d6d57e5bd8a8"
   },
   "outputs": [
    {
     "data": {
      "text/plain": [
       "17.799999999999997"
      ]
     },
     "execution_count": 41,
     "metadata": {},
     "output_type": "execute_result"
    }
   ],
   "source": [
    "max(a)-min(a)"
   ]
  },
  {
   "cell_type": "markdown",
   "metadata": {
    "id": "rAEtNuMefVGz"
   },
   "source": [
    "For 2, we calculate the range as:\n",
    "\\begin{equation*}\n",
    "Range = [Minimum Value,Maximum Value]\n",
    "\\end{equation*}"
   ]
  },
  {
   "cell_type": "markdown",
   "metadata": {
    "id": "99U-yWVZfVGz"
   },
   "source": [
    "Calculating the range in Pandas (via numpy) for all variables."
   ]
  },
  {
   "cell_type": "code",
   "execution_count": null,
   "metadata": {
    "id": "3rbHE_o5fVGz",
    "outputId": "b3ef49bc-852c-4c24-f34a-e4bd722c71cb"
   },
   "outputs": [
    {
     "data": {
      "text/html": [
       "<div>\n",
       "<style scoped>\n",
       "    .dataframe tbody tr th:only-of-type {\n",
       "        vertical-align: middle;\n",
       "    }\n",
       "\n",
       "    .dataframe tbody tr th {\n",
       "        vertical-align: top;\n",
       "    }\n",
       "\n",
       "    .dataframe thead th {\n",
       "        text-align: right;\n",
       "    }\n",
       "</style>\n",
       "<table border=\"1\" class=\"dataframe\">\n",
       "  <thead>\n",
       "    <tr style=\"text-align: right;\">\n",
       "      <th></th>\n",
       "      <th>ID</th>\n",
       "      <th>prewt</th>\n",
       "      <th>postwt</th>\n",
       "      <th>difwt</th>\n",
       "    </tr>\n",
       "    <tr>\n",
       "      <th>group</th>\n",
       "      <th></th>\n",
       "      <th></th>\n",
       "      <th></th>\n",
       "      <th></th>\n",
       "    </tr>\n",
       "  </thead>\n",
       "  <tbody>\n",
       "    <tr>\n",
       "      <th>1</th>\n",
       "      <td>227</td>\n",
       "      <td>94.9</td>\n",
       "      <td>103.6</td>\n",
       "      <td>20.9</td>\n",
       "    </tr>\n",
       "    <tr>\n",
       "      <th>2</th>\n",
       "      <td>226</td>\n",
       "      <td>91.8</td>\n",
       "      <td>89.6</td>\n",
       "      <td>15.9</td>\n",
       "    </tr>\n",
       "    <tr>\n",
       "      <th>3</th>\n",
       "      <td>317</td>\n",
       "      <td>94.2</td>\n",
       "      <td>101.6</td>\n",
       "      <td>21.5</td>\n",
       "    </tr>\n",
       "  </tbody>\n",
       "</table>\n",
       "</div>"
      ],
      "text/plain": [
       "        ID  prewt  postwt  difwt\n",
       "group                           \n",
       "1      227   94.9   103.6   20.9\n",
       "2      226   91.8    89.6   15.9\n",
       "3      317   94.2   101.6   21.5"
      ]
     },
     "execution_count": 42,
     "metadata": {},
     "output_type": "execute_result"
    }
   ],
   "source": [
    "df.groupby(['group']).max()"
   ]
  },
  {
   "cell_type": "code",
   "execution_count": null,
   "metadata": {
    "id": "QxDRK_DbfVGz",
    "outputId": "23458b86-6471-4204-c5d4-67483b1cccae"
   },
   "outputs": [
    {
     "data": {
      "text/html": [
       "<div>\n",
       "<style scoped>\n",
       "    .dataframe tbody tr th:only-of-type {\n",
       "        vertical-align: middle;\n",
       "    }\n",
       "\n",
       "    .dataframe tbody tr th {\n",
       "        vertical-align: top;\n",
       "    }\n",
       "\n",
       "    .dataframe thead th {\n",
       "        text-align: right;\n",
       "    }\n",
       "</style>\n",
       "<table border=\"1\" class=\"dataframe\">\n",
       "  <thead>\n",
       "    <tr style=\"text-align: right;\">\n",
       "      <th></th>\n",
       "      <th>ID</th>\n",
       "      <th>prewt</th>\n",
       "      <th>postwt</th>\n",
       "      <th>difwt</th>\n",
       "    </tr>\n",
       "    <tr>\n",
       "      <th>group</th>\n",
       "      <th></th>\n",
       "      <th></th>\n",
       "      <th></th>\n",
       "      <th></th>\n",
       "    </tr>\n",
       "  </thead>\n",
       "  <tbody>\n",
       "    <tr>\n",
       "      <th>1</th>\n",
       "      <td>101</td>\n",
       "      <td>70.0</td>\n",
       "      <td>71.3</td>\n",
       "      <td>-9.1</td>\n",
       "    </tr>\n",
       "    <tr>\n",
       "      <th>2</th>\n",
       "      <td>201</td>\n",
       "      <td>70.5</td>\n",
       "      <td>73.0</td>\n",
       "      <td>-12.2</td>\n",
       "    </tr>\n",
       "    <tr>\n",
       "      <th>3</th>\n",
       "      <td>301</td>\n",
       "      <td>73.4</td>\n",
       "      <td>75.2</td>\n",
       "      <td>-5.3</td>\n",
       "    </tr>\n",
       "  </tbody>\n",
       "</table>\n",
       "</div>"
      ],
      "text/plain": [
       "        ID  prewt  postwt  difwt\n",
       "group                           \n",
       "1      101   70.0    71.3   -9.1\n",
       "2      201   70.5    73.0  -12.2\n",
       "3      301   73.4    75.2   -5.3"
      ]
     },
     "execution_count": 43,
     "metadata": {},
     "output_type": "execute_result"
    }
   ],
   "source": [
    "df.groupby(['group']).min()"
   ]
  },
  {
   "cell_type": "code",
   "execution_count": null,
   "metadata": {
    "id": "pXOj4lOOfVGz",
    "outputId": "45f9cd72-fc80-4427-b165-6ec80904b406"
   },
   "outputs": [
    {
     "data": {
      "text/html": [
       "<div>\n",
       "<style scoped>\n",
       "    .dataframe tbody tr th:only-of-type {\n",
       "        vertical-align: middle;\n",
       "    }\n",
       "\n",
       "    .dataframe tbody tr th {\n",
       "        vertical-align: top;\n",
       "    }\n",
       "\n",
       "    .dataframe thead th {\n",
       "        text-align: right;\n",
       "    }\n",
       "</style>\n",
       "<table border=\"1\" class=\"dataframe\">\n",
       "  <thead>\n",
       "    <tr style=\"text-align: right;\">\n",
       "      <th></th>\n",
       "      <th>ID</th>\n",
       "      <th>prewt</th>\n",
       "      <th>postwt</th>\n",
       "      <th>difwt</th>\n",
       "    </tr>\n",
       "    <tr>\n",
       "      <th>group</th>\n",
       "      <th></th>\n",
       "      <th></th>\n",
       "      <th></th>\n",
       "      <th></th>\n",
       "    </tr>\n",
       "  </thead>\n",
       "  <tbody>\n",
       "    <tr>\n",
       "      <th>1</th>\n",
       "      <td>126</td>\n",
       "      <td>24.9</td>\n",
       "      <td>32.3</td>\n",
       "      <td>30.0</td>\n",
       "    </tr>\n",
       "    <tr>\n",
       "      <th>2</th>\n",
       "      <td>25</td>\n",
       "      <td>21.3</td>\n",
       "      <td>16.6</td>\n",
       "      <td>28.1</td>\n",
       "    </tr>\n",
       "    <tr>\n",
       "      <th>3</th>\n",
       "      <td>16</td>\n",
       "      <td>20.8</td>\n",
       "      <td>26.4</td>\n",
       "      <td>26.8</td>\n",
       "    </tr>\n",
       "  </tbody>\n",
       "</table>\n",
       "</div>"
      ],
      "text/plain": [
       "        ID  prewt  postwt  difwt\n",
       "group                           \n",
       "1      126   24.9    32.3   30.0\n",
       "2       25   21.3    16.6   28.1\n",
       "3       16   20.8    26.4   26.8"
      ]
     },
     "execution_count": 44,
     "metadata": {},
     "output_type": "execute_result"
    }
   ],
   "source": [
    "df.groupby(['group']).max() - df.groupby(['group']).min()"
   ]
  },
  {
   "cell_type": "markdown",
   "metadata": {
    "id": "QO1AZWpIfVGz"
   },
   "source": [
    "### Standard Deviation\n",
    "\n",
    "The standard deviation measures the dispersion of the data around the average value. It is useful for comparing data sets that may have the same mean but a different range.\n",
    "\n",
    "\\begin{equation*}\n",
    "Standard.Deviation = \\sqrt{\\frac{1}{N-1} \\sum_{i=1}^N (x_i - \\overline{x})^2}\n",
    "\\end{equation*}\n"
   ]
  },
  {
   "cell_type": "code",
   "execution_count": null,
   "metadata": {
    "id": "mRX5o4WtfVGz",
    "outputId": "19a06aee-4a4a-47b3-d726-acd6470e0b3d"
   },
   "outputs": [
    {
     "name": "stdout",
     "output_type": "stream",
     "text": [
      "[80.5, 80.7, 83.8, 84.9, 89.4, 83.3, 81.5, 91.8, 86.0, 82.6, 74.0]\n"
     ]
    }
   ],
   "source": [
    "a = list(df.prewt.head(11));print(a)"
   ]
  },
  {
   "cell_type": "code",
   "execution_count": null,
   "metadata": {
    "id": "YrXig9hsfVGz",
    "outputId": "0e25f872-a5d5-4d7d-e4b8-ac0a15f91350"
   },
   "outputs": [
    {
     "name": "stdout",
     "output_type": "stream",
     "text": [
      "mean= 83.5\n"
     ]
    }
   ],
   "source": [
    "x_bar = df.prewt.head(11).mean()\n",
    "print(\"mean=\",x_bar)"
   ]
  },
  {
   "cell_type": "code",
   "execution_count": null,
   "metadata": {
    "id": "6wwOmAoufVGz",
    "outputId": "acbd7449-6fb2-4481-91fb-10a8d3ab6879"
   },
   "outputs": [
    {
     "name": "stdout",
     "output_type": "stream",
     "text": [
      "(x_i - x_bar)^2=( 80.5 - 83.5 )^2= 9.0 | SUM =  9.0\n",
      "(x_i - x_bar)^2=( 80.7 - 83.5 )^2= 7.839999999999984 | SUM =  16.839999999999982\n",
      "(x_i - x_bar)^2=( 83.8 - 83.5 )^2= 0.08999999999999829 | SUM =  16.929999999999982\n",
      "(x_i - x_bar)^2=( 84.9 - 83.5 )^2= 1.960000000000016 | SUM =  18.889999999999997\n",
      "(x_i - x_bar)^2=( 89.4 - 83.5 )^2= 34.810000000000066 | SUM =  53.70000000000006\n",
      "(x_i - x_bar)^2=( 83.3 - 83.5 )^2= 0.04000000000000114 | SUM =  53.74000000000006\n",
      "(x_i - x_bar)^2=( 81.5 - 83.5 )^2= 4.0 | SUM =  57.74000000000006\n",
      "(x_i - x_bar)^2=( 91.8 - 83.5 )^2= 68.88999999999996 | SUM =  126.63000000000002\n",
      "(x_i - x_bar)^2=( 86.0 - 83.5 )^2= 6.25 | SUM =  132.88000000000002\n",
      "(x_i - x_bar)^2=( 82.6 - 83.5 )^2= 0.8100000000000103 | SUM =  133.69000000000003\n",
      "(x_i - x_bar)^2=( 74.0 - 83.5 )^2= 90.25 | SUM =  223.94000000000003\n"
     ]
    }
   ],
   "source": [
    "a_sum = 0.0\n",
    "for x_i in a:\n",
    "    a_sum = a_sum + (x_i - x_bar)**2\n",
    "    print (\"(x_i - x_bar)^2=(\",x_i, \"-\",x_bar,\")^2=\", (x_i - x_bar)**2, \"| SUM = \", a_sum)"
   ]
  },
  {
   "cell_type": "code",
   "execution_count": null,
   "metadata": {
    "id": "K9WP3e6UfVG0",
    "outputId": "64bed95b-14dc-4fcb-c8e4-b92cafa4afc4"
   },
   "outputs": [
    {
     "name": "stdout",
     "output_type": "stream",
     "text": [
      "Standard Deviation =  4.732229918336598\n"
     ]
    }
   ],
   "source": [
    "import math\n",
    "print(\"Standard Deviation = \", math.sqrt(a_sum/(len(a)-1)))"
   ]
  },
  {
   "cell_type": "markdown",
   "metadata": {
    "id": "4wTYVOkyfVG0"
   },
   "source": [
    "But in Python Pandas we can use __std__ ;-)"
   ]
  },
  {
   "cell_type": "code",
   "execution_count": null,
   "metadata": {
    "id": "ACzMDAHxfVG0",
    "outputId": "fb7264a8-ee3b-4d10-f5de-6fc37c048b68"
   },
   "outputs": [
    {
     "data": {
      "text/plain": [
       "4.732229918336598"
      ]
     },
     "execution_count": 49,
     "metadata": {},
     "output_type": "execute_result"
    }
   ],
   "source": [
    "df.prewt.head(11).std()"
   ]
  },
  {
   "cell_type": "markdown",
   "metadata": {
    "id": "eAbeILRkfVG0"
   },
   "source": [
    "### Quartiles and Interquartile Range\n",
    "\n",
    "The quartiles give us information about the propagation of a data set by dividing the data set into 4 groups. \n",
    "\n",
    "Just as the median divides into N = 2 groups taking 1 central element (or the average of the two central elements), the operation to find the quartiles (N = 4) divides the data into 4 groups using 3 borders (N-1 borders generate N groups) and the borders are the 25% percentile element, the 50% percentile element (median) and the 75% percentile element."
   ]
  },
  {
   "cell_type": "markdown",
   "metadata": {
    "id": "LbODgNpxfVG0"
   },
   "source": [
    "First quartile - 25% percentile"
   ]
  },
  {
   "cell_type": "code",
   "execution_count": null,
   "metadata": {
    "id": "aNyEbhIGfVG1",
    "outputId": "15a44634-1f4d-4bfb-b8ab-d769b1e4e3ca"
   },
   "outputs": [
    {
     "data": {
      "text/plain": [
       "79.6"
      ]
     },
     "execution_count": 50,
     "metadata": {},
     "output_type": "execute_result"
    }
   ],
   "source": [
    "df.prewt.quantile(0.25) # 25% percentil - Primero cuartil"
   ]
  },
  {
   "cell_type": "markdown",
   "metadata": {
    "id": "Un-JBRAVfVG1"
   },
   "source": [
    "Second quartile - The same as the median - 50% percentile"
   ]
  },
  {
   "cell_type": "code",
   "execution_count": null,
   "metadata": {
    "id": "-o6gjUkcfVG1",
    "outputId": "9ca2dd7d-7b06-4697-f48e-42b2bb1ba008"
   },
   "outputs": [
    {
     "data": {
      "text/plain": [
       "82.3"
      ]
     },
     "execution_count": 51,
     "metadata": {},
     "output_type": "execute_result"
    }
   ],
   "source": [
    "df.prewt.quantile(0.50)"
   ]
  },
  {
   "cell_type": "code",
   "execution_count": null,
   "metadata": {
    "id": "U0a-h0B1fVG1",
    "outputId": "ed49aaf8-000c-40ad-dd7c-9bd58c7923f0"
   },
   "outputs": [
    {
     "data": {
      "text/plain": [
       "82.3"
      ]
     },
     "execution_count": 52,
     "metadata": {},
     "output_type": "execute_result"
    }
   ],
   "source": [
    "df.prewt.median()"
   ]
  },
  {
   "cell_type": "markdown",
   "metadata": {
    "id": "HPrJPseNfVG2"
   },
   "source": [
    "Third quartile - 75% percentile"
   ]
  },
  {
   "cell_type": "code",
   "execution_count": null,
   "metadata": {
    "id": "J9YUwkX_fVG2",
    "outputId": "08a6d44b-326e-40e6-b8f8-051db4a748d2"
   },
   "outputs": [
    {
     "data": {
      "text/plain": [
       "86.0"
      ]
     },
     "execution_count": 53,
     "metadata": {},
     "output_type": "execute_result"
    }
   ],
   "source": [
    "df.prewt.quantile(0.75)"
   ]
  },
  {
   "cell_type": "markdown",
   "metadata": {
    "id": "PVYaCyX5fVG2"
   },
   "source": [
    "---"
   ]
  },
  {
   "cell_type": "markdown",
   "metadata": {
    "id": "FaGJEc9hfVG2"
   },
   "source": [
    "# Describe\n",
    "\n",
    "Luckly, in Pandas we have the __describe__ method, which gathers measures of central tendency and dispersion in a single operation!\n"
   ]
  },
  {
   "cell_type": "code",
   "execution_count": null,
   "metadata": {
    "id": "YpS0bjZNfVG2",
    "outputId": "95d30f2e-bb02-4081-9be5-1771feaaaeac"
   },
   "outputs": [
    {
     "data": {
      "text/plain": [
       "count    72.000000\n",
       "mean     82.408333\n",
       "std       5.182466\n",
       "min      70.000000\n",
       "25%      79.600000\n",
       "50%      82.300000\n",
       "75%      86.000000\n",
       "max      94.900000\n",
       "Name: prewt, dtype: float64"
      ]
     },
     "execution_count": 54,
     "metadata": {},
     "output_type": "execute_result"
    }
   ],
   "source": [
    "df.prewt.describe()"
   ]
  },
  {
   "cell_type": "markdown",
   "metadata": {
    "id": "__xOM89mfVG2"
   },
   "source": [
    "The __loop__ below prints the __describe__ function by group for each of the continuous variables."
   ]
  },
  {
   "cell_type": "code",
   "execution_count": null,
   "metadata": {
    "id": "OHKsEOJafVG2",
    "outputId": "b152d275-17e1-49fb-ab40-fa346d07bcc0"
   },
   "outputs": [
    {
     "name": "stdout",
     "output_type": "stream",
     "text": [
      "VARIABLE =  prewt\n",
      "      prewt                                                        \n",
      "      count       mean       std   min     25%    50%     75%   max\n",
      "group                                                              \n",
      "1      29.0  82.689655  4.845495  70.0  80.400  82.60  85.000  94.9\n",
      "2      26.0  81.557692  5.707060  70.5  77.725  80.65  85.875  91.8\n",
      "3      17.0  83.229412  5.016693  73.4  80.500  83.30  86.000  94.2\n",
      "---\n",
      "VARIABLE =  postwt\n",
      "      postwt                                                        \n",
      "       count       mean       std   min     25%   50%     75%    max\n",
      "group                                                               \n",
      "1       29.0  85.696552  8.351924  71.3  81.900  83.9  90.900  103.6\n",
      "2       26.0  81.107692  4.744253  73.0  77.575  80.7  84.675   89.6\n",
      "3       17.0  90.494118  8.475072  75.2  90.700  92.5  95.200  101.6\n",
      "---\n",
      "VARIABLE =  difwt\n",
      "      difwt                                                 \n",
      "      count      mean       std   min  25%   50%   75%   max\n",
      "group                                                       \n",
      "1      29.0  3.006897  7.308504  -9.1 -0.7  1.40   3.9  20.9\n",
      "2      26.0 -0.450000  7.988705 -12.2 -7.0 -0.35   3.6  15.9\n",
      "3      17.0  7.264706  7.157421  -5.3  3.9  9.00  11.4  21.5\n",
      "---\n"
     ]
    }
   ],
   "source": [
    "for var in ['prewt', 'postwt', 'difwt']:\n",
    "    print(\"VARIABLE = \", var)\n",
    "    print(df[[var,'group']].groupby(['group']).describe())\n",
    "    print(\"---\")    "
   ]
  },
  {
   "cell_type": "markdown",
   "metadata": {
    "id": "seLIfQoDfVG3"
   },
   "source": [
    "Perhaps the power of all this information for analysis is more evident in a __BoxPlot chart__:"
   ]
  },
  {
   "cell_type": "markdown",
   "metadata": {
    "id": "psPUmgnrfVG3"
   },
   "source": [
    "### BoxPlot chart"
   ]
  },
  {
   "cell_type": "code",
   "execution_count": null,
   "metadata": {
    "id": "gOu0wtfifVG3",
    "outputId": "60e618a8-d900-4d20-f4c0-c271b6a785cd"
   },
   "outputs": [
    {
     "name": "stdout",
     "output_type": "stream",
     "text": [
      "Group 1: Individual cognitive behavior therapy\n"
     ]
    },
    {
     "data": {
      "image/png": "[encoded data removed]",
      "text/plain": [
       "<Figure size 432x288 with 1 Axes>"
      ]
     },
     "metadata": {
      "needs_background": "light"
     },
     "output_type": "display_data"
    }
   ],
   "source": [
    "print(\"Group 1: Individual cognitive behavior therapy\")\n",
    "boxplot = df[df.group == 1].boxplot(column=['prewt', 'postwt', 'difwt'],showmeans=True)\n"
   ]
  },
  {
   "cell_type": "code",
   "execution_count": null,
   "metadata": {
    "id": "DmJPlv93fVG3",
    "outputId": "e0af3bac-cfb9-4fd9-91d1-4f867ba40ba0"
   },
   "outputs": [
    {
     "name": "stdout",
     "output_type": "stream",
     "text": [
      "Group 2: Control Group\n"
     ]
    },
    {
     "data": {
      "image/png": "[encoded data removed]",
      "text/plain": [
       "<Figure size 432x288 with 1 Axes>"
      ]
     },
     "metadata": {
      "needs_background": "light"
     },
     "output_type": "display_data"
    }
   ],
   "source": [
    "print(\"Group 2: Control Group\")\n",
    "boxplot = df[df.group == 2].boxplot(column=['prewt', 'postwt', 'difwt'],showmeans=True)"
   ]
  },
  {
   "cell_type": "code",
   "execution_count": null,
   "metadata": {
    "id": "RsMUdAMmfVG3",
    "outputId": "9ee8a124-e8a6-458f-e006-7691f1c08d5e"
   },
   "outputs": [
    {
     "name": "stdout",
     "output_type": "stream",
     "text": [
      "Group 3: Family therapy\n"
     ]
    },
    {
     "data": {
      "image/png": "[encoded data removed]",
      "text/plain": [
       "<Figure size 432x288 with 1 Axes>"
      ]
     },
     "metadata": {
      "needs_background": "light"
     },
     "output_type": "display_data"
    }
   ],
   "source": [
    "print(\"Group 3: Family therapy\")\n",
    "boxplot = df[df.group == 3].boxplot(column=['prewt', 'postwt', 'difwt'],showmeans=True)"
   ]
  },
  {
   "cell_type": "markdown",
   "metadata": {
    "id": "b_sVPp94fVG3"
   },
   "source": [
    "__QUESTION FOR DISCUSSION 6__: With all that information in hand, what treatment seems to work best?"
   ]
  },
  {
   "cell_type": "markdown",
   "metadata": {
    "id": "nWFKgqoHfVG3"
   },
   "source": [
    "---"
   ]
  },
  {
   "cell_type": "markdown",
   "metadata": {
    "id": "xTnNXcqbfVG3"
   },
   "source": [
    "#### Conclusions\n",
    "\n",
    "The way we decide to analyze the data can lead to completely different results.\n",
    "You can often impact (intentionally or not) on what people take for granted depending on how the results are communicated.\n",
    "\n",
    "#### Tips\n",
    "\n",
    "Be skeptical of your results and those that provide others.\n",
    "Consider other ways to analyze the data and if you chose it correctly.\n"
   ]
  },
  {
   "cell_type": "markdown",
   "metadata": {
    "id": "ygXloo4FfVG3"
   },
   "source": [
    "# RECAP: WHICH DATAFRAME METHODS SHOULD YOU REMEMBER AFTER THIS CLASS?"
   ]
  },
  {
   "cell_type": "markdown",
   "metadata": {
    "id": "6HBK_ycafVG3"
   },
   "source": [
    "* __describe()__:df.describe() - summary statistics of numeric variables\n",
    "* __value_counts()__: df.group.value_counts() - frequency table applicable for categorical variables\n",
    "* __plot()__: df['group'].plot(kind='bar') - for creating histograms of numeric variables\n",
    "* __value_counts().plot()__: df['group'].value_counts().plot(kind='bar') - for creating histograms of text variables\n",
    "\n",
    "## NICE TO REMBER:\n",
    "* __groupby()__: df[['group','ID']].groupby(['group']).count() - df.groupby to do analysis by group like in SQL: \n",
    "SELECT COUNT(*) FROM df GROUP BY group;"
   ]
  },
  {
   "cell_type": "markdown",
   "metadata": {
    "id": "s72NjyYmfVG4"
   },
   "source": [
    "# What should you know so far?\n",
    "\n",
    "* df.head()\n",
    "* df.describe()\n",
    "* df.value_counts()\n",
    "* df.groupby('column_name').describe()\n",
    "    \n",
    "\n",
    "Let's hear a \"AMAZING\" song: <a href=\"https://youtu.be/1ftw05DYasM\"> https://youtu.be/1ftw05DYasM </a>\n",
    "\n",
    "<a href=\"https://youtu.be/1ftw05DYasM\"> <img src=\"img/head_describe_value_counts_song.png\" width=400 height=300 align=\"center\"> </a>\n",
    "\n",
    "---"
   ]
  },
  {
   "cell_type": "markdown",
   "metadata": {
    "id": "qd1QThNPfVG4"
   },
   "source": [
    "# Kahoot time"
   ]
  },
  {
   "cell_type": "markdown",
   "metadata": {
    "id": "u_HDPTdzfVG4"
   },
   "source": [
    "---"
   ]
  },
  {
   "cell_type": "markdown",
   "metadata": {
    "id": "f3aBJ8MnfVG4"
   },
   "source": [
    "# Exercise 2:\n",
    "1. Import pandas and then import census_train.csv database located at datasets\n",
    "1. Identify the data type of all variables\n",
    "1. Make an analysis of this database using the tools we have previously learned [Measures of central tendency and Measures of dispersion] according to the type of the variable.\n",
    "1. Make histogram of at least one nominal categorical variables. (hint: note that for making a histogram of a text variable you need to use value_counts to create a value:count first, like in this example: df['group'].value_counts().plot(kind='bar')\n",
    "1. Choose at least one nominal categorical variable and calculate the [Measures of central tendency and Dispersion measures] for the other variables by the groups of the chosen categorical variable - see the example of the __loop for__ previously used in this code."
   ]
  },
  {
   "cell_type": "markdown",
   "metadata": {
    "id": "sfJWDBcdfVG4"
   },
   "source": [
    "---"
   ]
  },
  {
   "cell_type": "markdown",
   "metadata": {
    "id": "cBJNpZvdfVG4"
   },
   "source": [
    "# Bonus material part - for those that want to go more in depth: Some advanced statistics in Python"
   ]
  },
  {
   "cell_type": "markdown",
   "metadata": {
    "id": "uvRFldyDfVG4"
   },
   "source": [
    "# 1. Introduction: ```scipy.stats``` module"
   ]
  },
  {
   "cell_type": "markdown",
   "metadata": {
    "id": "ztVoRfnxfVG4"
   },
   "source": [
    "The SciPy library has many modules, each aiming to solve or handle specific purposes related to science. The scope of the modules themselves can be daunting, and without knowing when and where to use them, it is easy to overlook the library's usefulness. This exercise sticks to using one of the basic module called ```scipy.stats```. \n",
    "\n",
    "```scipy.stats``` contains a large number of probabilitiy distributions and statistical functions. It is an extension to NumPy's own stats module, though the number and variety of functions are much more diverse.\n",
    "\n",
    "The SciPy library has its own [documentation](https://docs.scipy.org/doc/scipy/reference/), which you could refer to."
   ]
  },
  {
   "cell_type": "markdown",
   "metadata": {
    "id": "XVWnZxMTfVG4"
   },
   "source": [
    "# 2. Loading libraries and dataset"
   ]
  },
  {
   "cell_type": "markdown",
   "metadata": {
    "id": "LaV6n0NWfVG4"
   },
   "source": [
    "You can import specific modules of SciPy using ```import scipy.[module_name]``` format. Note that it is convention to import specific module directly to the workspace for SciPy. This avoids possible clash of named global variables that are defined in other modules. \n",
    "\n",
    "Also note that SciPy is built on top of NumPy, NumPy is automatically imported too when SciPy is imported. However, calling NumPy separately avoids any confusion when calling a module specific function."
   ]
  },
  {
   "cell_type": "code",
   "execution_count": null,
   "metadata": {
    "id": "Jjh5DMMNfVG4"
   },
   "outputs": [],
   "source": [
    "# import libraries numpy, pandas, and scipy.stats module\n",
    "\n",
    "import numpy as np\n",
    "import pandas as pd\n",
    "import scipy.stats as stats"
   ]
  },
  {
   "cell_type": "code",
   "execution_count": null,
   "metadata": {
    "id": "3-bMkIMnfVG4"
   },
   "outputs": [],
   "source": [
    "# import dataset using pd.read_csv() function\n",
    "df = pd.read_csv(\"datasets/anorexia.csv\")"
   ]
  },
  {
   "cell_type": "code",
   "execution_count": null,
   "metadata": {
    "id": "IfF5HbzHfVG4",
    "outputId": "a1d54b77-5d2d-457d-804d-6641ee1c48a2"
   },
   "outputs": [
    {
     "data": {
      "text/html": [
       "<div>\n",
       "<style scoped>\n",
       "    .dataframe tbody tr th:only-of-type {\n",
       "        vertical-align: middle;\n",
       "    }\n",
       "\n",
       "    .dataframe tbody tr th {\n",
       "        vertical-align: top;\n",
       "    }\n",
       "\n",
       "    .dataframe thead th {\n",
       "        text-align: right;\n",
       "    }\n",
       "</style>\n",
       "<table border=\"1\" class=\"dataframe\">\n",
       "  <thead>\n",
       "    <tr style=\"text-align: right;\">\n",
       "      <th></th>\n",
       "      <th>ID</th>\n",
       "      <th>group</th>\n",
       "      <th>prewt</th>\n",
       "      <th>postwt</th>\n",
       "      <th>difwt</th>\n",
       "    </tr>\n",
       "  </thead>\n",
       "  <tbody>\n",
       "    <tr>\n",
       "      <th>0</th>\n",
       "      <td>101</td>\n",
       "      <td>1</td>\n",
       "      <td>80.5</td>\n",
       "      <td>82.2</td>\n",
       "      <td>1.7</td>\n",
       "    </tr>\n",
       "    <tr>\n",
       "      <th>1</th>\n",
       "      <td>201</td>\n",
       "      <td>2</td>\n",
       "      <td>80.7</td>\n",
       "      <td>80.2</td>\n",
       "      <td>-0.5</td>\n",
       "    </tr>\n",
       "    <tr>\n",
       "      <th>2</th>\n",
       "      <td>301</td>\n",
       "      <td>3</td>\n",
       "      <td>83.8</td>\n",
       "      <td>95.2</td>\n",
       "      <td>11.4</td>\n",
       "    </tr>\n",
       "    <tr>\n",
       "      <th>3</th>\n",
       "      <td>102</td>\n",
       "      <td>1</td>\n",
       "      <td>84.9</td>\n",
       "      <td>85.6</td>\n",
       "      <td>0.7</td>\n",
       "    </tr>\n",
       "    <tr>\n",
       "      <th>4</th>\n",
       "      <td>202</td>\n",
       "      <td>2</td>\n",
       "      <td>89.4</td>\n",
       "      <td>80.1</td>\n",
       "      <td>-9.3</td>\n",
       "    </tr>\n",
       "  </tbody>\n",
       "</table>\n",
       "</div>"
      ],
      "text/plain": [
       "    ID  group  prewt  postwt  difwt\n",
       "0  101      1   80.5    82.2    1.7\n",
       "1  201      2   80.7    80.2   -0.5\n",
       "2  301      3   83.8    95.2   11.4\n",
       "3  102      1   84.9    85.6    0.7\n",
       "4  202      2   89.4    80.1   -9.3"
      ]
     },
     "execution_count": 61,
     "metadata": {},
     "output_type": "execute_result"
    }
   ],
   "source": [
    "# view first few rows of the dataset using pandas dataframe.head() function\n",
    "df.head()"
   ]
  },
  {
   "cell_type": "markdown",
   "metadata": {
    "id": "XusPvHD8fVG4"
   },
   "source": [
    "This dataset contains the recorded weights of anorexic patients before and after a treatment.\n",
    "\n",
    "* Group 1: Behavioural therapy\n",
    "* Group 2: Control group\n",
    "* Group 3: Family therapy\n",
    "\n",
    "We can use various statistical tools in the scipy.stats module to perform descriptive statistics and statistical tests."
   ]
  },
  {
   "cell_type": "markdown",
   "metadata": {
    "id": "IuVf-JA9fVG5"
   },
   "source": [
    "# 3. Statistical tests"
   ]
  },
  {
   "cell_type": "markdown",
   "metadata": {
    "id": "yUVJa0_TfVG5"
   },
   "source": [
    "## 3-1. Are the weights normally distributed? (Normality tests)\n",
    "\n",
    "There are various ways in which we can test if a given set of data is normally distributed or not.\n",
    "\n",
    "Here we introduce these:\n",
    "* [```scipy.stats.normaltest(x)```](https://docs.scipy.org/doc/scipy/reference/generated/scipy.stats.normaltest.html#r676), where x is the data array\n",
    "* [```scipy.stats.shapiro(x)```](https://docs.scipy.org/doc/scipy/reference/generated/scipy.stats.shapiro.html), where x is the data array\n",
    "\n",
    "Both tests are used to determine whether or not a dataset comes from a normal distribution. For both tests, the hypothesis is as follows:\n",
    "\n",
    "* H0: Sample comes from a normal distribution\n",
    "* H1: Sample does not come from a normal distribution.\n",
    "\n",
    "As in the case of the modules, you can access functions of stats module using ```stats.[function_name]``` format."
   ]
  },
  {
   "cell_type": "code",
   "execution_count": null,
   "metadata": {
    "id": "NZwGaGu8fVG5",
    "outputId": "184679a1-97dd-43a7-9957-82defc1b420e"
   },
   "outputs": [
    {
     "name": "stdout",
     "output_type": "stream",
     "text": [
      "pre-weight normal test: NormaltestResult(statistic=0.07182332731282798, pvalue=0.9647255100433293)\n",
      "\n",
      "post-weight normal test: NormaltestResult(statistic=4.872229098757813, pvalue=0.08750016942113438)\n",
      "\n",
      "weight difference normal test: NormaltestResult(statistic=2.1365312271308587, pvalue=0.34360394293797336)\n"
     ]
    }
   ],
   "source": [
    "# use the normaltest function to find the test statistic and p-value\n",
    "# of 'prewt', 'postwt', and 'difwt' column, and print each of them.\n",
    "# since pandas dataframe is also built on top of arrays,\n",
    "# you can use the dataframe column selection method directly to use the normaltest\n",
    "\n",
    "print(\"pre-weight normal test:\",stats.normaltest(df['prewt']))\n",
    "print(\"\\npost-weight normal test:\",stats.normaltest(df['postwt']))\n",
    "print(\"\\nweight difference normal test:\",stats.normaltest(df['difwt']))"
   ]
  },
  {
   "cell_type": "markdown",
   "metadata": {
    "id": "8dAhTihofVG5"
   },
   "source": [
    "As you can see, the function returns 2 values: the test statistic, and the p-value. If you want to access a particular value of the two, you can use the slicing method or assign both values to a new variable at the same time.\n",
    "\n",
    "```\n",
    "# slicing:\n",
    "p_value = stats.normaltest(x)[1]\n",
    "\n",
    "# variable assignment\n",
    "test_statistic, p_value = stats.normaltest(x)\n",
    "```\n",
    "\n",
    "The normaltest uses kurtosis and skewness to test normality. We can check the actual kurtosis and skewness values by using [```stats.kurtosis```](https://docs.scipy.org/doc/scipy/reference/generated/scipy.stats.kurtosis.html) and [```stats.skew```](https://docs.scipy.org/doc/scipy/reference/generated/scipy.stats.skew.html) functions (note: kurtosis returns excess kurtosis value). You can also run a separate tests using [```stats.kurtosistest```](https://docs.scipy.org/doc/scipy-0.16.0/reference/generated/scipy.stats.kurtosistest.html) and [```stats.skewtest```](https://docs.scipy.org/doc/scipy-0.14.0/reference/generated/scipy.stats.skewtest.html). "
   ]
  },
  {
   "cell_type": "code",
   "execution_count": null,
   "metadata": {
    "id": "mc3257-ZfVG5",
    "outputId": "f739121b-7c11-4030-dc37-6e53e4b7427e"
   },
   "outputs": [
    {
     "name": "stdout",
     "output_type": "stream",
     "text": [
      "pre-weight excess kurtosis: -0.08451214729066026\n",
      "pre-weight skewness: -0.04790844505142429\n",
      "\n",
      "post-weight excess kurtosis: -0.7529474965734595\n",
      "post-weight skewness: 0.37246586066772885\n",
      "\n",
      "weight difference excess kurtosis: -0.5587219355778057\n",
      "weight difference skewness: 0.28246899415470783\n"
     ]
    }
   ],
   "source": [
    "# find the excess kurtosis and skewness values\n",
    "# of'prewt', 'postwt', and 'difwt' columns, and the print the values\n",
    "# using stats.kurtosis(x) and stats.skew(x)\n",
    "\n",
    "print(\"pre-weight excess kurtosis:\", stats.kurtosis(df['prewt']))\n",
    "print(\"pre-weight skewness:\", stats.skew(df['prewt']))\n",
    "\n",
    "print(\"\\npost-weight excess kurtosis:\", stats.kurtosis(df['postwt']))\n",
    "print(\"post-weight skewness:\", stats.skew(df['postwt']))\n",
    "\n",
    "print(\"\\nweight difference excess kurtosis:\", stats.kurtosis(df['difwt']))\n",
    "print(\"weight difference skewness:\", stats.skew(df['difwt']))"
   ]
  },
  {
   "cell_type": "markdown",
   "metadata": {
    "id": "LuEibp4QfVG5"
   },
   "source": [
    "Just to verify the normality, use the [```stats.shapiro(x)```](https://docs.scipy.org/doc/scipy/reference/generated/scipy.stats.shapiro.html) function to conduct the shapiro test on the columns."
   ]
  },
  {
   "cell_type": "code",
   "execution_count": null,
   "metadata": {
    "id": "XVcgF8VZfVG5",
    "outputId": "a96519d2-5958-482e-a35a-56924e2bc4b8"
   },
   "outputs": [
    {
     "name": "stdout",
     "output_type": "stream",
     "text": [
      "pre-weight shapiro test: ShapiroResult(statistic=0.9924839735031128, pvalue=0.948354184627533)\n",
      "\n",
      "post-weight shapiro test: ShapiroResult(statistic=0.9673006534576416, pvalue=0.05781174451112747)\n",
      "\n",
      "weight difference shapiro test: ShapiroResult(statistic=0.974664568901062, pvalue=0.15441827476024628)\n"
     ]
    }
   ],
   "source": [
    "# use the shapiro function to find the test statistic and p-value\n",
    "# of 'prewt', 'postwt', and 'difwt' column, and print each of them.\n",
    "# shapiro test also returns test-statistic and p-value respectively\n",
    "\n",
    "print(\"pre-weight shapiro test:\",stats.shapiro(df['prewt']))\n",
    "print(\"\\npost-weight shapiro test:\",stats.shapiro(df['postwt']))\n",
    "print(\"\\nweight difference shapiro test:\",stats.shapiro(df['difwt']))"
   ]
  },
  {
   "cell_type": "markdown",
   "metadata": {
    "id": "OhaGkg9hfVG5"
   },
   "source": [
    "## 3-2. Have people's weight changed in general before and after the treatments? (one-sample t-test)\n",
    "\n",
    "Since we already have the values for difference in weight pre and post treatment, we can use one-sample paired t-test on the 'difwt' column to see whether there is a significant change in weights, where the hypothesis is:\n",
    "\n",
    "* H0: Mean difference is equal to 0\n",
    "* H1: Mean difference is not equal to 0\n",
    "\n",
    "We can use the [```stats.ttest_1samp(x, mean)```](https://docs.scipy.org/doc/scipy-0.14.0/reference/generated/scipy.stats.ttest_1samp.html) to conduct the one-sample t-test, where x is the data and mean is the population mean you want to test the data against (in this case, 0). The function returns the test statistic and the p-value respectively."
   ]
  },
  {
   "cell_type": "code",
   "execution_count": null,
   "metadata": {
    "id": "5b3eW1X_fVG5",
    "outputId": "25296ec9-43f1-41e0-ed25-90164cd0a6da"
   },
   "outputs": [
    {
     "name": "stdout",
     "output_type": "stream",
     "text": [
      "Ttest_1sampResult(statistic=2.937569718890667, pvalue=0.004457718078670157)\n"
     ]
    }
   ],
   "source": [
    "# Use the stats.ttest_1samp function to see whether the 'difwt' column\n",
    "# is different from population mean 0\n",
    "# and print the result\n",
    "print(stats.ttest_1samp(df['difwt'], 0))"
   ]
  },
  {
   "cell_type": "markdown",
   "metadata": {
    "id": "AcM_mMHIfVG6"
   },
   "source": [
    "## 3-3. Have people's weight really change as a result of the treatments? (paired t-test)\n",
    "\n",
    "Now we can check if the actual differences have changed using a paired t-test, as each pre-weight and post-weight has to match for each individual. The hypothesis is similar:\n",
    "\n",
    "* H0: Mean(preweight) = Mean(postweight)\n",
    "* H1: Mean(preweight) != Mean(postweight).\n",
    "\n",
    "We can use the [```stats.ttest_rel(a,b)```](https://docs.scipy.org/doc/scipy/reference/generated/scipy.stats.ttest_rel.html) to conduct a paired t-test, where a and b are each of the samples. The function returns the test-statistic and the p-value respectively."
   ]
  },
  {
   "cell_type": "code",
   "execution_count": null,
   "metadata": {
    "id": "pZpWlXUUfVG6",
    "outputId": "815ee956-579f-499b-dd0a-476360f1a578"
   },
   "outputs": [
    {
     "name": "stdout",
     "output_type": "stream",
     "text": [
      "Ttest_relResult(statistic=-2.9375697188906673, pvalue=0.004457718078670148)\n"
     ]
    }
   ],
   "source": [
    "# use the stats.ttest_rel function to see whether the values of 'prewt' and 'postwt'\n",
    "# for each individual are significantly different\n",
    "# and print the result\n",
    "print(stats.ttest_rel(df['prewt'], df['postwt']))"
   ]
  },
  {
   "cell_type": "markdown",
   "metadata": {
    "id": "pKYQEowOfVG6"
   },
   "source": [
    "## 3-4. Are the effect of each treatment different from one another? (one-way ANOVA)\n",
    "\n",
    "Since there are 3 groups, we need to use the ANOVA test to determine whether or not the means (difference in weight) are the same. The hypothesis is as follows:\n",
    "\n",
    "* H0: Mean(group1) = Mean(group2) = Mean(group3)\n",
    "* H1: at least one pair has different means\n",
    "\n",
    "We can use the [```stats.f_oneway(a,b,c...)```](https://docs.scipy.org/doc/scipy/reference/generated/scipy.stats.f_oneway.html) to conduct a one-way anova test, where a, b, c.. are each of the samples. The function returns the test statistic and the p-value respectively."
   ]
  },
  {
   "cell_type": "code",
   "execution_count": null,
   "metadata": {
    "id": "i1BGY8z2fVG6"
   },
   "outputs": [],
   "source": [
    "# create separate dataframes for each of the treatment\n",
    "\n",
    "group_1 = df[df['group'] == 1]\n",
    "group_2 = df[df['group'] == 2]\n",
    "group_3 = df[df['group'] == 3]"
   ]
  },
  {
   "cell_type": "code",
   "execution_count": null,
   "metadata": {
    "id": "ywrWt0vUfVG6",
    "outputId": "1e7afa00-2552-4a74-8998-7935572b5509"
   },
   "outputs": [
    {
     "name": "stdout",
     "output_type": "stream",
     "text": [
      "F_onewayResult(statistic=5.422296868238271, pvalue=0.006498652980699682)\n"
     ]
    }
   ],
   "source": [
    "# use the stats.f_oneway function to see whether the means of 'difwt' column\n",
    "# are significantly different for at least one pair\n",
    "print(stats.f_oneway(group_1['difwt'], group_2['difwt'], group_3['difwt']))\n",
    "\n",
    "# you can carry out additional tukey's test using\n",
    "# the statsmodels library :)"
   ]
  },
  {
   "cell_type": "markdown",
   "metadata": {
    "id": "h4ogL28cfVG6"
   },
   "source": [
    "---"
   ]
  },
  {
   "cell_type": "markdown",
   "metadata": {
    "id": "oFAkSuAFfVG6"
   },
   "source": [
    "# Bonus material part 2 (no participation given) - for those that want to go more in depth: Some linear algebra in Python"
   ]
  },
  {
   "cell_type": "markdown",
   "metadata": {
    "id": "vyiJv0UXfVG6"
   },
   "source": [
    "# Linear algebra using SciPy"
   ]
  },
  {
   "cell_type": "markdown",
   "metadata": {
    "id": "XnhgSf7GfVG6"
   },
   "source": [
    "SciPy is the basis of the subsequent python libraries used for machine learning and AI. We'll be looking at one of the functionalities of SciPy to see how the algorithms used in sklearn work in the backend."
   ]
  },
  {
   "cell_type": "markdown",
   "metadata": {
    "id": "pFG6BzFIfVG6"
   },
   "source": [
    "The goal of linear regression is to find that one regression line that best explains the relationship between a set of predictor variables and a single target variable. The 'best' line is the one that minimizes the squared values of the residuals (abs(observed - expected)). You can use the ```linalg.lstsq``` function from the ```scipy.linalg``` module to find to find the line that minimizes the linear least-squares."
   ]
  },
  {
   "cell_type": "code",
   "execution_count": null,
   "metadata": {
    "id": "sYtYvHOhfVG6",
    "outputId": "aa9da516-f825-4cc0-e873-128a7ad47312"
   },
   "outputs": [
    {
     "data": {
      "image/png": "[encoded data removed]",
      "text/plain": [
       "<IPython.core.display.Image object>"
      ]
     },
     "execution_count": 70,
     "metadata": {},
     "output_type": "execute_result"
    }
   ],
   "source": [
    "# example of calculating OLS based on regression line\n",
    "from IPython.display import Image\n",
    "Image(filename='./img/ols.png')"
   ]
  },
  {
   "cell_type": "markdown",
   "metadata": {
    "id": "TsRUat-WfVG6"
   },
   "source": [
    "We will use the anoerxia data again and try to explain the postweight based on pre-weight. We will find the best line that minimizes the least squared values using the ```linalg.lstsq``` function."
   ]
  },
  {
   "cell_type": "code",
   "execution_count": null,
   "metadata": {
    "id": "oRyABGr2fVG6"
   },
   "outputs": [],
   "source": [
    "# import linalg module from scipy\n",
    "from scipy import linalg as linalg\n",
    "\n",
    "# import matplotlib.pyplot to plot graphs\n",
    "import matplotlib.pyplot as plt\n",
    "%matplotlib inline"
   ]
  },
  {
   "cell_type": "markdown",
   "metadata": {
    "id": "avrQURj-fVG6"
   },
   "source": [
    "The [```linalg.lstsq(a,b)```](https://docs.scipy.org/doc/numpy/reference/generated/numpy.linalg.lstsq.html) function requires 2 parameters. a is a matrix of predictor variables, while b is an array of target variable. In this example, a would be the pre-weight and the target variable would be the post-weight data.\n",
    "\n",
    "The function returns 4 values, which you can check out the details [here](https://docs.scipy.org/doc/numpy/reference/generated/numpy.linalg.lstsq.html). For right now, we're interested in only the first one, which is an array containing the coefficent m and the intercept constant c.\n"
   ]
  },
  {
   "cell_type": "code",
   "execution_count": null,
   "metadata": {
    "id": "Lni-37etfVG7",
    "outputId": "fb7b40d5-7556-471e-de1a-9593aa58f72b"
   },
   "outputs": [
    {
     "name": "stdout",
     "output_type": "stream",
     "text": [
      "<class 'numpy.ndarray'>\n",
      "<class 'numpy.ndarray'>\n"
     ]
    }
   ],
   "source": [
    "# transform the prewt and postwt Series as numpy arrays\n",
    "# using df.as_matrix() function\n",
    "# this transformation is needed to use the lstsq function\n",
    "\n",
    "prewt_arr = df.prewt.values #as_matrix()\n",
    "postwt_arr = df.postwt.values #as_matrix()\n",
    "\n",
    "# verify transformation\n",
    "print(type(prewt_arr))\n",
    "print(type(postwt_arr))"
   ]
  },
  {
   "cell_type": "code",
   "execution_count": null,
   "metadata": {
    "id": "93QiLf9NfVG7"
   },
   "outputs": [],
   "source": [
    "# transform the preweight array as a matrix\n",
    "A = np.vstack([prewt_arr, np.ones(len(prewt_arr))]).T"
   ]
  },
  {
   "cell_type": "code",
   "execution_count": null,
   "metadata": {
    "id": "lw275hHbfVG7",
    "outputId": "72b08e38-2431-4e51-8c76-0e2453ea9ed6"
   },
   "outputs": [
    {
     "name": "stdout",
     "output_type": "stream",
     "text": [
      "Coefficent 0.5153804268499989\n",
      "Constant: 42.70058021289188\n"
     ]
    }
   ],
   "source": [
    "# find the coefficent and the intercept constant\n",
    "# using the lstsq function\n",
    "m, c = linalg.lstsq(A,postwt_arr)[0]\n",
    "\n",
    "print(\"Coefficent\", m)\n",
    "print(\"Constant:\", c)"
   ]
  },
  {
   "cell_type": "code",
   "execution_count": null,
   "metadata": {
    "id": "jp6BErYYfVG7",
    "outputId": "7fce8435-5506-43d7-dafe-a7bd8dcda572",
    "scrolled": true
   },
   "outputs": [
    {
     "data": {
      "text/plain": [
       "<matplotlib.legend.Legend at 0x7f94407228e0>"
      ]
     },
     "execution_count": 75,
     "metadata": {},
     "output_type": "execute_result"
    },
    {
     "data": {
      "image/png": "[encoded data removed]",
      "text/plain": [
       "<Figure size 432x288 with 1 Axes>"
      ]
     },
     "metadata": {
      "needs_background": "light"
     },
     "output_type": "display_data"
    }
   ],
   "source": [
    "# plot the original data as scatterplot\n",
    "plt.scatter(prewt_arr, postwt_arr, label = 'original data')\n",
    "\n",
    "# plot the best fit line based on the least squared values\n",
    "plt.plot(prewt_arr, (m * prewt_arr + c), 'r', label = 'fitted line')\n",
    "\n",
    "# show the plot\n",
    "plt.legend()"
   ]
  },
  {
   "cell_type": "markdown",
   "metadata": {
    "id": "AWTPI4vMfVG7"
   },
   "source": [
    "---"
   ]
  }
 ],
 "metadata": {
  "colab": {
   "provenance": []
  },
  "kernelspec": {
   "display_name": "Python 3 (ipykernel)",
   "language": "python",
   "name": "python3"
  },
  "language_info": {
   "codemirror_mode": {
    "name": "ipython",
    "version": 3
   },
   "file_extension": ".py",
   "mimetype": "text/x-python",
   "name": "python",
   "nbconvert_exporter": "python",
   "pygments_lexer": "ipython3",
   "version": "3.9.12"
  },
  "vscode": {
   "interpreter": {
    "hash": "916dbcbb3f70747c44a77c7bcd40155683ae19c65e1c03b4aa3499c5328201f1"
   }
  }
 },
 "nbformat": 4,
 "nbformat_minor": 1
}
