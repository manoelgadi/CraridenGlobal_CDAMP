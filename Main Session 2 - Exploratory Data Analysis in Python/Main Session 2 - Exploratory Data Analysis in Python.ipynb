{
 "cells": [
  {
   "cell_type": "code",
   "execution_count": 1,
   "metadata": {},
   "outputs": [
    {
     "data": {
      "text/html": [
       "<style>.container { width:100% !important; }</style>"
      ],
      "text/plain": [
       "<IPython.core.display.HTML object>"
      ]
     },
     "metadata": {},
     "output_type": "display_data"
    }
   ],
   "source": [
    "from IPython.display import display, HTML\n",
    "display(HTML(\"<style>.container { width:100% !important; }</style>\"))"
   ]
  },
  {
   "cell_type": "markdown",
   "metadata": {
    "id": "pSKLN0VefVGe"
   },
   "source": [
    "\n",
    "<img src=\"img/company-logo.png\" width=120 height=120 align=\"right\">\n",
    "\n",
    "Author: Prof. Manoel Gadi\n",
    "\n",
    "Contact: manoelgadi@gmail.com\n",
    "\n",
    "Teaching Web: http://mfalonso.pythonanywhere.com\n",
    "\n",
    "Linkedin: https://www.linkedin.com/in/manoel-gadi-97821213/\n",
    "\n",
    "Github: https://github.com/manoelgadi\n",
    "\n",
    "Last revision: 27/October/2022\n",
    "\n"
   ]
  },
  {
   "cell_type": "markdown",
   "metadata": {},
   "source": [
    "# Session 2 - Exploratory Data Analysis in Python"
   ]
  },
  {
   "cell_type": "markdown",
   "metadata": {
    "id": "GxK2-fUUfVGj"
   },
   "source": [
    "## Python Ecosystem\n",
    "<img src=\"img/scipy_ecosystem.png\" width=400 height=300 align=\"left\">"
   ]
  },
  {
   "cell_type": "markdown",
   "metadata": {
    "id": "e2BFDaEAfVGj"
   },
   "source": [
    "## Python Pandas DataFrame\n",
    "A **DataFrame** in pandas is a tabular, spreadsheet-like (Excel-like) structure with an **ordered** collection of columns, each with potentially a different type.\n",
    "\n",
    "<img src=\"img/pandas_df_structure.png\" width=400 height=300 align=\"left\">\n"
   ]
  },
  {
   "cell_type": "markdown",
   "metadata": {
    "id": "CRzLMLdqfVGk"
   },
   "source": [
    "Like in Excel, DataFrames have **both** column name and row indexes:\n",
    "* .iloc (index locator) accessing the data via a list [0,1,2,...,N] and \n",
    "* .loc accessing the data as dictionary {key:value}. \n",
    "\n",
    "There will be more tecninical details about pandas in further classes... Let's play with its basic functionalities first."
   ]
  },
  {
   "cell_type": "markdown",
   "metadata": {
    "id": "kCHfTTMffVGk"
   },
   "source": [
    "## Growing with Pandas - Reading files using Pandas"
   ]
  },
  {
   "cell_type": "markdown",
   "metadata": {
    "id": "IqpcpDF3fVGk"
   },
   "source": [
    "importing pandas library with an alias"
   ]
  },
  {
   "cell_type": "code",
   "execution_count": null,
   "metadata": {},
   "outputs": [],
   "source": [
    "print(dir())"
   ]
  },
  {
   "cell_type": "code",
   "execution_count": null,
   "metadata": {
    "id": "jlpJxfJyfVGl"
   },
   "outputs": [],
   "source": [
    "import pandas as pd"
   ]
  },
  {
   "cell_type": "code",
   "execution_count": null,
   "metadata": {},
   "outputs": [],
   "source": [
    "print(dir())"
   ]
  },
  {
   "cell_type": "markdown",
   "metadata": {
    "id": "4lqHdk3LfVGl"
   },
   "source": [
    "### importing dataset using pd.read_excel() function"
   ]
  },
  {
   "cell_type": "code",
   "execution_count": null,
   "metadata": {
    "id": "ZqW-c8iwfVGm",
    "outputId": "095a5070-cfdc-465c-c8d4-9184a7bdb8cf"
   },
   "outputs": [],
   "source": [
    "df = pd.read_excel(\"datasets/yahoo.xlsx\")\n",
    "df.head(2)"
   ]
  },
  {
   "cell_type": "markdown",
   "metadata": {
    "id": "qsqo9ZGIfVGn"
   },
   "source": [
    "## import SAS dataset using pd.read_spss() function"
   ]
  },
  {
   "cell_type": "code",
   "execution_count": null,
   "metadata": {
    "id": "L77ANSPlfVGo",
    "outputId": "953797d1-2560-440d-aaa8-f1ba00f9163d"
   },
   "outputs": [],
   "source": [
    "df = pd.read_sas(\"datasets/DCSKINPRODUCT.sas7bdat\")\n",
    "df.head(2)"
   ]
  },
  {
   "cell_type": "markdown",
   "metadata": {
    "id": "lrhk6CsbfVGo"
   },
   "source": [
    "## import data from a SQL database"
   ]
  },
  {
   "cell_type": "code",
   "execution_count": null,
   "metadata": {
    "id": "2qM6NPOZfVGp",
    "outputId": "3079b5b2-216d-418d-8fda-39deb80ad662"
   },
   "outputs": [],
   "source": [
    "import sqlite3\n",
    "conn = sqlite3.connect('datasets/company_balancesheet_database.db')\n",
    "df = pd.read_sql(\"\"\"\n",
    " SELECT *\n",
    "    FROM balancesheet\n",
    "\"\"\", conn)\n",
    "df.head(2)"
   ]
  },
  {
   "cell_type": "markdown",
   "metadata": {
    "id": "aGDLullxfVGp"
   },
   "source": [
    "## import data from HTML directly from a Website!"
   ]
  },
  {
   "cell_type": "code",
   "execution_count": null,
   "metadata": {
    "id": "-FoGGnzafVGp"
   },
   "outputs": [],
   "source": [
    "list_dfs = pd.read_html('https://en.wikipedia.org/wiki/Minnesota')"
   ]
  },
  {
   "cell_type": "code",
   "execution_count": null,
   "metadata": {},
   "outputs": [],
   "source": [
    "type(list_dfs)"
   ]
  },
  {
   "cell_type": "code",
   "execution_count": null,
   "metadata": {
    "id": "u-8Vy8bgfVGq",
    "outputId": "aaa4bb69-57cb-4903-88bd-e36c438c0e1b"
   },
   "outputs": [],
   "source": [
    "list_dfs[3]"
   ]
  },
  {
   "cell_type": "code",
   "execution_count": null,
   "metadata": {},
   "outputs": [],
   "source": [
    "len(list_dfs)"
   ]
  },
  {
   "cell_type": "code",
   "execution_count": null,
   "metadata": {
    "id": "00cohUtSfVGq"
   },
   "outputs": [],
   "source": [
    "table_MN = pd.read_html('https://en.wikipedia.org/wiki/Minnesota', match='Historical population')"
   ]
  },
  {
   "cell_type": "code",
   "execution_count": null,
   "metadata": {
    "id": "Ymzg52QMfVGq",
    "outputId": "227f4faf-2f63-4ee6-8902-e868479c3190"
   },
   "outputs": [],
   "source": [
    "df = table_MN[0]\n",
    "df.head(2)"
   ]
  },
  {
   "cell_type": "markdown",
   "metadata": {
    "id": "L-UF70D3fVGq"
   },
   "source": [
    "## import dataset using pd.read_csv() function"
   ]
  },
  {
   "cell_type": "code",
   "execution_count": null,
   "metadata": {
    "id": "wJO4Df9EfVGq",
    "outputId": "dbb1315e-3624-42ae-980c-9ea07ee2c559"
   },
   "outputs": [],
   "source": [
    "df = pd.read_csv(\"datasets/anorexia.csv\")\n",
    "df.head(2)"
   ]
  },
  {
   "cell_type": "markdown",
   "metadata": {
    "id": "O_tHHiEKfVGq"
   },
   "source": [
    "---\n",
    "## Exercise\n",
    "\n",
    "Import 2 datasets into 2 different dataframes:\n",
    "* census_train.csv\n",
    "* census_test.csv"
   ]
  },
  {
   "cell_type": "code",
   "execution_count": null,
   "metadata": {},
   "outputs": [],
   "source": []
  },
  {
   "cell_type": "code",
   "execution_count": null,
   "metadata": {},
   "outputs": [],
   "source": []
  },
  {
   "cell_type": "code",
   "execution_count": null,
   "metadata": {},
   "outputs": [],
   "source": []
  },
  {
   "cell_type": "code",
   "execution_count": null,
   "metadata": {},
   "outputs": [],
   "source": []
  },
  {
   "cell_type": "code",
   "execution_count": null,
   "metadata": {},
   "outputs": [],
   "source": []
  },
  {
   "cell_type": "markdown",
   "metadata": {},
   "source": [
    "# Exploratory Data Analysis"
   ]
  },
  {
   "cell_type": "code",
   "execution_count": 2,
   "metadata": {
    "id": "C1CHVn0DfVGr"
   },
   "outputs": [],
   "source": [
    "# import libraries numpy, pandas, and scipy.stats module\n",
    "import pandas as pd"
   ]
  },
  {
   "cell_type": "code",
   "execution_count": 3,
   "metadata": {
    "id": "YEDi4KwMfVGs"
   },
   "outputs": [],
   "source": [
    "# import dataset using pd.read_csv() function\n",
    "df = pd.read_csv(\"datasets/anorexia.csv\")"
   ]
  },
  {
   "cell_type": "code",
   "execution_count": 4,
   "metadata": {},
   "outputs": [
    {
     "data": {
      "text/html": [
       "<div>\n",
       "<style scoped>\n",
       "    .dataframe tbody tr th:only-of-type {\n",
       "        vertical-align: middle;\n",
       "    }\n",
       "\n",
       "    .dataframe tbody tr th {\n",
       "        vertical-align: top;\n",
       "    }\n",
       "\n",
       "    .dataframe thead th {\n",
       "        text-align: right;\n",
       "    }\n",
       "</style>\n",
       "<table border=\"1\" class=\"dataframe\">\n",
       "  <thead>\n",
       "    <tr style=\"text-align: right;\">\n",
       "      <th></th>\n",
       "      <th>ID</th>\n",
       "      <th>group</th>\n",
       "      <th>prewt</th>\n",
       "      <th>postwt</th>\n",
       "      <th>difwt</th>\n",
       "    </tr>\n",
       "  </thead>\n",
       "  <tbody>\n",
       "    <tr>\n",
       "      <th>0</th>\n",
       "      <td>101</td>\n",
       "      <td>1</td>\n",
       "      <td>80.5</td>\n",
       "      <td>82.2</td>\n",
       "      <td>1.7</td>\n",
       "    </tr>\n",
       "    <tr>\n",
       "      <th>1</th>\n",
       "      <td>201</td>\n",
       "      <td>2</td>\n",
       "      <td>80.7</td>\n",
       "      <td>80.2</td>\n",
       "      <td>-0.5</td>\n",
       "    </tr>\n",
       "    <tr>\n",
       "      <th>2</th>\n",
       "      <td>301</td>\n",
       "      <td>3</td>\n",
       "      <td>83.8</td>\n",
       "      <td>95.2</td>\n",
       "      <td>11.4</td>\n",
       "    </tr>\n",
       "    <tr>\n",
       "      <th>3</th>\n",
       "      <td>102</td>\n",
       "      <td>1</td>\n",
       "      <td>84.9</td>\n",
       "      <td>85.6</td>\n",
       "      <td>0.7</td>\n",
       "    </tr>\n",
       "    <tr>\n",
       "      <th>4</th>\n",
       "      <td>202</td>\n",
       "      <td>2</td>\n",
       "      <td>89.4</td>\n",
       "      <td>80.1</td>\n",
       "      <td>-9.3</td>\n",
       "    </tr>\n",
       "    <tr>\n",
       "      <th>...</th>\n",
       "      <td>...</td>\n",
       "      <td>...</td>\n",
       "      <td>...</td>\n",
       "      <td>...</td>\n",
       "      <td>...</td>\n",
       "    </tr>\n",
       "    <tr>\n",
       "      <th>67</th>\n",
       "      <td>126</td>\n",
       "      <td>1</td>\n",
       "      <td>79.7</td>\n",
       "      <td>83.6</td>\n",
       "      <td>3.9</td>\n",
       "    </tr>\n",
       "    <tr>\n",
       "      <th>68</th>\n",
       "      <td>226</td>\n",
       "      <td>2</td>\n",
       "      <td>89.0</td>\n",
       "      <td>78.8</td>\n",
       "      <td>-10.2</td>\n",
       "    </tr>\n",
       "    <tr>\n",
       "      <th>69</th>\n",
       "      <td>127</td>\n",
       "      <td>1</td>\n",
       "      <td>84.5</td>\n",
       "      <td>84.6</td>\n",
       "      <td>0.1</td>\n",
       "    </tr>\n",
       "    <tr>\n",
       "      <th>70</th>\n",
       "      <td>227</td>\n",
       "      <td>1</td>\n",
       "      <td>80.8</td>\n",
       "      <td>96.2</td>\n",
       "      <td>15.4</td>\n",
       "    </tr>\n",
       "    <tr>\n",
       "      <th>71</th>\n",
       "      <td>128</td>\n",
       "      <td>1</td>\n",
       "      <td>87.4</td>\n",
       "      <td>86.7</td>\n",
       "      <td>-0.7</td>\n",
       "    </tr>\n",
       "  </tbody>\n",
       "</table>\n",
       "<p>72 rows × 5 columns</p>\n",
       "</div>"
      ],
      "text/plain": [
       "     ID  group  prewt  postwt  difwt\n",
       "0   101      1   80.5    82.2    1.7\n",
       "1   201      2   80.7    80.2   -0.5\n",
       "2   301      3   83.8    95.2   11.4\n",
       "3   102      1   84.9    85.6    0.7\n",
       "4   202      2   89.4    80.1   -9.3\n",
       "..  ...    ...    ...     ...    ...\n",
       "67  126      1   79.7    83.6    3.9\n",
       "68  226      2   89.0    78.8  -10.2\n",
       "69  127      1   84.5    84.6    0.1\n",
       "70  227      1   80.8    96.2   15.4\n",
       "71  128      1   87.4    86.7   -0.7\n",
       "\n",
       "[72 rows x 5 columns]"
      ]
     },
     "execution_count": 4,
     "metadata": {},
     "output_type": "execute_result"
    }
   ],
   "source": [
    "df"
   ]
  },
  {
   "cell_type": "code",
   "execution_count": 5,
   "metadata": {},
   "outputs": [
    {
     "data": {
      "text/html": [
       "<div>\n",
       "<style scoped>\n",
       "    .dataframe tbody tr th:only-of-type {\n",
       "        vertical-align: middle;\n",
       "    }\n",
       "\n",
       "    .dataframe tbody tr th {\n",
       "        vertical-align: top;\n",
       "    }\n",
       "\n",
       "    .dataframe thead th {\n",
       "        text-align: right;\n",
       "    }\n",
       "</style>\n",
       "<table border=\"1\" class=\"dataframe\">\n",
       "  <thead>\n",
       "    <tr style=\"text-align: right;\">\n",
       "      <th></th>\n",
       "      <th>ID</th>\n",
       "      <th>group</th>\n",
       "      <th>prewt</th>\n",
       "      <th>postwt</th>\n",
       "      <th>difwt</th>\n",
       "    </tr>\n",
       "  </thead>\n",
       "  <tbody>\n",
       "    <tr>\n",
       "      <th>0</th>\n",
       "      <td>101</td>\n",
       "      <td>1</td>\n",
       "      <td>80.5</td>\n",
       "      <td>82.2</td>\n",
       "      <td>1.7</td>\n",
       "    </tr>\n",
       "    <tr>\n",
       "      <th>1</th>\n",
       "      <td>201</td>\n",
       "      <td>2</td>\n",
       "      <td>80.7</td>\n",
       "      <td>80.2</td>\n",
       "      <td>-0.5</td>\n",
       "    </tr>\n",
       "    <tr>\n",
       "      <th>2</th>\n",
       "      <td>301</td>\n",
       "      <td>3</td>\n",
       "      <td>83.8</td>\n",
       "      <td>95.2</td>\n",
       "      <td>11.4</td>\n",
       "    </tr>\n",
       "    <tr>\n",
       "      <th>3</th>\n",
       "      <td>102</td>\n",
       "      <td>1</td>\n",
       "      <td>84.9</td>\n",
       "      <td>85.6</td>\n",
       "      <td>0.7</td>\n",
       "    </tr>\n",
       "    <tr>\n",
       "      <th>4</th>\n",
       "      <td>202</td>\n",
       "      <td>2</td>\n",
       "      <td>89.4</td>\n",
       "      <td>80.1</td>\n",
       "      <td>-9.3</td>\n",
       "    </tr>\n",
       "  </tbody>\n",
       "</table>\n",
       "</div>"
      ],
      "text/plain": [
       "    ID  group  prewt  postwt  difwt\n",
       "0  101      1   80.5    82.2    1.7\n",
       "1  201      2   80.7    80.2   -0.5\n",
       "2  301      3   83.8    95.2   11.4\n",
       "3  102      1   84.9    85.6    0.7\n",
       "4  202      2   89.4    80.1   -9.3"
      ]
     },
     "execution_count": 5,
     "metadata": {},
     "output_type": "execute_result"
    }
   ],
   "source": [
    "df.head()"
   ]
  },
  {
   "cell_type": "code",
   "execution_count": 6,
   "metadata": {},
   "outputs": [
    {
     "data": {
      "text/html": [
       "<div>\n",
       "<style scoped>\n",
       "    .dataframe tbody tr th:only-of-type {\n",
       "        vertical-align: middle;\n",
       "    }\n",
       "\n",
       "    .dataframe tbody tr th {\n",
       "        vertical-align: top;\n",
       "    }\n",
       "\n",
       "    .dataframe thead th {\n",
       "        text-align: right;\n",
       "    }\n",
       "</style>\n",
       "<table border=\"1\" class=\"dataframe\">\n",
       "  <thead>\n",
       "    <tr style=\"text-align: right;\">\n",
       "      <th></th>\n",
       "      <th>ID</th>\n",
       "      <th>group</th>\n",
       "      <th>prewt</th>\n",
       "      <th>postwt</th>\n",
       "      <th>difwt</th>\n",
       "    </tr>\n",
       "  </thead>\n",
       "  <tbody>\n",
       "    <tr>\n",
       "      <th>67</th>\n",
       "      <td>126</td>\n",
       "      <td>1</td>\n",
       "      <td>79.7</td>\n",
       "      <td>83.6</td>\n",
       "      <td>3.9</td>\n",
       "    </tr>\n",
       "    <tr>\n",
       "      <th>68</th>\n",
       "      <td>226</td>\n",
       "      <td>2</td>\n",
       "      <td>89.0</td>\n",
       "      <td>78.8</td>\n",
       "      <td>-10.2</td>\n",
       "    </tr>\n",
       "    <tr>\n",
       "      <th>69</th>\n",
       "      <td>127</td>\n",
       "      <td>1</td>\n",
       "      <td>84.5</td>\n",
       "      <td>84.6</td>\n",
       "      <td>0.1</td>\n",
       "    </tr>\n",
       "    <tr>\n",
       "      <th>70</th>\n",
       "      <td>227</td>\n",
       "      <td>1</td>\n",
       "      <td>80.8</td>\n",
       "      <td>96.2</td>\n",
       "      <td>15.4</td>\n",
       "    </tr>\n",
       "    <tr>\n",
       "      <th>71</th>\n",
       "      <td>128</td>\n",
       "      <td>1</td>\n",
       "      <td>87.4</td>\n",
       "      <td>86.7</td>\n",
       "      <td>-0.7</td>\n",
       "    </tr>\n",
       "  </tbody>\n",
       "</table>\n",
       "</div>"
      ],
      "text/plain": [
       "     ID  group  prewt  postwt  difwt\n",
       "67  126      1   79.7    83.6    3.9\n",
       "68  226      2   89.0    78.8  -10.2\n",
       "69  127      1   84.5    84.6    0.1\n",
       "70  227      1   80.8    96.2   15.4\n",
       "71  128      1   87.4    86.7   -0.7"
      ]
     },
     "execution_count": 6,
     "metadata": {},
     "output_type": "execute_result"
    }
   ],
   "source": [
    "df.tail()"
   ]
  },
  {
   "cell_type": "code",
   "execution_count": 7,
   "metadata": {},
   "outputs": [
    {
     "data": {
      "text/plain": [
       "Index(['ID', 'group', 'prewt', 'postwt', 'difwt'], dtype='object')"
      ]
     },
     "execution_count": 7,
     "metadata": {},
     "output_type": "execute_result"
    }
   ],
   "source": [
    "df.columns"
   ]
  },
  {
   "cell_type": "code",
   "execution_count": 8,
   "metadata": {},
   "outputs": [
    {
     "data": {
      "text/plain": [
       "(72, 5)"
      ]
     },
     "execution_count": 8,
     "metadata": {},
     "output_type": "execute_result"
    }
   ],
   "source": [
    "df.shape"
   ]
  },
  {
   "cell_type": "code",
   "execution_count": 9,
   "metadata": {},
   "outputs": [
    {
     "data": {
      "text/plain": [
       "ID          int64\n",
       "group       int64\n",
       "prewt     float64\n",
       "postwt    float64\n",
       "difwt     float64\n",
       "dtype: object"
      ]
     },
     "execution_count": 9,
     "metadata": {},
     "output_type": "execute_result"
    }
   ],
   "source": [
    "df.dtypes"
   ]
  },
  {
   "cell_type": "code",
   "execution_count": 10,
   "metadata": {},
   "outputs": [
    {
     "name": "stdout",
     "output_type": "stream",
     "text": [
      "<class 'pandas.core.frame.DataFrame'>\n",
      "RangeIndex: 72 entries, 0 to 71\n",
      "Data columns (total 5 columns):\n",
      " #   Column  Non-Null Count  Dtype  \n",
      "---  ------  --------------  -----  \n",
      " 0   ID      72 non-null     int64  \n",
      " 1   group   72 non-null     int64  \n",
      " 2   prewt   72 non-null     float64\n",
      " 3   postwt  72 non-null     float64\n",
      " 4   difwt   72 non-null     float64\n",
      "dtypes: float64(3), int64(2)\n",
      "memory usage: 2.9 KB\n"
     ]
    }
   ],
   "source": [
    "df.info()"
   ]
  },
  {
   "cell_type": "code",
   "execution_count": 11,
   "metadata": {},
   "outputs": [
    {
     "data": {
      "text/html": [
       "<div>\n",
       "<style scoped>\n",
       "    .dataframe tbody tr th:only-of-type {\n",
       "        vertical-align: middle;\n",
       "    }\n",
       "\n",
       "    .dataframe tbody tr th {\n",
       "        vertical-align: top;\n",
       "    }\n",
       "\n",
       "    .dataframe thead th {\n",
       "        text-align: right;\n",
       "    }\n",
       "</style>\n",
       "<table border=\"1\" class=\"dataframe\">\n",
       "  <thead>\n",
       "    <tr style=\"text-align: right;\">\n",
       "      <th></th>\n",
       "      <th>ID</th>\n",
       "      <th>group</th>\n",
       "      <th>prewt</th>\n",
       "      <th>postwt</th>\n",
       "      <th>difwt</th>\n",
       "    </tr>\n",
       "  </thead>\n",
       "  <tbody>\n",
       "    <tr>\n",
       "      <th>count</th>\n",
       "      <td>72.000000</td>\n",
       "      <td>72.000000</td>\n",
       "      <td>72.000000</td>\n",
       "      <td>72.000000</td>\n",
       "      <td>72.000000</td>\n",
       "    </tr>\n",
       "    <tr>\n",
       "      <th>mean</th>\n",
       "      <td>197.736111</td>\n",
       "      <td>1.833333</td>\n",
       "      <td>82.408333</td>\n",
       "      <td>85.172222</td>\n",
       "      <td>2.763889</td>\n",
       "    </tr>\n",
       "    <tr>\n",
       "      <th>std</th>\n",
       "      <td>76.495419</td>\n",
       "      <td>0.787222</td>\n",
       "      <td>5.182466</td>\n",
       "      <td>8.035173</td>\n",
       "      <td>7.983598</td>\n",
       "    </tr>\n",
       "    <tr>\n",
       "      <th>min</th>\n",
       "      <td>101.000000</td>\n",
       "      <td>1.000000</td>\n",
       "      <td>70.000000</td>\n",
       "      <td>71.300000</td>\n",
       "      <td>-12.200000</td>\n",
       "    </tr>\n",
       "    <tr>\n",
       "      <th>25%</th>\n",
       "      <td>118.750000</td>\n",
       "      <td>1.000000</td>\n",
       "      <td>79.600000</td>\n",
       "      <td>79.325000</td>\n",
       "      <td>-2.225000</td>\n",
       "    </tr>\n",
       "    <tr>\n",
       "      <th>50%</th>\n",
       "      <td>208.500000</td>\n",
       "      <td>2.000000</td>\n",
       "      <td>82.300000</td>\n",
       "      <td>84.050000</td>\n",
       "      <td>1.650000</td>\n",
       "    </tr>\n",
       "    <tr>\n",
       "      <th>75%</th>\n",
       "      <td>226.250000</td>\n",
       "      <td>2.000000</td>\n",
       "      <td>86.000000</td>\n",
       "      <td>91.550000</td>\n",
       "      <td>9.100000</td>\n",
       "    </tr>\n",
       "    <tr>\n",
       "      <th>max</th>\n",
       "      <td>317.000000</td>\n",
       "      <td>3.000000</td>\n",
       "      <td>94.900000</td>\n",
       "      <td>103.600000</td>\n",
       "      <td>21.500000</td>\n",
       "    </tr>\n",
       "  </tbody>\n",
       "</table>\n",
       "</div>"
      ],
      "text/plain": [
       "               ID      group      prewt      postwt      difwt\n",
       "count   72.000000  72.000000  72.000000   72.000000  72.000000\n",
       "mean   197.736111   1.833333  82.408333   85.172222   2.763889\n",
       "std     76.495419   0.787222   5.182466    8.035173   7.983598\n",
       "min    101.000000   1.000000  70.000000   71.300000 -12.200000\n",
       "25%    118.750000   1.000000  79.600000   79.325000  -2.225000\n",
       "50%    208.500000   2.000000  82.300000   84.050000   1.650000\n",
       "75%    226.250000   2.000000  86.000000   91.550000   9.100000\n",
       "max    317.000000   3.000000  94.900000  103.600000  21.500000"
      ]
     },
     "execution_count": 11,
     "metadata": {},
     "output_type": "execute_result"
    }
   ],
   "source": [
    "df.describe()"
   ]
  },
  {
   "cell_type": "code",
   "execution_count": 12,
   "metadata": {},
   "outputs": [
    {
     "data": {
      "text/plain": [
       "1    29\n",
       "2    26\n",
       "3    17\n",
       "Name: group, dtype: int64"
      ]
     },
     "execution_count": 12,
     "metadata": {},
     "output_type": "execute_result"
    }
   ],
   "source": [
    "df['group'].value_counts()"
   ]
  },
  {
   "cell_type": "markdown",
   "metadata": {
    "id": "Qr_VDPJefVGr"
   },
   "source": [
    "---"
   ]
  },
  {
   "cell_type": "markdown",
   "metadata": {
    "id": "tioqu9EAfVGr"
   },
   "source": [
    "# Descriptive statistics\n",
    "\n",
    "Descriptive statistics is the process of describing the sample.\n",
    "For this, centrality measures, dispersion measures, distribution form and outliers are used.\n",
    "Visualizations can also be used to explore and make sense of the data.\n",
    "\n",
    "\n"
   ]
  },
  {
   "cell_type": "markdown",
   "metadata": {
    "id": "jOqfewNJfVGr"
   },
   "source": [
    "## PART 1 - Measures of central tendency"
   ]
  },
  {
   "cell_type": "markdown",
   "metadata": {
    "id": "cVytebnIfVGr"
   },
   "source": [
    "### Mean (Arithmetic Mean or Arithmetic Average)\n",
    "\n",
    "The mean (or average) is the most popular and well-known measure of central tendency. It can be used with both discrete and continuous data, although its use is more frequent with continuous data. The average is equal to the sum of all the values in the data set divided by the number of values in the data set. Therefore, if we have n values in a data set and they have values x1, x2, ..., xn, the mean of the sample, usually denoted by (pronounced x bar):\n",
    "\n",
    "\\begin{equation*}\n",
    "\\overline{x} =\n",
    "\\frac{( x_1 + x_2 + ... + x_n )} {N}\n",
    "\\end{equation*}\n",
    "\n",
    "This formula is usually written in a slightly different way using the Greek capital letter, which is pronounced \"sigma,\" which means \"sum of ...\":\n",
    "\n",
    "\\begin{equation*}\n",
    "\\overline{x} = \\frac{\\left( \\sum_{k=1}^n x_k \\right)} {N}\n",
    "\\end{equation*}\n",
    "\n",
    "You may have noticed that the above formula refers to the sample mean. So why have we called it a sample mean? This is because, in statistics, samples and populations have very different meanings and these differences are very important, even if, in the case of the average, they are calculated in the same way. To recognize that we are calculating the population mean and not the sample mean, we use the lowercase Greek letter \"mu\", indicated as µ:\n",
    "\n",
    "\\begin{equation*}\n",
    "\\mu = \\frac{\\left( \\sum_{k=1}^n x_k \\right)} {N}\n",
    "\\end{equation*}"
   ]
  },
  {
   "cell_type": "markdown",
   "metadata": {
    "id": "tj8gvU_dfVGr"
   },
   "source": [
    "Lets calculate some \"mean\" using Python for the anorexia.csv database"
   ]
  },
  {
   "cell_type": "code",
   "execution_count": 4,
   "metadata": {
    "id": "RZ5UBs0UfVGs",
    "outputId": "d1cecbf2-1ab0-44d7-8110-8a52bb056fa2"
   },
   "outputs": [
    {
     "data": {
      "text/plain": [
       "Index(['ID', 'group', 'prewt', 'postwt', 'difwt'], dtype='object')"
      ]
     },
     "execution_count": 4,
     "metadata": {},
     "output_type": "execute_result"
    }
   ],
   "source": [
    "df.columns"
   ]
  },
  {
   "cell_type": "code",
   "execution_count": 5,
   "metadata": {
    "id": "d4l-yPLifVGs",
    "outputId": "c9d34939-1825-4807-8a2f-41f62ce139b3"
   },
   "outputs": [
    {
     "data": {
      "text/plain": [
       "ID        197.736111\n",
       "group       1.833333\n",
       "prewt      82.408333\n",
       "postwt     85.172222\n",
       "difwt       2.763889\n",
       "dtype: float64"
      ]
     },
     "execution_count": 5,
     "metadata": {},
     "output_type": "execute_result"
    }
   ],
   "source": [
    "df.mean()"
   ]
  },
  {
   "cell_type": "code",
   "execution_count": 6,
   "metadata": {},
   "outputs": [
    {
     "data": {
      "text/plain": [
       "ID        76.495419\n",
       "group      0.787222\n",
       "prewt      5.182466\n",
       "postwt     8.035173\n",
       "difwt      7.983598\n",
       "dtype: float64"
      ]
     },
     "execution_count": 6,
     "metadata": {},
     "output_type": "execute_result"
    }
   ],
   "source": [
    "df.std()"
   ]
  },
  {
   "cell_type": "code",
   "execution_count": 8,
   "metadata": {},
   "outputs": [
    {
     "data": {
      "text/plain": [
       "0    1\n",
       "dtype: int64"
      ]
     },
     "execution_count": 8,
     "metadata": {},
     "output_type": "execute_result"
    }
   ],
   "source": [
    "df['group'].mode()"
   ]
  },
  {
   "cell_type": "code",
   "execution_count": 12,
   "metadata": {},
   "outputs": [
    {
     "data": {
      "text/plain": [
       "1    0.402778\n",
       "2    0.361111\n",
       "3    0.236111\n",
       "Name: group, dtype: float64"
      ]
     },
     "execution_count": 12,
     "metadata": {},
     "output_type": "execute_result"
    }
   ],
   "source": [
    "df['group'].value_counts(normalize=True)"
   ]
  },
  {
   "cell_type": "markdown",
   "metadata": {
    "id": "vXEKxCjffVGw"
   },
   "source": [
    "__QUESTION FOR DISCUSSIOS__: What does the previous result mean?"
   ]
  },
  {
   "cell_type": "markdown",
   "metadata": {
    "id": "Ap87JJ5cfVGw"
   },
   "source": [
    "Now, to continue analyzing mode, it would be a good idea to understand a little more about our database and mainly the __group__ column. According to https://stat.ethz.ch/R-manual/R-devel/library/MASS/html/anorexia.html, our database anorexia.csv weight change data for young patients with female anorexia.\n",
    "This dataset contains the recorded weights of anorexic patients before and after a treatment.\n",
    "\n",
    "* Group 1: Behavioural therapy\n",
    "* Group 2: Control group\n",
    "* Group 3: Family therapy\n",
    "\n",
    "The Prewt column\n",
    "\n",
    "      Indicates the patient's weight before the study period, in pounds.\n",
    "\n",
    "Postwt\n",
    "\n",
    "      Indicates the patient's weight after the study period, in pounds."
   ]
  },
  {
   "cell_type": "markdown",
   "metadata": {
    "id": "ajuBNWg2fVGw"
   },
   "source": [
    "---"
   ]
  },
  {
   "cell_type": "markdown",
   "metadata": {
    "id": "yTY99I_WfVGw"
   },
   "source": [
    "It ends up being easier to see this result, if instead of using mode, we directly draw a __frequency table__ and a __histogram graph__ by group."
   ]
  },
  {
   "cell_type": "markdown",
   "metadata": {
    "id": "qIdNLthefVGw"
   },
   "source": [
    "### Frequency table"
   ]
  },
  {
   "cell_type": "code",
   "execution_count": 24,
   "metadata": {},
   "outputs": [
    {
     "data": {
      "text/html": [
       "<div>\n",
       "<style scoped>\n",
       "    .dataframe tbody tr th:only-of-type {\n",
       "        vertical-align: middle;\n",
       "    }\n",
       "\n",
       "    .dataframe tbody tr th {\n",
       "        vertical-align: top;\n",
       "    }\n",
       "\n",
       "    .dataframe thead th {\n",
       "        text-align: right;\n",
       "    }\n",
       "</style>\n",
       "<table border=\"1\" class=\"dataframe\">\n",
       "  <thead>\n",
       "    <tr style=\"text-align: right;\">\n",
       "      <th></th>\n",
       "      <th>group</th>\n",
       "      <th>1</th>\n",
       "      <th>2</th>\n",
       "      <th>3</th>\n",
       "    </tr>\n",
       "  </thead>\n",
       "  <tbody>\n",
       "    <tr>\n",
       "      <th rowspan=\"8\" valign=\"top\">ID</th>\n",
       "      <th>count</th>\n",
       "      <td>29.000000</td>\n",
       "      <td>26.000000</td>\n",
       "      <td>17.000000</td>\n",
       "    </tr>\n",
       "    <tr>\n",
       "      <th>mean</th>\n",
       "      <td>118.379310</td>\n",
       "      <td>213.500000</td>\n",
       "      <td>309.000000</td>\n",
       "    </tr>\n",
       "    <tr>\n",
       "      <th>std</th>\n",
       "      <td>22.398045</td>\n",
       "      <td>7.648529</td>\n",
       "      <td>5.049752</td>\n",
       "    </tr>\n",
       "    <tr>\n",
       "      <th>min</th>\n",
       "      <td>101.000000</td>\n",
       "      <td>201.000000</td>\n",
       "      <td>301.000000</td>\n",
       "    </tr>\n",
       "    <tr>\n",
       "      <th>25%</th>\n",
       "      <td>108.000000</td>\n",
       "      <td>207.250000</td>\n",
       "      <td>305.000000</td>\n",
       "    </tr>\n",
       "    <tr>\n",
       "      <th>50%</th>\n",
       "      <td>115.000000</td>\n",
       "      <td>213.500000</td>\n",
       "      <td>309.000000</td>\n",
       "    </tr>\n",
       "    <tr>\n",
       "      <th>75%</th>\n",
       "      <td>122.000000</td>\n",
       "      <td>219.750000</td>\n",
       "      <td>313.000000</td>\n",
       "    </tr>\n",
       "    <tr>\n",
       "      <th>max</th>\n",
       "      <td>227.000000</td>\n",
       "      <td>226.000000</td>\n",
       "      <td>317.000000</td>\n",
       "    </tr>\n",
       "    <tr>\n",
       "      <th rowspan=\"8\" valign=\"top\">prewt</th>\n",
       "      <th>count</th>\n",
       "      <td>29.000000</td>\n",
       "      <td>26.000000</td>\n",
       "      <td>17.000000</td>\n",
       "    </tr>\n",
       "    <tr>\n",
       "      <th>mean</th>\n",
       "      <td>82.689655</td>\n",
       "      <td>81.557692</td>\n",
       "      <td>83.229412</td>\n",
       "    </tr>\n",
       "    <tr>\n",
       "      <th>std</th>\n",
       "      <td>4.845495</td>\n",
       "      <td>5.707060</td>\n",
       "      <td>5.016693</td>\n",
       "    </tr>\n",
       "    <tr>\n",
       "      <th>min</th>\n",
       "      <td>70.000000</td>\n",
       "      <td>70.500000</td>\n",
       "      <td>73.400000</td>\n",
       "    </tr>\n",
       "    <tr>\n",
       "      <th>25%</th>\n",
       "      <td>80.400000</td>\n",
       "      <td>77.725000</td>\n",
       "      <td>80.500000</td>\n",
       "    </tr>\n",
       "    <tr>\n",
       "      <th>50%</th>\n",
       "      <td>82.600000</td>\n",
       "      <td>80.650000</td>\n",
       "      <td>83.300000</td>\n",
       "    </tr>\n",
       "    <tr>\n",
       "      <th>75%</th>\n",
       "      <td>85.000000</td>\n",
       "      <td>85.875000</td>\n",
       "      <td>86.000000</td>\n",
       "    </tr>\n",
       "    <tr>\n",
       "      <th>max</th>\n",
       "      <td>94.900000</td>\n",
       "      <td>91.800000</td>\n",
       "      <td>94.200000</td>\n",
       "    </tr>\n",
       "    <tr>\n",
       "      <th rowspan=\"8\" valign=\"top\">postwt</th>\n",
       "      <th>count</th>\n",
       "      <td>29.000000</td>\n",
       "      <td>26.000000</td>\n",
       "      <td>17.000000</td>\n",
       "    </tr>\n",
       "    <tr>\n",
       "      <th>mean</th>\n",
       "      <td>85.696552</td>\n",
       "      <td>81.107692</td>\n",
       "      <td>90.494118</td>\n",
       "    </tr>\n",
       "    <tr>\n",
       "      <th>std</th>\n",
       "      <td>8.351924</td>\n",
       "      <td>4.744253</td>\n",
       "      <td>8.475072</td>\n",
       "    </tr>\n",
       "    <tr>\n",
       "      <th>min</th>\n",
       "      <td>71.300000</td>\n",
       "      <td>73.000000</td>\n",
       "      <td>75.200000</td>\n",
       "    </tr>\n",
       "    <tr>\n",
       "      <th>25%</th>\n",
       "      <td>81.900000</td>\n",
       "      <td>77.575000</td>\n",
       "      <td>90.700000</td>\n",
       "    </tr>\n",
       "    <tr>\n",
       "      <th>50%</th>\n",
       "      <td>83.900000</td>\n",
       "      <td>80.700000</td>\n",
       "      <td>92.500000</td>\n",
       "    </tr>\n",
       "    <tr>\n",
       "      <th>75%</th>\n",
       "      <td>90.900000</td>\n",
       "      <td>84.675000</td>\n",
       "      <td>95.200000</td>\n",
       "    </tr>\n",
       "    <tr>\n",
       "      <th>max</th>\n",
       "      <td>103.600000</td>\n",
       "      <td>89.600000</td>\n",
       "      <td>101.600000</td>\n",
       "    </tr>\n",
       "    <tr>\n",
       "      <th rowspan=\"8\" valign=\"top\">difwt</th>\n",
       "      <th>count</th>\n",
       "      <td>29.000000</td>\n",
       "      <td>26.000000</td>\n",
       "      <td>17.000000</td>\n",
       "    </tr>\n",
       "    <tr>\n",
       "      <th>mean</th>\n",
       "      <td>3.006897</td>\n",
       "      <td>-0.450000</td>\n",
       "      <td>7.264706</td>\n",
       "    </tr>\n",
       "    <tr>\n",
       "      <th>std</th>\n",
       "      <td>7.308504</td>\n",
       "      <td>7.988705</td>\n",
       "      <td>7.157421</td>\n",
       "    </tr>\n",
       "    <tr>\n",
       "      <th>min</th>\n",
       "      <td>-9.100000</td>\n",
       "      <td>-12.200000</td>\n",
       "      <td>-5.300000</td>\n",
       "    </tr>\n",
       "    <tr>\n",
       "      <th>25%</th>\n",
       "      <td>-0.700000</td>\n",
       "      <td>-7.000000</td>\n",
       "      <td>3.900000</td>\n",
       "    </tr>\n",
       "    <tr>\n",
       "      <th>50%</th>\n",
       "      <td>1.400000</td>\n",
       "      <td>-0.350000</td>\n",
       "      <td>9.000000</td>\n",
       "    </tr>\n",
       "    <tr>\n",
       "      <th>75%</th>\n",
       "      <td>3.900000</td>\n",
       "      <td>3.600000</td>\n",
       "      <td>11.400000</td>\n",
       "    </tr>\n",
       "    <tr>\n",
       "      <th>max</th>\n",
       "      <td>20.900000</td>\n",
       "      <td>15.900000</td>\n",
       "      <td>21.500000</td>\n",
       "    </tr>\n",
       "  </tbody>\n",
       "</table>\n",
       "</div>"
      ],
      "text/plain": [
       "group                  1           2           3\n",
       "ID     count   29.000000   26.000000   17.000000\n",
       "       mean   118.379310  213.500000  309.000000\n",
       "       std     22.398045    7.648529    5.049752\n",
       "       min    101.000000  201.000000  301.000000\n",
       "       25%    108.000000  207.250000  305.000000\n",
       "       50%    115.000000  213.500000  309.000000\n",
       "       75%    122.000000  219.750000  313.000000\n",
       "       max    227.000000  226.000000  317.000000\n",
       "prewt  count   29.000000   26.000000   17.000000\n",
       "       mean    82.689655   81.557692   83.229412\n",
       "       std      4.845495    5.707060    5.016693\n",
       "       min     70.000000   70.500000   73.400000\n",
       "       25%     80.400000   77.725000   80.500000\n",
       "       50%     82.600000   80.650000   83.300000\n",
       "       75%     85.000000   85.875000   86.000000\n",
       "       max     94.900000   91.800000   94.200000\n",
       "postwt count   29.000000   26.000000   17.000000\n",
       "       mean    85.696552   81.107692   90.494118\n",
       "       std      8.351924    4.744253    8.475072\n",
       "       min     71.300000   73.000000   75.200000\n",
       "       25%     81.900000   77.575000   90.700000\n",
       "       50%     83.900000   80.700000   92.500000\n",
       "       75%     90.900000   84.675000   95.200000\n",
       "       max    103.600000   89.600000  101.600000\n",
       "difwt  count   29.000000   26.000000   17.000000\n",
       "       mean     3.006897   -0.450000    7.264706\n",
       "       std      7.308504    7.988705    7.157421\n",
       "       min     -9.100000  -12.200000   -5.300000\n",
       "       25%     -0.700000   -7.000000    3.900000\n",
       "       50%      1.400000   -0.350000    9.000000\n",
       "       75%      3.900000    3.600000   11.400000\n",
       "       max     20.900000   15.900000   21.500000"
      ]
     },
     "execution_count": 24,
     "metadata": {},
     "output_type": "execute_result"
    }
   ],
   "source": [
    "df.groupby(['group']).describe().T"
   ]
  },
  {
   "cell_type": "code",
   "execution_count": 25,
   "metadata": {},
   "outputs": [],
   "source": [
    "df.groupby(['group']).describe().to_excel(\"results.xlsx\")"
   ]
  },
  {
   "cell_type": "code",
   "execution_count": null,
   "metadata": {
    "id": "Efq-8KrffVGw",
    "outputId": "73a0720a-1256-454e-8717-d5f5404f8eb4"
   },
   "outputs": [],
   "source": [
    "df[['group','ID']].groupby(['group']).count()"
   ]
  },
  {
   "cell_type": "code",
   "execution_count": 22,
   "metadata": {
    "id": "nzyOPTvCfVGw"
   },
   "outputs": [
    {
     "data": {
      "text/html": [
       "<div>\n",
       "<style scoped>\n",
       "    .dataframe tbody tr th:only-of-type {\n",
       "        vertical-align: middle;\n",
       "    }\n",
       "\n",
       "    .dataframe tbody tr th {\n",
       "        vertical-align: top;\n",
       "    }\n",
       "\n",
       "    .dataframe thead th {\n",
       "        text-align: right;\n",
       "    }\n",
       "</style>\n",
       "<table border=\"1\" class=\"dataframe\">\n",
       "  <thead>\n",
       "    <tr style=\"text-align: right;\">\n",
       "      <th></th>\n",
       "      <th>ID</th>\n",
       "      <th>group</th>\n",
       "      <th>prewt</th>\n",
       "      <th>postwt</th>\n",
       "      <th>difwt</th>\n",
       "    </tr>\n",
       "  </thead>\n",
       "  <tbody>\n",
       "    <tr>\n",
       "      <th>count</th>\n",
       "      <td>72.000000</td>\n",
       "      <td>72.000000</td>\n",
       "      <td>72.000000</td>\n",
       "      <td>72.000000</td>\n",
       "      <td>72.000000</td>\n",
       "    </tr>\n",
       "    <tr>\n",
       "      <th>mean</th>\n",
       "      <td>197.736111</td>\n",
       "      <td>1.833333</td>\n",
       "      <td>82.408333</td>\n",
       "      <td>85.172222</td>\n",
       "      <td>2.763889</td>\n",
       "    </tr>\n",
       "    <tr>\n",
       "      <th>std</th>\n",
       "      <td>76.495419</td>\n",
       "      <td>0.787222</td>\n",
       "      <td>5.182466</td>\n",
       "      <td>8.035173</td>\n",
       "      <td>7.983598</td>\n",
       "    </tr>\n",
       "    <tr>\n",
       "      <th>min</th>\n",
       "      <td>101.000000</td>\n",
       "      <td>1.000000</td>\n",
       "      <td>70.000000</td>\n",
       "      <td>71.300000</td>\n",
       "      <td>-12.200000</td>\n",
       "    </tr>\n",
       "    <tr>\n",
       "      <th>25%</th>\n",
       "      <td>118.750000</td>\n",
       "      <td>1.000000</td>\n",
       "      <td>79.600000</td>\n",
       "      <td>79.325000</td>\n",
       "      <td>-2.225000</td>\n",
       "    </tr>\n",
       "    <tr>\n",
       "      <th>50%</th>\n",
       "      <td>208.500000</td>\n",
       "      <td>2.000000</td>\n",
       "      <td>82.300000</td>\n",
       "      <td>84.050000</td>\n",
       "      <td>1.650000</td>\n",
       "    </tr>\n",
       "    <tr>\n",
       "      <th>75%</th>\n",
       "      <td>226.250000</td>\n",
       "      <td>2.000000</td>\n",
       "      <td>86.000000</td>\n",
       "      <td>91.550000</td>\n",
       "      <td>9.100000</td>\n",
       "    </tr>\n",
       "    <tr>\n",
       "      <th>max</th>\n",
       "      <td>317.000000</td>\n",
       "      <td>3.000000</td>\n",
       "      <td>94.900000</td>\n",
       "      <td>103.600000</td>\n",
       "      <td>21.500000</td>\n",
       "    </tr>\n",
       "  </tbody>\n",
       "</table>\n",
       "</div>"
      ],
      "text/plain": [
       "               ID      group      prewt      postwt      difwt\n",
       "count   72.000000  72.000000  72.000000   72.000000  72.000000\n",
       "mean   197.736111   1.833333  82.408333   85.172222   2.763889\n",
       "std     76.495419   0.787222   5.182466    8.035173   7.983598\n",
       "min    101.000000   1.000000  70.000000   71.300000 -12.200000\n",
       "25%    118.750000   1.000000  79.600000   79.325000  -2.225000\n",
       "50%    208.500000   2.000000  82.300000   84.050000   1.650000\n",
       "75%    226.250000   2.000000  86.000000   91.550000   9.100000\n",
       "max    317.000000   3.000000  94.900000  103.600000  21.500000"
      ]
     },
     "execution_count": 22,
     "metadata": {},
     "output_type": "execute_result"
    }
   ],
   "source": [
    "df.describe()"
   ]
  },
  {
   "cell_type": "markdown",
   "metadata": {
    "id": "ygXloo4FfVG3"
   },
   "source": [
    "# RECAP: WHICH DATAFRAME METHODS SHOULD YOU REMEMBER AFTER THIS CLASS?"
   ]
  },
  {
   "cell_type": "markdown",
   "metadata": {
    "id": "6HBK_ycafVG3"
   },
   "source": [
    "* __describe()__:df.describe() - summary statistics of numeric variables\n",
    "* __value_counts()__: df.group.value_counts() - frequency table applicable for categorical variables\n",
    "\n",
    "\n",
    "## NICE TO REMBER:\n",
    "* __groupby()__: df[['group','ID']].groupby(['group']).count() - df.groupby to do analysis by group like in SQL: \n",
    "SELECT COUNT(*) FROM df GROUP BY group;"
   ]
  },
  {
   "cell_type": "markdown",
   "metadata": {
    "id": "s72NjyYmfVG4"
   },
   "source": [
    "# What should you know so far?\n",
    "\n",
    "* df.head()\n",
    "* df.describe()\n",
    "* df.value_counts()\n",
    "* df.groupby('column_name').describe()\n",
    "    \n",
    "\n",
    "Let's hear a \"AMAZING\" song: <a href=\"https://youtu.be/1ftw05DYasM\"> https://youtu.be/1ftw05DYasM </a>\n",
    "\n",
    "<a href=\"https://youtu.be/1ftw05DYasM\"> <img src=\"img/head_describe_value_counts_song.png\" width=400 height=300 align=\"center\"> </a>\n",
    "\n",
    "---"
   ]
  },
  {
   "cell_type": "markdown",
   "metadata": {},
   "source": [
    "---\n",
    "## Exercise 2\n",
    "\n",
    "1. Make a quick EDA with the census_train.csv dataset\n",
    "2. Analyse the percentage of people of each level of education that earns above 50k "
   ]
  },
  {
   "cell_type": "code",
   "execution_count": null,
   "metadata": {},
   "outputs": [],
   "source": []
  },
  {
   "cell_type": "code",
   "execution_count": null,
   "metadata": {},
   "outputs": [],
   "source": []
  },
  {
   "cell_type": "code",
   "execution_count": null,
   "metadata": {},
   "outputs": [],
   "source": []
  },
  {
   "cell_type": "code",
   "execution_count": null,
   "metadata": {},
   "outputs": [],
   "source": []
  }
 ],
 "metadata": {
  "colab": {
   "provenance": []
  },
  "kernelspec": {
   "display_name": "Python 3",
   "language": "python",
   "name": "python3"
  },
  "language_info": {
   "codemirror_mode": {
    "name": "ipython",
    "version": 3
   },
   "file_extension": ".py",
   "mimetype": "text/x-python",
   "name": "python",
   "nbconvert_exporter": "python",
   "pygments_lexer": "ipython3",
   "version": "3.8.8"
  },
  "vscode": {
   "interpreter": {
    "hash": "916dbcbb3f70747c44a77c7bcd40155683ae19c65e1c03b4aa3499c5328201f1"
   }
  }
 },
 "nbformat": 4,
 "nbformat_minor": 1
}
