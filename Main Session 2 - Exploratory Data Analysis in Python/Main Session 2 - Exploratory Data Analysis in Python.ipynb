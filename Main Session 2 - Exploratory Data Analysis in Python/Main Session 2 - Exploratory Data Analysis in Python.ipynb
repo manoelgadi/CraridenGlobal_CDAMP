{
 "cells": [
  {
   "cell_type": "code",
   "execution_count": 1,
   "metadata": {},
   "outputs": [
    {
     "data": {
      "text/html": [
       "<style>.container { width:100% !important; }</style>"
      ],
      "text/plain": [
       "<IPython.core.display.HTML object>"
      ]
     },
     "metadata": {},
     "output_type": "display_data"
    }
   ],
   "source": [
    "from IPython.display import display, HTML\n",
    "display(HTML(\"<style>.container { width:100% !important; }</style>\"))"
   ]
  },
  {
   "cell_type": "markdown",
   "metadata": {
    "id": "pSKLN0VefVGe"
   },
   "source": [
    "\n",
    "\n",
    "Author: Prof. Manoel Gadi\n",
    "\n",
    "Contact: manoelgadi@gmail.com\n",
    "\n",
    "Teaching Web: http://mfalonso.pythonanywhere.com\n",
    "\n",
    "Linkedin: https://www.linkedin.com/in/manoel-gadi-97821213/\n",
    "\n",
    "Github: https://github.com/manoelgadi\n",
    "\n",
    "Last revision: 27/October/2022\n",
    "\n"
   ]
  },
  {
   "cell_type": "markdown",
   "metadata": {},
   "source": [
    "# Session 2 - Exploratory Data Analysis in Python"
   ]
  },
  {
   "cell_type": "markdown",
   "metadata": {
    "id": "GxK2-fUUfVGj"
   },
   "source": [
    "## Python Ecosystem\n",
    "<img src=\"img/scipy_ecosystem.png\" width=400 height=300 align=\"left\">"
   ]
  },
  {
   "cell_type": "markdown",
   "metadata": {
    "id": "e2BFDaEAfVGj"
   },
   "source": [
    "## Python Pandas DataFrame\n",
    "A **DataFrame** in pandas is a tabular, spreadsheet-like (Excel-like) structure with an **ordered** collection of columns, each with potentially a different type.\n",
    "\n",
    "<img src=\"img/pandas_df_structure.png\" width=400 height=300 align=\"left\">\n"
   ]
  },
  {
   "cell_type": "markdown",
   "metadata": {
    "id": "CRzLMLdqfVGk"
   },
   "source": [
    "Like in Excel, DataFrames have **both** column name and row indexes:\n",
    "* .iloc (index locator) accessing the data via a list [0,1,2,...,N] and \n",
    "* .loc accessing the data as dictionary {key:value}. \n",
    "\n",
    "There will be more tecninical details about pandas in further classes... Let's play with its basic functionalities first."
   ]
  },
  {
   "cell_type": "markdown",
   "metadata": {
    "id": "kCHfTTMffVGk"
   },
   "source": [
    "## Growing with Pandas - Reading files using Pandas"
   ]
  },
  {
   "cell_type": "markdown",
   "metadata": {
    "id": "IqpcpDF3fVGk"
   },
   "source": [
    "importing pandas library with an alias"
   ]
  },
  {
   "cell_type": "code",
   "execution_count": null,
   "metadata": {},
   "outputs": [],
   "source": [
    "print(dir())"
   ]
  },
  {
   "cell_type": "code",
   "execution_count": null,
   "metadata": {},
   "outputs": [],
   "source": [
    "__builtins__.print(\"Hello World\")"
   ]
  },
  {
   "cell_type": "code",
   "execution_count": null,
   "metadata": {},
   "outputs": [],
   "source": [
    "print(\"Hello World\")"
   ]
  },
  {
   "cell_type": "code",
   "execution_count": null,
   "metadata": {
    "id": "jlpJxfJyfVGl"
   },
   "outputs": [],
   "source": [
    "import pandas as pd"
   ]
  },
  {
   "cell_type": "code",
   "execution_count": null,
   "metadata": {},
   "outputs": [],
   "source": [
    "print(dir())"
   ]
  },
  {
   "cell_type": "markdown",
   "metadata": {
    "id": "4lqHdk3LfVGl"
   },
   "source": [
    "### importing dataset using pd.read_excel() function"
   ]
  },
  {
   "cell_type": "code",
   "execution_count": null,
   "metadata": {
    "id": "ZqW-c8iwfVGm",
    "outputId": "095a5070-cfdc-465c-c8d4-9184a7bdb8cf"
   },
   "outputs": [],
   "source": [
    "df = pd.read_excel(\"datasets/yahoo.xlsx\")\n",
    "df.head(2)"
   ]
  },
  {
   "cell_type": "markdown",
   "metadata": {
    "id": "qsqo9ZGIfVGn"
   },
   "source": [
    "## import SAS dataset using pd.read_spss() function"
   ]
  },
  {
   "cell_type": "code",
   "execution_count": null,
   "metadata": {
    "id": "L77ANSPlfVGo",
    "outputId": "953797d1-2560-440d-aaa8-f1ba00f9163d"
   },
   "outputs": [],
   "source": [
    "df = pd.read_sas(\"datasets/DCSKINPRODUCT.sas7bdat\")\n",
    "df.head(2)"
   ]
  },
  {
   "cell_type": "markdown",
   "metadata": {
    "id": "lrhk6CsbfVGo"
   },
   "source": [
    "## import data from a SQL database"
   ]
  },
  {
   "cell_type": "code",
   "execution_count": null,
   "metadata": {
    "id": "2qM6NPOZfVGp",
    "outputId": "3079b5b2-216d-418d-8fda-39deb80ad662"
   },
   "outputs": [],
   "source": [
    "import sqlite3\n",
    "conn = sqlite3.connect('datasets/company_balancesheet_database.db')\n",
    "df = pd.read_sql(\"\"\"\n",
    " SELECT *\n",
    "    FROM balancesheet\n",
    "\"\"\", conn)\n",
    "df.head(2)"
   ]
  },
  {
   "cell_type": "markdown",
   "metadata": {
    "id": "aGDLullxfVGp"
   },
   "source": [
    "## import data from HTML directly from a Website!"
   ]
  },
  {
   "cell_type": "code",
   "execution_count": null,
   "metadata": {
    "id": "-FoGGnzafVGp"
   },
   "outputs": [],
   "source": [
    "list_dfs = pd.read_html('https://en.wikipedia.org/wiki/Minnesota')"
   ]
  },
  {
   "cell_type": "code",
   "execution_count": null,
   "metadata": {},
   "outputs": [],
   "source": [
    "type(list_dfs)"
   ]
  },
  {
   "cell_type": "code",
   "execution_count": null,
   "metadata": {
    "id": "u-8Vy8bgfVGq",
    "outputId": "aaa4bb69-57cb-4903-88bd-e36c438c0e1b"
   },
   "outputs": [],
   "source": [
    "list_dfs[1]"
   ]
  },
  {
   "cell_type": "code",
   "execution_count": null,
   "metadata": {},
   "outputs": [],
   "source": [
    "len(list_dfs)"
   ]
  },
  {
   "cell_type": "code",
   "execution_count": null,
   "metadata": {
    "id": "00cohUtSfVGq"
   },
   "outputs": [],
   "source": [
    "table_MN = pd.read_html('https://en.wikipedia.org/wiki/Minnesota', match='Historical po')"
   ]
  },
  {
   "cell_type": "code",
   "execution_count": null,
   "metadata": {
    "id": "Ymzg52QMfVGq",
    "outputId": "227f4faf-2f63-4ee6-8902-e868479c3190"
   },
   "outputs": [],
   "source": [
    "df = table_MN[0]\n",
    "df.head(2)"
   ]
  },
  {
   "cell_type": "markdown",
   "metadata": {
    "id": "L-UF70D3fVGq"
   },
   "source": [
    "## import dataset using pd.read_csv() function"
   ]
  },
  {
   "cell_type": "code",
   "execution_count": null,
   "metadata": {
    "id": "wJO4Df9EfVGq",
    "outputId": "dbb1315e-3624-42ae-980c-9ea07ee2c559"
   },
   "outputs": [],
   "source": [
    "df = pd.read_csv(\"datasets/anorexia.csv\")\n",
    "df.head(2)"
   ]
  },
  {
   "cell_type": "markdown",
   "metadata": {
    "id": "O_tHHiEKfVGq"
   },
   "source": [
    "---\n",
    "## Exercise\n",
    "\n",
    "Import 2 datasets into 2 different dataframes:\n",
    "* census_train.csv\n",
    "* census_test.csv"
   ]
  },
  {
   "cell_type": "code",
   "execution_count": null,
   "metadata": {},
   "outputs": [],
   "source": []
  },
  {
   "cell_type": "code",
   "execution_count": null,
   "metadata": {},
   "outputs": [],
   "source": []
  },
  {
   "cell_type": "code",
   "execution_count": null,
   "metadata": {},
   "outputs": [],
   "source": []
  },
  {
   "cell_type": "code",
   "execution_count": null,
   "metadata": {},
   "outputs": [],
   "source": []
  },
  {
   "cell_type": "code",
   "execution_count": null,
   "metadata": {},
   "outputs": [],
   "source": []
  },
  {
   "cell_type": "markdown",
   "metadata": {},
   "source": [
    "# Exploratory Data Analysis"
   ]
  },
  {
   "cell_type": "code",
   "execution_count": null,
   "metadata": {
    "id": "C1CHVn0DfVGr"
   },
   "outputs": [],
   "source": [
    "# import libraries numpy, pandas, and scipy.stats module\n",
    "import pandas as pd"
   ]
  },
  {
   "cell_type": "code",
   "execution_count": null,
   "metadata": {
    "id": "YEDi4KwMfVGs"
   },
   "outputs": [],
   "source": [
    "# import dataset using pd.read_csv() function\n",
    "df = pd.read_csv(\"datasets/anorexia.csv\")"
   ]
  },
  {
   "cell_type": "code",
   "execution_count": null,
   "metadata": {},
   "outputs": [],
   "source": [
    "df"
   ]
  },
  {
   "cell_type": "code",
   "execution_count": null,
   "metadata": {},
   "outputs": [],
   "source": [
    "df.head(10)"
   ]
  },
  {
   "cell_type": "code",
   "execution_count": null,
   "metadata": {},
   "outputs": [],
   "source": [
    "df.tail(3)"
   ]
  },
  {
   "cell_type": "code",
   "execution_count": null,
   "metadata": {},
   "outputs": [],
   "source": [
    "df.columns"
   ]
  },
  {
   "cell_type": "code",
   "execution_count": null,
   "metadata": {},
   "outputs": [],
   "source": [
    "df.shape"
   ]
  },
  {
   "cell_type": "code",
   "execution_count": null,
   "metadata": {},
   "outputs": [],
   "source": [
    "df.dtypes"
   ]
  },
  {
   "cell_type": "code",
   "execution_count": null,
   "metadata": {},
   "outputs": [],
   "source": [
    "df.info()"
   ]
  },
  {
   "cell_type": "code",
   "execution_count": null,
   "metadata": {},
   "outputs": [],
   "source": [
    "df.describe()"
   ]
  },
  {
   "cell_type": "code",
   "execution_count": null,
   "metadata": {},
   "outputs": [],
   "source": [
    "df['group'].value_counts(normalize=True)"
   ]
  },
  {
   "cell_type": "markdown",
   "metadata": {
    "id": "Qr_VDPJefVGr"
   },
   "source": [
    "---"
   ]
  },
  {
   "cell_type": "markdown",
   "metadata": {},
   "source": [
    "---\n",
    "## Exercise 2\n",
    "\n",
    "1. Make a quick EDA with the census_train.csv dataset"
   ]
  },
  {
   "cell_type": "code",
   "execution_count": null,
   "metadata": {},
   "outputs": [],
   "source": []
  },
  {
   "cell_type": "code",
   "execution_count": null,
   "metadata": {},
   "outputs": [],
   "source": []
  },
  {
   "cell_type": "code",
   "execution_count": null,
   "metadata": {},
   "outputs": [],
   "source": []
  },
  {
   "cell_type": "code",
   "execution_count": null,
   "metadata": {},
   "outputs": [],
   "source": []
  },
  {
   "cell_type": "code",
   "execution_count": null,
   "metadata": {},
   "outputs": [],
   "source": []
  },
  {
   "cell_type": "code",
   "execution_count": null,
   "metadata": {},
   "outputs": [],
   "source": []
  },
  {
   "cell_type": "code",
   "execution_count": null,
   "metadata": {},
   "outputs": [],
   "source": []
  },
  {
   "cell_type": "code",
   "execution_count": null,
   "metadata": {},
   "outputs": [],
   "source": []
  }
 ],
 "metadata": {
  "colab": {
   "provenance": []
  },
  "kernelspec": {
   "display_name": "Python 3",
   "language": "python",
   "name": "python3"
  },
  "language_info": {
   "codemirror_mode": {
    "name": "ipython",
    "version": 3
   },
   "file_extension": ".py",
   "mimetype": "text/x-python",
   "name": "python",
   "nbconvert_exporter": "python",
   "pygments_lexer": "ipython3",
   "version": "3.8.8"
  },
  "vscode": {
   "interpreter": {
    "hash": "916dbcbb3f70747c44a77c7bcd40155683ae19c65e1c03b4aa3499c5328201f1"
   }
  }
 },
 "nbformat": 4,
 "nbformat_minor": 1
}
