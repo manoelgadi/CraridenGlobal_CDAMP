{
 "cells": [
  {
   "cell_type": "code",
   "execution_count": 1,
   "metadata": {},
   "outputs": [
    {
     "data": {
      "text/html": [
       "<style>.container { width:100% !important; }</style>"
      ],
      "text/plain": [
       "<IPython.core.display.HTML object>"
      ]
     },
     "metadata": {},
     "output_type": "display_data"
    }
   ],
   "source": [
    "from IPython.display import display, HTML\n",
    "display(HTML(\"<style>.container { width:100% !important; }</style>\"))"
   ]
  },
  {
   "cell_type": "markdown",
   "metadata": {},
   "source": [
    "# Session 3 - The making of Pandas data frames"
   ]
  },
  {
   "cell_type": "markdown",
   "metadata": {},
   "source": [
    "\n",
    "<img src=\"img/company-logo.png\" width=120 height=120 align=\"right\">\n",
    "\n",
    "Author: Prof. Manoel Gadi\n",
    "\n",
    "Contact: manoelgadi@gmail.com\n",
    "\n",
    "Teaching Web: http://mfalonso.pythonanywhere.com\n",
    "\n",
    "Linkedin: https://www.linkedin.com/in/manoel-gadi-97821213/\n",
    "\n",
    "Github: https://github.com/manoelgadi\n",
    "\n",
    "Last revision: 27/October/2022\n"
   ]
  },
  {
   "cell_type": "markdown",
   "metadata": {},
   "source": [
    "## 1.0 - Numpy "
   ]
  },
  {
   "cell_type": "markdown",
   "metadata": {},
   "source": [
    "<img src=\"img/Numpy1.png\" width=600 height=500 align=\"left\">"
   ]
  },
  {
   "cell_type": "markdown",
   "metadata": {},
   "source": [
    "<img src=\"img/Numpy2.png\" width=600 height=500 align=\"left\">"
   ]
  },
  {
   "cell_type": "markdown",
   "metadata": {},
   "source": [
    "<img src=\"img/Numpy3.png\" width=600 height=500 align=\"left\">"
   ]
  },
  {
   "cell_type": "markdown",
   "metadata": {},
   "source": [
    "Travis Oliphant is an American data scientist and businessman. He is founder of technology startup Anaconda. In addition, he is the primary creator of NumPy and founding contributor to the SciPy packages in the Python programming languages.\n",
    "ref: https://en.wikipedia.org/wiki/Travis_Oliphant"
   ]
  },
  {
   "cell_type": "markdown",
   "metadata": {},
   "source": [
    "Numpy arrays can be 1D, 2D, 3D, ... N-Dimension, let´s have a look at 2D:\n"
   ]
  },
  {
   "cell_type": "markdown",
   "metadata": {},
   "source": [
    "<img src=\"img/np_array.png\" width=500 height=400 align=\"left\">"
   ]
  },
  {
   "cell_type": "markdown",
   "metadata": {},
   "source": [
    "* The number of dimensions is known as the rank of the array\n",
    "* The shape of an array is a tuple of integers giving the size of the array along each dimension\n",
    "* The index refers to the position of a value in the array. In Python, indexing starts at 0.\n"
   ]
  },
  {
   "cell_type": "markdown",
   "metadata": {},
   "source": [
    "## 1.1 Practicing Numpy via exercises"
   ]
  },
  {
   "cell_type": "markdown",
   "metadata": {},
   "source": [
    "Where can I learn more about Numpy? https://github.com/rougier/numpy-100/blob/master/100_Numpy_exercises.ipynb"
   ]
  },
  {
   "cell_type": "markdown",
   "metadata": {},
   "source": [
    "# 2. Pandas"
   ]
  },
  {
   "cell_type": "markdown",
   "metadata": {},
   "source": [
    "Now we have all the ingredients to create one of the most powerful data structures of all, the DATA FRAME."
   ]
  },
  {
   "cell_type": "markdown",
   "metadata": {},
   "source": [
    "For this we will need:\n",
    "    * 2 Lists\n",
    "    * 2 Dictionaries\n",
    "    * and many 1D numpy arrays"
   ]
  },
  {
   "cell_type": "markdown",
   "metadata": {},
   "source": [
    "## 2.1 Pandas Data Frame Structure"
   ]
  },
  {
   "cell_type": "markdown",
   "metadata": {},
   "source": [
    "<img src=\"img/pandas_df_structure.png\" align=\"left\">"
   ]
  },
  {
   "cell_type": "markdown",
   "metadata": {},
   "source": [
    "Let's firs import pandas using the alias (or nickname) 'pd'"
   ]
  },
  {
   "cell_type": "code",
   "execution_count": 2,
   "metadata": {},
   "outputs": [],
   "source": [
    "import pandas as pd\n",
    "import numpy as np"
   ]
  },
  {
   "cell_type": "code",
   "execution_count": 3,
   "metadata": {},
   "outputs": [
    {
     "name": "stdout",
     "output_type": "stream",
     "text": [
      "          0         1         2         3\n",
      "0  0.762643  1.380487  1.027665 -0.423070\n",
      "1  1.600011  1.347830 -1.572619  0.515659\n",
      "2 -0.269411 -0.386952  0.637001  0.235059\n",
      "3 -0.492615  0.165268  0.677506  0.580209\n",
      "4  1.149133  1.807381 -0.669982  0.774252\n",
      "5  0.943741 -0.932524 -0.275798 -0.563353\n",
      "6  0.181623 -0.149857  1.074561  2.119868\n",
      "7  0.190805  0.381999 -0.072820 -0.722209\n",
      "8  2.789091  0.691060 -0.535376  2.456895\n",
      "9 -0.351469  0.148721 -0.536216  0.736286\n"
     ]
    }
   ],
   "source": [
    "df=pd.DataFrame(np.random.randn(10,4))\n",
    "print(df)"
   ]
  },
  {
   "cell_type": "code",
   "execution_count": 4,
   "metadata": {},
   "outputs": [],
   "source": [
    "# df['A']"
   ]
  },
  {
   "cell_type": "code",
   "execution_count": 5,
   "metadata": {},
   "outputs": [
    {
     "name": "stdout",
     "output_type": "stream",
     "text": [
      "          A         B         C         D\n",
      "0 -1.303255  0.699744 -0.724751  1.066354\n",
      "1 -1.548348 -0.084987  0.829938  1.052621\n",
      "2  0.870302  0.043481 -0.887181 -0.024244\n",
      "3  0.336638  1.194613 -0.190462  0.286961\n",
      "4 -0.096758  1.481669 -0.679433  0.043293\n",
      "5 -0.295857 -0.212238  1.010791  0.909572\n",
      "6 -0.934843 -1.417983 -0.947026 -0.708081\n",
      "7  0.340230 -1.471410 -0.134417 -0.951272\n",
      "8  0.074139  1.438235 -0.715659  0.040178\n",
      "9  0.636494  1.957226 -0.788561  0.104597\n"
     ]
    }
   ],
   "source": [
    "df=pd.DataFrame(np.random.randn(10,4),columns=['A','B','C','D'])\n",
    "print(df)"
   ]
  },
  {
   "cell_type": "code",
   "execution_count": 6,
   "metadata": {},
   "outputs": [
    {
     "data": {
      "text/plain": [
       "0   -1.303255\n",
       "1   -1.548348\n",
       "2    0.870302\n",
       "3    0.336638\n",
       "4   -0.096758\n",
       "5   -0.295857\n",
       "6   -0.934843\n",
       "7    0.340230\n",
       "8    0.074139\n",
       "9    0.636494\n",
       "Name: A, dtype: float64"
      ]
     },
     "execution_count": 6,
     "metadata": {},
     "output_type": "execute_result"
    }
   ],
   "source": [
    "df['A']"
   ]
  },
  {
   "cell_type": "code",
   "execution_count": 7,
   "metadata": {},
   "outputs": [
    {
     "name": "stdout",
     "output_type": "stream",
     "text": [
      "             A   B a l l         C         D\n",
      "row0 -1.677648  0.796749 -0.084687  0.313714\n",
      "row1  0.706630 -1.555183  0.579712  2.326993\n",
      "row2 -0.651134 -0.205622 -2.182288  1.821328\n",
      "row3  1.824697 -0.780913 -0.418773  0.217954\n",
      "row4 -2.001827  0.223153 -1.590659 -1.006255\n",
      "row5 -0.508658  0.362282  0.017476  0.403520\n",
      "row6  1.188983 -1.057014  0.701907  1.833508\n",
      "row7 -0.853101 -1.024936 -0.391805  0.381026\n",
      "row8 -0.067996  0.334960 -0.774354  0.079186\n",
      "row9  0.175510 -0.573544 -1.262235  0.121385\n"
     ]
    }
   ],
   "source": [
    "df=pd.DataFrame(np.random.randn(10,4),columns=['A','B a l l','C','D'],index=['row0', 'row1', 'row2', 'row3', 'row4', 'row5', \n",
    "                                                                       'row6', 'row7', 'row8', 'row9'])\n",
    "print(df)"
   ]
  },
  {
   "cell_type": "markdown",
   "metadata": {},
   "source": [
    "Selection column 'B' using its name, in other words, using the dictionary!"
   ]
  },
  {
   "cell_type": "code",
   "execution_count": 8,
   "metadata": {},
   "outputs": [
    {
     "data": {
      "text/plain": [
       "row0   -1.677648\n",
       "row1    0.706630\n",
       "row2   -0.651134\n",
       "row3    1.824697\n",
       "row4   -2.001827\n",
       "row5   -0.508658\n",
       "row6    1.188983\n",
       "row7   -0.853101\n",
       "row8   -0.067996\n",
       "row9    0.175510\n",
       "Name: A, dtype: float64"
      ]
     },
     "execution_count": 8,
     "metadata": {},
     "output_type": "execute_result"
    }
   ],
   "source": [
    "df.A"
   ]
  },
  {
   "cell_type": "code",
   "execution_count": 9,
   "metadata": {},
   "outputs": [
    {
     "data": {
      "text/plain": [
       "row0    0.796749\n",
       "row1   -1.555183\n",
       "row2   -0.205622\n",
       "row3   -0.780913\n",
       "row4    0.223153\n",
       "row5    0.362282\n",
       "row6   -1.057014\n",
       "row7   -1.024936\n",
       "row8    0.334960\n",
       "row9   -0.573544\n",
       "Name: B a l l, dtype: float64"
      ]
     },
     "execution_count": 9,
     "metadata": {},
     "output_type": "execute_result"
    }
   ],
   "source": [
    "#df.B a l l #equivalent to df.loc[:,'B'] - LOC is for accessing the DICTIONARY of labels.\n",
    "df['B a l l'] #df.loc[rows,columns]"
   ]
  },
  {
   "cell_type": "code",
   "execution_count": 10,
   "metadata": {},
   "outputs": [
    {
     "data": {
      "text/plain": [
       "row0    0.796749\n",
       "row1   -1.555183\n",
       "row2   -0.205622\n",
       "row3   -0.780913\n",
       "row4    0.223153\n",
       "row5    0.362282\n",
       "row6   -1.057014\n",
       "row7   -1.024936\n",
       "row8    0.334960\n",
       "row9   -0.573544\n",
       "Name: B a l l, dtype: float64"
      ]
     },
     "execution_count": 10,
     "metadata": {},
     "output_type": "execute_result"
    }
   ],
   "source": [
    "df['B a l l']"
   ]
  },
  {
   "cell_type": "markdown",
   "metadata": {},
   "source": [
    "Selection column 'B' using its position, in other words, using the list!"
   ]
  },
  {
   "cell_type": "code",
   "execution_count": 11,
   "metadata": {},
   "outputs": [
    {
     "name": "stdout",
     "output_type": "stream",
     "text": [
      "             A   B a l l         C         D\n",
      "row0 -1.677648  0.796749 -0.084687  0.313714\n",
      "row1  0.706630 -1.555183  0.579712  2.326993\n",
      "row2 -0.651134 -0.205622 -2.182288  1.821328\n",
      "row3  1.824697 -0.780913 -0.418773  0.217954\n",
      "row4 -2.001827  0.223153 -1.590659 -1.006255\n",
      "row5 -0.508658  0.362282  0.017476  0.403520\n",
      "row6  1.188983 -1.057014  0.701907  1.833508\n",
      "row7 -0.853101 -1.024936 -0.391805  0.381026\n",
      "row8 -0.067996  0.334960 -0.774354  0.079186\n",
      "row9  0.175510 -0.573544 -1.262235  0.121385\n"
     ]
    }
   ],
   "source": [
    "print(df)"
   ]
  },
  {
   "cell_type": "code",
   "execution_count": 12,
   "metadata": {},
   "outputs": [
    {
     "data": {
      "text/html": [
       "<div>\n",
       "<style scoped>\n",
       "    .dataframe tbody tr th:only-of-type {\n",
       "        vertical-align: middle;\n",
       "    }\n",
       "\n",
       "    .dataframe tbody tr th {\n",
       "        vertical-align: top;\n",
       "    }\n",
       "\n",
       "    .dataframe thead th {\n",
       "        text-align: right;\n",
       "    }\n",
       "</style>\n",
       "<table border=\"1\" class=\"dataframe\">\n",
       "  <thead>\n",
       "    <tr style=\"text-align: right;\">\n",
       "      <th></th>\n",
       "      <th>B a l l</th>\n",
       "      <th>C</th>\n",
       "    </tr>\n",
       "  </thead>\n",
       "  <tbody>\n",
       "    <tr>\n",
       "      <th>row1</th>\n",
       "      <td>-1.555183</td>\n",
       "      <td>0.579712</td>\n",
       "    </tr>\n",
       "    <tr>\n",
       "      <th>row2</th>\n",
       "      <td>-0.205622</td>\n",
       "      <td>-2.182288</td>\n",
       "    </tr>\n",
       "    <tr>\n",
       "      <th>row3</th>\n",
       "      <td>-0.780913</td>\n",
       "      <td>-0.418773</td>\n",
       "    </tr>\n",
       "  </tbody>\n",
       "</table>\n",
       "</div>"
      ],
      "text/plain": [
       "       B a l l         C\n",
       "row1 -1.555183  0.579712\n",
       "row2 -0.205622 -2.182288\n",
       "row3 -0.780913 -0.418773"
      ]
     },
     "execution_count": 12,
     "metadata": {},
     "output_type": "execute_result"
    }
   ],
   "source": [
    "df.iloc[1:4,1:3] # second column of data frame (last_name) - : = all rows of column 1 (list index starts from 0) \n",
    "#  - ILOC is for accessing the LIST of indexes."
   ]
  },
  {
   "cell_type": "markdown",
   "metadata": {},
   "source": [
    "Selecting the second row using its name 'row1', in other words, using the dictionary!"
   ]
  },
  {
   "cell_type": "code",
   "execution_count": 13,
   "metadata": {},
   "outputs": [
    {
     "data": {
      "text/plain": [
       "row0   -0.084687\n",
       "row1    0.579712\n",
       "row2   -2.182288\n",
       "row3   -0.418773\n",
       "row4   -1.590659\n",
       "row5    0.017476\n",
       "row6    0.701907\n",
       "row7   -0.391805\n",
       "row8   -0.774354\n",
       "row9   -1.262235\n",
       "Name: C, dtype: float64"
      ]
     },
     "execution_count": 13,
     "metadata": {},
     "output_type": "execute_result"
    }
   ],
   "source": [
    "df['C']"
   ]
  },
  {
   "cell_type": "code",
   "execution_count": 14,
   "metadata": {},
   "outputs": [
    {
     "data": {
      "text/plain": [
       "0.5797116451764093"
      ]
     },
     "execution_count": 14,
     "metadata": {},
     "output_type": "execute_result"
    }
   ],
   "source": [
    "df.loc['row1','C']"
   ]
  },
  {
   "cell_type": "markdown",
   "metadata": {},
   "source": [
    "Selecting the second row using its position or index, in other words, using the list!"
   ]
  },
  {
   "cell_type": "code",
   "execution_count": 15,
   "metadata": {},
   "outputs": [
    {
     "data": {
      "text/html": [
       "<div>\n",
       "<style scoped>\n",
       "    .dataframe tbody tr th:only-of-type {\n",
       "        vertical-align: middle;\n",
       "    }\n",
       "\n",
       "    .dataframe tbody tr th {\n",
       "        vertical-align: top;\n",
       "    }\n",
       "\n",
       "    .dataframe thead th {\n",
       "        text-align: right;\n",
       "    }\n",
       "</style>\n",
       "<table border=\"1\" class=\"dataframe\">\n",
       "  <thead>\n",
       "    <tr style=\"text-align: right;\">\n",
       "      <th></th>\n",
       "      <th>A</th>\n",
       "      <th>B a l l</th>\n",
       "      <th>C</th>\n",
       "      <th>D</th>\n",
       "    </tr>\n",
       "  </thead>\n",
       "  <tbody>\n",
       "    <tr>\n",
       "      <th>row0</th>\n",
       "      <td>-1.677648</td>\n",
       "      <td>0.796749</td>\n",
       "      <td>-0.084687</td>\n",
       "      <td>0.313714</td>\n",
       "    </tr>\n",
       "    <tr>\n",
       "      <th>row1</th>\n",
       "      <td>0.706630</td>\n",
       "      <td>-1.555183</td>\n",
       "      <td>0.579712</td>\n",
       "      <td>2.326993</td>\n",
       "    </tr>\n",
       "    <tr>\n",
       "      <th>row2</th>\n",
       "      <td>-0.651134</td>\n",
       "      <td>-0.205622</td>\n",
       "      <td>-2.182288</td>\n",
       "      <td>1.821328</td>\n",
       "    </tr>\n",
       "    <tr>\n",
       "      <th>row3</th>\n",
       "      <td>1.824697</td>\n",
       "      <td>-0.780913</td>\n",
       "      <td>-0.418773</td>\n",
       "      <td>0.217954</td>\n",
       "    </tr>\n",
       "    <tr>\n",
       "      <th>row4</th>\n",
       "      <td>-2.001827</td>\n",
       "      <td>0.223153</td>\n",
       "      <td>-1.590659</td>\n",
       "      <td>-1.006255</td>\n",
       "    </tr>\n",
       "    <tr>\n",
       "      <th>row5</th>\n",
       "      <td>-0.508658</td>\n",
       "      <td>0.362282</td>\n",
       "      <td>0.017476</td>\n",
       "      <td>0.403520</td>\n",
       "    </tr>\n",
       "    <tr>\n",
       "      <th>row6</th>\n",
       "      <td>1.188983</td>\n",
       "      <td>-1.057014</td>\n",
       "      <td>0.701907</td>\n",
       "      <td>1.833508</td>\n",
       "    </tr>\n",
       "    <tr>\n",
       "      <th>row7</th>\n",
       "      <td>-0.853101</td>\n",
       "      <td>-1.024936</td>\n",
       "      <td>-0.391805</td>\n",
       "      <td>0.381026</td>\n",
       "    </tr>\n",
       "    <tr>\n",
       "      <th>row8</th>\n",
       "      <td>-0.067996</td>\n",
       "      <td>0.334960</td>\n",
       "      <td>-0.774354</td>\n",
       "      <td>0.079186</td>\n",
       "    </tr>\n",
       "    <tr>\n",
       "      <th>row9</th>\n",
       "      <td>0.175510</td>\n",
       "      <td>-0.573544</td>\n",
       "      <td>-1.262235</td>\n",
       "      <td>0.121385</td>\n",
       "    </tr>\n",
       "  </tbody>\n",
       "</table>\n",
       "</div>"
      ],
      "text/plain": [
       "             A   B a l l         C         D\n",
       "row0 -1.677648  0.796749 -0.084687  0.313714\n",
       "row1  0.706630 -1.555183  0.579712  2.326993\n",
       "row2 -0.651134 -0.205622 -2.182288  1.821328\n",
       "row3  1.824697 -0.780913 -0.418773  0.217954\n",
       "row4 -2.001827  0.223153 -1.590659 -1.006255\n",
       "row5 -0.508658  0.362282  0.017476  0.403520\n",
       "row6  1.188983 -1.057014  0.701907  1.833508\n",
       "row7 -0.853101 -1.024936 -0.391805  0.381026\n",
       "row8 -0.067996  0.334960 -0.774354  0.079186\n",
       "row9  0.175510 -0.573544 -1.262235  0.121385"
      ]
     },
     "execution_count": 15,
     "metadata": {},
     "output_type": "execute_result"
    }
   ],
   "source": [
    "df"
   ]
  },
  {
   "cell_type": "code",
   "execution_count": 16,
   "metadata": {},
   "outputs": [
    {
     "data": {
      "text/plain": [
       "A          0.706630\n",
       "B a l l   -1.555183\n",
       "C          0.579712\n",
       "D          2.326993\n",
       "Name: row1, dtype: float64"
      ]
     },
     "execution_count": 16,
     "metadata": {},
     "output_type": "execute_result"
    }
   ],
   "source": [
    "df.iloc[1] # second row of data frame using"
   ]
  },
  {
   "cell_type": "code",
   "execution_count": 17,
   "metadata": {},
   "outputs": [],
   "source": [
    "a = [0,1,2,3,4,5,6,7]"
   ]
  },
  {
   "cell_type": "code",
   "execution_count": 18,
   "metadata": {},
   "outputs": [
    {
     "data": {
      "text/plain": [
       "[0, 1, 2]"
      ]
     },
     "execution_count": 18,
     "metadata": {},
     "output_type": "execute_result"
    }
   ],
   "source": [
    "a[0:3]"
   ]
  },
  {
   "cell_type": "code",
   "execution_count": 19,
   "metadata": {},
   "outputs": [
    {
     "data": {
      "text/plain": [
       "row1    0.706630\n",
       "row2   -0.651134\n",
       "row3    1.824697\n",
       "row4   -2.001827\n",
       "row5   -0.508658\n",
       "row6    1.188983\n",
       "row7   -0.853101\n",
       "row8   -0.067996\n",
       "row9    0.175510\n",
       "Name: A, dtype: float64"
      ]
     },
     "execution_count": 19,
     "metadata": {},
     "output_type": "execute_result"
    }
   ],
   "source": [
    "df.iloc[1:10]['A']"
   ]
  },
  {
   "cell_type": "code",
   "execution_count": 20,
   "metadata": {},
   "outputs": [
    {
     "data": {
      "text/plain": [
       "row1    0.706630\n",
       "row2   -0.651134\n",
       "row3    1.824697\n",
       "row4   -2.001827\n",
       "row5   -0.508658\n",
       "row6    1.188983\n",
       "row7   -0.853101\n",
       "row8   -0.067996\n",
       "row9    0.175510\n",
       "Name: A, dtype: float64"
      ]
     },
     "execution_count": 20,
     "metadata": {},
     "output_type": "execute_result"
    }
   ],
   "source": [
    "df2 = df.iloc[1:10]\n",
    "df2['A']"
   ]
  },
  {
   "cell_type": "markdown",
   "metadata": {},
   "source": [
    "## 2.2 Slicing\n",
    "\n",
    "__ As .iloc access via list, and as we are specialists in list already ;-) - we can use the power of slicing to do cool things: __\n",
    "\n",
    "__ Rows: __\n",
    "* df.iloc[0] # first row of data frame\n",
    "* df.iloc[1] # second row of data frame\n",
    "* df.iloc[-1] # last row of data frame\n",
    "\n",
    "__ Columns: __ \n",
    "* df.iloc[:,0] # first column of data frame\n",
    "* df.iloc[:,1] # second column of data frame\n",
    "* df.iloc[:,-1] # last column of data frame"
   ]
  },
  {
   "cell_type": "code",
   "execution_count": 21,
   "metadata": {},
   "outputs": [
    {
     "data": {
      "text/plain": [
       "[0, 1, 2, 3, 4, 5, 6, 7]"
      ]
     },
     "execution_count": 21,
     "metadata": {},
     "output_type": "execute_result"
    }
   ],
   "source": [
    "a\n"
   ]
  },
  {
   "cell_type": "code",
   "execution_count": 22,
   "metadata": {},
   "outputs": [
    {
     "data": {
      "text/plain": [
       "[1, 3, 5]"
      ]
     },
     "execution_count": 22,
     "metadata": {},
     "output_type": "execute_result"
    }
   ],
   "source": [
    "a[1:6:2]"
   ]
  },
  {
   "cell_type": "code",
   "execution_count": 23,
   "metadata": {},
   "outputs": [
    {
     "name": "stdout",
     "output_type": "stream",
     "text": [
      "             A   B a l l         C         D\n",
      "row0 -1.677648  0.796749 -0.084687  0.313714\n",
      "row2 -0.651134 -0.205622 -2.182288  1.821328\n",
      "row4 -2.001827  0.223153 -1.590659 -1.006255\n",
      "row6  1.188983 -1.057014  0.701907  1.833508\n",
      "row8 -0.067996  0.334960 -0.774354  0.079186\n"
     ]
    }
   ],
   "source": [
    "# Remember, double colon :: allows us to set the step we wish to select.\n",
    "print(df.iloc[0::2]) #Starts from 0 and gets all the EVEN rows."
   ]
  },
  {
   "cell_type": "code",
   "execution_count": 24,
   "metadata": {},
   "outputs": [
    {
     "name": "stdout",
     "output_type": "stream",
     "text": [
      "             A   B a l l         C         D\n",
      "row1  0.706630 -1.555183  0.579712  2.326993\n",
      "row3  1.824697 -0.780913 -0.418773  0.217954\n",
      "row5 -0.508658  0.362282  0.017476  0.403520\n",
      "row7 -0.853101 -1.024936 -0.391805  0.381026\n",
      "row9  0.175510 -0.573544 -1.262235  0.121385\n"
     ]
    }
   ],
   "source": [
    "print(df.iloc[1::2]) #Starts from 0 and gets all the ODD rows."
   ]
  },
  {
   "cell_type": "code",
   "execution_count": 25,
   "metadata": {},
   "outputs": [
    {
     "name": "stdout",
     "output_type": "stream",
     "text": [
      "             A         C\n",
      "row0 -1.677648 -0.084687\n",
      "row1  0.706630  0.579712\n",
      "row2 -0.651134 -2.182288\n",
      "row3  1.824697 -0.418773\n",
      "row4 -2.001827 -1.590659\n",
      "row5 -0.508658  0.017476\n",
      "row6  1.188983  0.701907\n",
      "row7 -0.853101 -0.391805\n",
      "row8 -0.067996 -0.774354\n",
      "row9  0.175510 -1.262235\n"
     ]
    }
   ],
   "source": [
    "print(df.iloc[:,0::2]) #Starts from 0 and gets all the EVEN columns."
   ]
  },
  {
   "cell_type": "code",
   "execution_count": 26,
   "metadata": {},
   "outputs": [
    {
     "name": "stdout",
     "output_type": "stream",
     "text": [
      "       B a l l         D\n",
      "row0  0.796749  0.313714\n",
      "row1 -1.555183  2.326993\n",
      "row2 -0.205622  1.821328\n",
      "row3 -0.780913  0.217954\n",
      "row4  0.223153 -1.006255\n",
      "row5  0.362282  0.403520\n",
      "row6 -1.057014  1.833508\n",
      "row7 -1.024936  0.381026\n",
      "row8  0.334960  0.079186\n",
      "row9 -0.573544  0.121385\n"
     ]
    }
   ],
   "source": [
    "print(df.iloc[:,1::2]) #Starts from 1 and gets all the ODD columns."
   ]
  },
  {
   "cell_type": "markdown",
   "metadata": {},
   "source": [
    "## Exercise:\n",
    "\n",
    "__print that would return all the EVEN rows and all the ODD columns of df!!!__ \n",
    "\n"
   ]
  },
  {
   "cell_type": "markdown",
   "metadata": {},
   "source": [
    "Great job, from now on, we are ready to start doing serious things with Python using this power Data Structure that brings __VELOCITY, VOLUME AND VARIETY__ to the table."
   ]
  },
  {
   "cell_type": "markdown",
   "metadata": {},
   "source": [
    "## 2.4 Practicing Pandas via exercises"
   ]
  },
  {
   "cell_type": "markdown",
   "metadata": {},
   "source": [
    "Where can I learn more about Pandas? https://github.com/ajcr/100-pandas-puzzles/blob/master/100-pandas-puzzles-with-solutions.ipynb"
   ]
  },
  {
   "cell_type": "markdown",
   "metadata": {},
   "source": [
    "---\n",
    "# EXTRA MATERIAL - "
   ]
  },
  {
   "cell_type": "markdown",
   "metadata": {},
   "source": [
    "## 2.5 - A bit of Pandas history"
   ]
  },
  {
   "cell_type": "markdown",
   "metadata": {},
   "source": [
    "Pandas is an open source, BSD-licensed library providing high-performance, easy-to-use data structures and data analysis tools for the Python programming language.\n",
    "\n",
    "Pandas began as a project in 2008 to join together a specific set of requirements that were not found together on any tool.\n",
    "\n",
    "The author Wes McKinney was working at the investment fund AQR Capital Management at the time, he found in Numpy and in basic Python all the ingredients to put together a Data Structure as powerfull as its rivals SAS .sas7bdat and MATLAB .mat propretary data formats. \n",
    "\n"
   ]
  },
  {
   "cell_type": "markdown",
   "metadata": {},
   "source": [
    "<img src=\"img/WesMcKinney.png\" align=\"left\">"
   ]
  },
  {
   "cell_type": "markdown",
   "metadata": {},
   "source": [
    "Working in stock trading means BIG DATA - Variety, Velocity and Volume.\n",
    "\n",
    "* Variety: Pandas uses independent Numpy arrays to allow variety.\n",
    "* Velocity: Pandas is in-memory data format, allowing much faster computation than early rivals.\n",
    "* Volume: Computer disk swap allows pandas to use memory and disk to hold huge data sets.\n",
    "\n",
    "\n",
    "What else comes with pandas?\n",
    "\n",
    "* Data structures with labeled axes\n",
    "* Time series functionalities\n",
    "* Same data structures for both time-series and non-time series data\n",
    "* Arithmetic operations based on labels\n",
    "* Flexible handling of missing data\n",
    "* Merge and relational operations (like in SQL)\n",
    "\n",
    "Today, it has grown into one of the most important Data Analysis libraries!\n",
    "\n",
    "* Actively supported by a community from around the world\n",
    "* Is the go-to library for high-performance, easy-to-use data structures and data analysis tools \n",
    "* Is a project sponsored by NumFOCUS, same as:\n"
   ]
  },
  {
   "cell_type": "markdown",
   "metadata": {},
   "source": [
    "<img src=\"img/np_mat_jup.png\" width=500 height=400 align=\"left\">"
   ]
  },
  {
   "cell_type": "markdown",
   "metadata": {},
   "source": [
    "---"
   ]
  },
  {
   "cell_type": "markdown",
   "metadata": {},
   "source": [
    "## 3. More material - Recap on LISTS and more on Numpy"
   ]
  },
  {
   "cell_type": "code",
   "execution_count": 27,
   "metadata": {},
   "outputs": [
    {
     "name": "stdout",
     "output_type": "stream",
     "text": [
      "List a: [0, 1, 2, 3, 4, 5]\n",
      "List b: ['a', 'b', 'c']\n",
      "List c: [[0, 1, 2, 3], [4, 5, 6], [7, 8, 9]]\n",
      "List d: ['cat', 2]\n"
     ]
    }
   ],
   "source": [
    "a = [0,1,2,3,4,5] #this creates a basic numeric list (also known as a vector or one-dimensional array) \n",
    "print(\"List a: \" + str(a))\n",
    "\n",
    "b = ['a', 'b', 'c'] #this creates a list of strings\n",
    "print(\"List b: \" + str(b))\n",
    "\n",
    "c = [[0,1,2,3],[4,5,6],[7,8,9]] #you can also create a list of lists\n",
    "print(\"List c: \" + str(c))\n",
    "\n",
    "d = ['cat', 2] #a list can include many different data types\n",
    "print(\"List d: \" + str(d))"
   ]
  },
  {
   "cell_type": "code",
   "execution_count": null,
   "metadata": {},
   "outputs": [],
   "source": []
  },
  {
   "cell_type": "markdown",
   "metadata": {},
   "source": [
    "1.1 List slicing"
   ]
  },
  {
   "cell_type": "code",
   "execution_count": 28,
   "metadata": {},
   "outputs": [],
   "source": [
    "#a[w:s] - Wait w elements, start copy (:), stop before reaching index s"
   ]
  },
  {
   "cell_type": "code",
   "execution_count": 29,
   "metadata": {},
   "outputs": [
    {
     "name": "stdout",
     "output_type": "stream",
     "text": [
      "[2, 3]\n"
     ]
    }
   ],
   "source": [
    "print(a[2:4]) # Wait 2 elements (position 1 as lists start from 0), start copy (:), stop before reaching index 4 (position 3, as it will go to n-1)"
   ]
  },
  {
   "cell_type": "code",
   "execution_count": 30,
   "metadata": {},
   "outputs": [
    {
     "name": "stdout",
     "output_type": "stream",
     "text": [
      "[2, 3, 4, 5]\n"
     ]
    }
   ],
   "source": [
    "print(a[2:]) # Wait 2 element, start copy (:), stop before reaching index s, the DEFAULT behaviour if \"s\" is omitted is until the end."
   ]
  },
  {
   "cell_type": "code",
   "execution_count": 31,
   "metadata": {},
   "outputs": [
    {
     "name": "stdout",
     "output_type": "stream",
     "text": [
      "[0, 1]\n"
     ]
    }
   ],
   "source": [
    "print(a[:2]) # if \"w\" is omitted the DEFAULT behaviour is wait 0 elements, start copy (:), stop before reaching index 2"
   ]
  },
  {
   "cell_type": "code",
   "execution_count": 32,
   "metadata": {},
   "outputs": [
    {
     "name": "stdout",
     "output_type": "stream",
     "text": [
      "[0, 2, 4]\n",
      "[0, 2, 4]\n"
     ]
    }
   ],
   "source": [
    "# double colon :: allows us to set the step to select.\n",
    "print(a[0::2]) #Starts from 0 and gets all the EVEN positions.\n",
    "print(a[::2])"
   ]
  },
  {
   "cell_type": "code",
   "execution_count": 33,
   "metadata": {},
   "outputs": [
    {
     "name": "stdout",
     "output_type": "stream",
     "text": [
      "[1, 3, 5]\n"
     ]
    }
   ],
   "source": [
    "print(a[1::2]) #Starts from 0 and gets all the ODD positions."
   ]
  },
  {
   "cell_type": "markdown",
   "metadata": {},
   "source": [
    "## 3.2 Numpy\n",
    "\n",
    "<img src=\"img/scipy_ecosystem.png\" width=500 height=400 align=\"left\">"
   ]
  },
  {
   "cell_type": "code",
   "execution_count": 34,
   "metadata": {},
   "outputs": [],
   "source": [
    "import numpy as np"
   ]
  },
  {
   "cell_type": "markdown",
   "metadata": {},
   "source": [
    "## 3.3 Lists vs. arrays\n"
   ]
  },
  {
   "cell_type": "markdown",
   "metadata": {},
   "source": [
    "Let's mutiply list 'a' by 3. Then, let's do the same after transforming variable 'a' into an array."
   ]
  },
  {
   "cell_type": "code",
   "execution_count": 35,
   "metadata": {},
   "outputs": [
    {
     "name": "stdout",
     "output_type": "stream",
     "text": [
      "[0, 1, 2, 3, 4, 5, 0, 1, 2, 3, 4, 5, 0, 1, 2, 3, 4, 5]\n",
      "[ 0  3  6  9 12 15]\n"
     ]
    }
   ],
   "source": [
    "a3 = a*3\n",
    "print(a3)\n",
    "np_a3=np.array(a)*3\n",
    "print(np_a3)"
   ]
  },
  {
   "cell_type": "markdown",
   "metadata": {},
   "source": [
    "3.1 Numpy slicing works exactly the same as list slicing!"
   ]
  },
  {
   "cell_type": "code",
   "execution_count": 36,
   "metadata": {},
   "outputs": [
    {
     "name": "stdout",
     "output_type": "stream",
     "text": [
      "[6 9]\n"
     ]
    }
   ],
   "source": [
    "print(np_a3[2:4]) # Wait 2 elements, start copy (:), stop before reaching index 4"
   ]
  },
  {
   "cell_type": "code",
   "execution_count": 37,
   "metadata": {},
   "outputs": [
    {
     "data": {
      "text/plain": [
       "array([ 3,  9, 15])"
      ]
     },
     "execution_count": 37,
     "metadata": {},
     "output_type": "execute_result"
    }
   ],
   "source": [
    "np_a3[1::2] #Starts from 0 and gets all the ODD positions."
   ]
  },
  {
   "cell_type": "markdown",
   "metadata": {},
   "source": [
    "## 3.4 Inspecting your NumPy array"
   ]
  },
  {
   "cell_type": "markdown",
   "metadata": {},
   "source": [
    "Let's find out the size, dimension, and length of variable 'c':"
   ]
  },
  {
   "cell_type": "markdown",
   "metadata": {},
   "source": [
    "First with 'c' as a list:"
   ]
  },
  {
   "cell_type": "code",
   "execution_count": 38,
   "metadata": {},
   "outputs": [],
   "source": [
    "c = [[0,1,2,3],[4,5,6],[7,8,9]]"
   ]
  },
  {
   "cell_type": "code",
   "execution_count": 39,
   "metadata": {},
   "outputs": [],
   "source": [
    "#c.size"
   ]
  },
  {
   "cell_type": "markdown",
   "metadata": {},
   "source": [
    "Secondly with 'c' as an array:"
   ]
  },
  {
   "cell_type": "code",
   "execution_count": 40,
   "metadata": {},
   "outputs": [
    {
     "name": "stdout",
     "output_type": "stream",
     "text": [
      "3\n",
      "(3,)\n",
      "1\n",
      "3\n"
     ]
    },
    {
     "name": "stderr",
     "output_type": "stream",
     "text": [
      "C:\\Users\\manoe\\AppData\\Local\\Temp\\ipykernel_13420\\500310125.py:1: VisibleDeprecationWarning: Creating an ndarray from ragged nested sequences (which is a list-or-tuple of lists-or-tuples-or ndarrays with different lengths or shapes) is deprecated. If you meant to do this, you must specify 'dtype=object' when creating the ndarray.\n",
      "  c = np.array(c)\n"
     ]
    }
   ],
   "source": [
    "c = np.array(c)\n",
    "print(c.size)\n",
    "print(c.shape)\n",
    "print(c.ndim)\n",
    "print(len(c))"
   ]
  },
  {
   "cell_type": "markdown",
   "metadata": {},
   "source": [
    "Now, let's find out the type of elements inside array a,b,c"
   ]
  },
  {
   "cell_type": "code",
   "execution_count": 41,
   "metadata": {},
   "outputs": [
    {
     "name": "stdout",
     "output_type": "stream",
     "text": [
      "int32 <U1 object\n"
     ]
    }
   ],
   "source": [
    "a = np.array(a)\n",
    "b = np.array(b)\n",
    "c = np.array(c)\n",
    "print(a.dtype, b.dtype, c.dtype)"
   ]
  },
  {
   "cell_type": "markdown",
   "metadata": {},
   "source": [
    "How do you find out if the 'a' variable is a NumPy array?"
   ]
  },
  {
   "cell_type": "code",
   "execution_count": 42,
   "metadata": {},
   "outputs": [
    {
     "name": "stdout",
     "output_type": "stream",
     "text": [
      "<class 'numpy.ndarray'>\n"
     ]
    }
   ],
   "source": [
    "print(type(a))"
   ]
  },
  {
   "cell_type": "markdown",
   "metadata": {},
   "source": [
    "Let's transform the data type of 'a' from integer to string, then assign it to a list, called 'la'"
   ]
  },
  {
   "cell_type": "code",
   "execution_count": 43,
   "metadata": {},
   "outputs": [
    {
     "name": "stdout",
     "output_type": "stream",
     "text": [
      "<class 'numpy.ndarray'>\n",
      "<class 'list'>\n"
     ]
    }
   ],
   "source": [
    "a = a.astype('U')\n",
    "la = a.tolist()\n",
    "print(type(a))\n",
    "print(type(la))"
   ]
  },
  {
   "cell_type": "markdown",
   "metadata": {},
   "source": [
    "## 3.5 Selecting data from your NumPy array "
   ]
  },
  {
   "cell_type": "code",
   "execution_count": 44,
   "metadata": {},
   "outputs": [],
   "source": [
    "z = [[180, 70],\n",
    "[200, 72],\n",
    "[220, 75],\n",
    "[250, 80]] # Create an array with 4 rows and 2 columns\n",
    "\n",
    "np_z = np.array(z) # Convert it the array using numpy"
   ]
  },
  {
   "cell_type": "markdown",
   "metadata": {},
   "source": [
    "Let's try to find out:\n",
    "- z1 value in second row and second column\n",
    "- z2 values in the first 3 rows\n",
    "- z3 first three values in the first column"
   ]
  },
  {
   "cell_type": "code",
   "execution_count": 45,
   "metadata": {},
   "outputs": [
    {
     "name": "stdout",
     "output_type": "stream",
     "text": [
      "72\n",
      "[[180  70]\n",
      " [200  72]\n",
      " [220  75]]\n",
      "[70 72 75]\n"
     ]
    }
   ],
   "source": [
    "z1 = np_z[1,1]\n",
    "z2 = np_z[:3]\n",
    "z3 = np_z[:3,1]\n",
    "print(z1)\n",
    "print(z2)\n",
    "print(z3)"
   ]
  },
  {
   "cell_type": "markdown",
   "metadata": {},
   "source": [
    "## 3.6 Math with your NumPy Array"
   ]
  },
  {
   "cell_type": "code",
   "execution_count": 46,
   "metadata": {},
   "outputs": [],
   "source": [
    "a = np.array([1,2,3,10]) #create the first array a\n",
    "b = np.array([10,10,10,10]) #create the second array b"
   ]
  },
  {
   "cell_type": "markdown",
   "metadata": {},
   "source": [
    "Let's add 'a' and 'b' together and return the square root of it"
   ]
  },
  {
   "cell_type": "code",
   "execution_count": 47,
   "metadata": {},
   "outputs": [
    {
     "name": "stdout",
     "output_type": "stream",
     "text": [
      "[11 12 13 20]\n",
      "[3.31662479 3.46410162 3.60555128 4.47213595]\n"
     ]
    }
   ],
   "source": [
    "ab = np.add(a,b)\n",
    "print(ab)\n",
    "print(np.sqrt(ab))"
   ]
  },
  {
   "cell_type": "markdown",
   "metadata": {},
   "source": [
    "## 3.7 Manipulating your NumPy array"
   ]
  },
  {
   "cell_type": "code",
   "execution_count": 48,
   "metadata": {},
   "outputs": [],
   "source": [
    "oneD = np.array([1,2,3])\n",
    "twoD = np.array([(4,5,6), (7,8,9)]) # Dimension (2,3)"
   ]
  },
  {
   "cell_type": "markdown",
   "metadata": {},
   "source": [
    "Let's transpose the twoD array into a new array called twoD_t:"
   ]
  },
  {
   "cell_type": "code",
   "execution_count": 49,
   "metadata": {},
   "outputs": [
    {
     "name": "stdout",
     "output_type": "stream",
     "text": [
      "[[4 5 6]\n",
      " [7 8 9]]\n",
      "[[4 7]\n",
      " [5 8]\n",
      " [6 9]]\n"
     ]
    }
   ],
   "source": [
    "print(twoD)\n",
    "twoD_t = np.transpose(twoD)\n",
    "print(twoD_t)"
   ]
  },
  {
   "cell_type": "markdown",
   "metadata": {},
   "source": [
    "Let's append oneD and twoD together"
   ]
  },
  {
   "cell_type": "code",
   "execution_count": 50,
   "metadata": {},
   "outputs": [
    {
     "name": "stdout",
     "output_type": "stream",
     "text": [
      "[1 2 3 4 5 6 7 8 9]\n"
     ]
    }
   ],
   "source": [
    "print(np.append(oneD, twoD))"
   ]
  },
  {
   "cell_type": "markdown",
   "metadata": {
    "collapsed": true
   },
   "source": [
    "## 3.8 Statistical methods using NumPy"
   ]
  },
  {
   "cell_type": "markdown",
   "metadata": {},
   "source": [
    "Let's find out the mean, min and max of twoD, with the min and max assigned to the variable tmin and tmax:"
   ]
  },
  {
   "cell_type": "code",
   "execution_count": 51,
   "metadata": {},
   "outputs": [
    {
     "name": "stdout",
     "output_type": "stream",
     "text": [
      "6.5\n",
      "4\n",
      "9\n"
     ]
    }
   ],
   "source": [
    "print(np.mean(twoD))\n",
    "tmin = twoD.min()\n",
    "tmax = twoD.max()\n",
    "print(tmin)\n",
    "print(tmax)"
   ]
  },
  {
   "cell_type": "markdown",
   "metadata": {},
   "source": [
    "---"
   ]
  }
 ],
 "metadata": {
  "kernelspec": {
   "display_name": "Python 3 (ipykernel)",
   "language": "python",
   "name": "python3"
  },
  "language_info": {
   "codemirror_mode": {
    "name": "ipython",
    "version": 3
   },
   "file_extension": ".py",
   "mimetype": "text/x-python",
   "name": "python",
   "nbconvert_exporter": "python",
   "pygments_lexer": "ipython3",
   "version": "3.9.12"
  },
  "vscode": {
   "interpreter": {
    "hash": "916dbcbb3f70747c44a77c7bcd40155683ae19c65e1c03b4aa3499c5328201f1"
   }
  }
 },
 "nbformat": 4,
 "nbformat_minor": 2
}
