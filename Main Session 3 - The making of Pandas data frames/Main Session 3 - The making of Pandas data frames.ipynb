{
 "cells": [
  {
   "cell_type": "code",
   "execution_count": 1,
   "metadata": {},
   "outputs": [
    {
     "data": {
      "text/html": [
       "<style>.container { width:100% !important; }</style>"
      ],
      "text/plain": [
       "<IPython.core.display.HTML object>"
      ]
     },
     "metadata": {},
     "output_type": "display_data"
    }
   ],
   "source": [
    "from IPython.display import display, HTML\n",
    "display(HTML(\"<style>.container { width:100% !important; }</style>\"))"
   ]
  },
  {
   "cell_type": "markdown",
   "metadata": {},
   "source": [
    "# Session 3 - The making of Pandas data frames"
   ]
  },
  {
   "cell_type": "markdown",
   "metadata": {},
   "source": [
    "\n",
    "<img src=\"img/company-logo.png\" width=120 height=120 align=\"right\">\n",
    "\n",
    "Author: Prof. Manoel Gadi\n",
    "\n",
    "Contact: manoelgadi@gmail.com\n",
    "\n",
    "Teaching Web: http://mfalonso.pythonanywhere.com\n",
    "\n",
    "Linkedin: https://www.linkedin.com/in/manoel-gadi-97821213/\n",
    "\n",
    "Github: https://github.com/manoelgadi\n",
    "\n",
    "Last revision: 27/October/2022\n"
   ]
  },
  {
   "cell_type": "markdown",
   "metadata": {},
   "source": [
    "## A bit of Pandas history"
   ]
  },
  {
   "cell_type": "markdown",
   "metadata": {},
   "source": [
    "Pandas is an open source, BSD-licensed library providing high-performance, easy-to-use data structures and data analysis tools for the Python programming language.\n",
    "\n",
    "Pandas began as a project in 2008 to join together a specific set of requirements that were not found together on any tool.\n",
    "\n",
    "The author Wes McKinney was working at the investment fund AQR Capital Management at the time, he found in Numpy and in basic Python all the ingredients to put together a Data Structure as powerfull as its rivals SAS .sas7bdat and MATLAB .mat propretary data formats. \n",
    "\n"
   ]
  },
  {
   "cell_type": "markdown",
   "metadata": {},
   "source": [
    "<img src=\"img/WesMcKinney.png\" align=\"left\">"
   ]
  },
  {
   "cell_type": "markdown",
   "metadata": {},
   "source": [
    "Working in stock trading means BIG DATA - Variety, Velocity and Volume.\n",
    "\n",
    "* Variety: Pandas uses independent Numpy arrays to allow variety.\n",
    "* Velocity: Pandas is in-memory data format, allowing much faster computation than early rivals.\n",
    "* Volume: Computer disk swap allows pandas to use memory and disk to hold huge data sets.\n",
    "\n",
    "\n",
    "What else comes with pandas?\n",
    "\n",
    "* Data structures with labeled axes\n",
    "* Time series functionalities\n",
    "* Same data structures for both time-series and non-time series data\n",
    "* Arithmetic operations based on labels\n",
    "* Flexible handling of missing data\n",
    "* Merge and relational operations (like in SQL)\n",
    "\n",
    "Today, it has grown into one of the most important Data Analysis libraries!\n",
    "\n",
    "* Actively supported by a community from around the world\n",
    "* Is the go-to library for high-performance, easy-to-use data structures and data analysis tools \n",
    "* Is a project sponsored by NumFOCUS, same as:\n"
   ]
  },
  {
   "cell_type": "markdown",
   "metadata": {},
   "source": [
    "<img src=\"img/np_mat_jup.png\" width=500 height=400 align=\"left\">"
   ]
  },
  {
   "cell_type": "markdown",
   "metadata": {},
   "source": [
    "---"
   ]
  },
  {
   "cell_type": "markdown",
   "metadata": {},
   "source": [
    "# 2. Pandas"
   ]
  },
  {
   "cell_type": "markdown",
   "metadata": {},
   "source": [
    "Now we have all the ingredients to create one of the most powerful data structures of all, the DATA FRAME."
   ]
  },
  {
   "cell_type": "markdown",
   "metadata": {},
   "source": [
    "For this we will need:\n",
    "    * 2 Lists\n",
    "    * 2 Dictionaries\n",
    "    * and many 1D numpy arrays"
   ]
  },
  {
   "cell_type": "markdown",
   "metadata": {},
   "source": [
    "## 2.1 Pandas Data Frame Structure"
   ]
  },
  {
   "cell_type": "markdown",
   "metadata": {},
   "source": [
    "<img src=\"img/pandas_df_structure.png\" align=\"left\">"
   ]
  },
  {
   "cell_type": "markdown",
   "metadata": {},
   "source": [
    "Let's firs import pandas using the alias (or nickname) 'pd'"
   ]
  },
  {
   "cell_type": "code",
   "execution_count": 2,
   "metadata": {},
   "outputs": [],
   "source": [
    "import pandas as pd\n",
    "import numpy as np"
   ]
  },
  {
   "cell_type": "code",
   "execution_count": 3,
   "metadata": {},
   "outputs": [
    {
     "name": "stdout",
     "output_type": "stream",
     "text": [
      "          0         1         2         3\n",
      "0  0.353322 -0.547099 -0.129439 -1.158755\n",
      "1 -0.999245  0.251460 -0.684030  0.124800\n",
      "2  0.543713 -0.142925  0.342517 -2.340069\n",
      "3  0.603019  0.776082 -0.705805  1.172718\n",
      "4  2.151902  1.337099 -2.238540 -0.155609\n",
      "5  0.413653  0.214892 -0.143864 -1.185378\n",
      "6 -0.064504  0.150199  0.629304  0.047826\n",
      "7 -0.043980 -1.121524  0.199819  1.017386\n",
      "8  1.096159 -0.029803 -0.234149  0.297689\n",
      "9  0.270622 -0.192437 -0.553986  1.168953\n"
     ]
    }
   ],
   "source": [
    "df=pd.DataFrame(np.random.randn(10,4))\n",
    "print(df)"
   ]
  },
  {
   "cell_type": "code",
   "execution_count": 4,
   "metadata": {},
   "outputs": [
    {
     "ename": "KeyError",
     "evalue": "'A'",
     "output_type": "error",
     "traceback": [
      "\u001b[1;31m---------------------------------------------------------------------------\u001b[0m",
      "\u001b[1;31mKeyError\u001b[0m                                  Traceback (most recent call last)",
      "\u001b[1;32m<ipython-input-4-c31f9b0c4302>\u001b[0m in \u001b[0;36m<module>\u001b[1;34m\u001b[0m\n\u001b[1;32m----> 1\u001b[1;33m \u001b[0mdf\u001b[0m\u001b[1;33m[\u001b[0m\u001b[1;34m'A'\u001b[0m\u001b[1;33m]\u001b[0m\u001b[1;33m\u001b[0m\u001b[1;33m\u001b[0m\u001b[0m\n\u001b[0m",
      "\u001b[1;32mC:\\Anaconda3\\lib\\site-packages\\pandas\\core\\frame.py\u001b[0m in \u001b[0;36m__getitem__\u001b[1;34m(self, key)\u001b[0m\n\u001b[0;32m   3022\u001b[0m             \u001b[1;32mif\u001b[0m \u001b[0mself\u001b[0m\u001b[1;33m.\u001b[0m\u001b[0mcolumns\u001b[0m\u001b[1;33m.\u001b[0m\u001b[0mnlevels\u001b[0m \u001b[1;33m>\u001b[0m \u001b[1;36m1\u001b[0m\u001b[1;33m:\u001b[0m\u001b[1;33m\u001b[0m\u001b[1;33m\u001b[0m\u001b[0m\n\u001b[0;32m   3023\u001b[0m                 \u001b[1;32mreturn\u001b[0m \u001b[0mself\u001b[0m\u001b[1;33m.\u001b[0m\u001b[0m_getitem_multilevel\u001b[0m\u001b[1;33m(\u001b[0m\u001b[0mkey\u001b[0m\u001b[1;33m)\u001b[0m\u001b[1;33m\u001b[0m\u001b[1;33m\u001b[0m\u001b[0m\n\u001b[1;32m-> 3024\u001b[1;33m             \u001b[0mindexer\u001b[0m \u001b[1;33m=\u001b[0m \u001b[0mself\u001b[0m\u001b[1;33m.\u001b[0m\u001b[0mcolumns\u001b[0m\u001b[1;33m.\u001b[0m\u001b[0mget_loc\u001b[0m\u001b[1;33m(\u001b[0m\u001b[0mkey\u001b[0m\u001b[1;33m)\u001b[0m\u001b[1;33m\u001b[0m\u001b[1;33m\u001b[0m\u001b[0m\n\u001b[0m\u001b[0;32m   3025\u001b[0m             \u001b[1;32mif\u001b[0m \u001b[0mis_integer\u001b[0m\u001b[1;33m(\u001b[0m\u001b[0mindexer\u001b[0m\u001b[1;33m)\u001b[0m\u001b[1;33m:\u001b[0m\u001b[1;33m\u001b[0m\u001b[1;33m\u001b[0m\u001b[0m\n\u001b[0;32m   3026\u001b[0m                 \u001b[0mindexer\u001b[0m \u001b[1;33m=\u001b[0m \u001b[1;33m[\u001b[0m\u001b[0mindexer\u001b[0m\u001b[1;33m]\u001b[0m\u001b[1;33m\u001b[0m\u001b[1;33m\u001b[0m\u001b[0m\n",
      "\u001b[1;32mC:\\Anaconda3\\lib\\site-packages\\pandas\\core\\indexes\\range.py\u001b[0m in \u001b[0;36mget_loc\u001b[1;34m(self, key, method, tolerance)\u001b[0m\n\u001b[0;32m    352\u001b[0m                 \u001b[1;32mexcept\u001b[0m \u001b[0mValueError\u001b[0m \u001b[1;32mas\u001b[0m \u001b[0merr\u001b[0m\u001b[1;33m:\u001b[0m\u001b[1;33m\u001b[0m\u001b[1;33m\u001b[0m\u001b[0m\n\u001b[0;32m    353\u001b[0m                     \u001b[1;32mraise\u001b[0m \u001b[0mKeyError\u001b[0m\u001b[1;33m(\u001b[0m\u001b[0mkey\u001b[0m\u001b[1;33m)\u001b[0m \u001b[1;32mfrom\u001b[0m \u001b[0merr\u001b[0m\u001b[1;33m\u001b[0m\u001b[1;33m\u001b[0m\u001b[0m\n\u001b[1;32m--> 354\u001b[1;33m             \u001b[1;32mraise\u001b[0m \u001b[0mKeyError\u001b[0m\u001b[1;33m(\u001b[0m\u001b[0mkey\u001b[0m\u001b[1;33m)\u001b[0m\u001b[1;33m\u001b[0m\u001b[1;33m\u001b[0m\u001b[0m\n\u001b[0m\u001b[0;32m    355\u001b[0m         \u001b[1;32mreturn\u001b[0m \u001b[0msuper\u001b[0m\u001b[1;33m(\u001b[0m\u001b[1;33m)\u001b[0m\u001b[1;33m.\u001b[0m\u001b[0mget_loc\u001b[0m\u001b[1;33m(\u001b[0m\u001b[0mkey\u001b[0m\u001b[1;33m,\u001b[0m \u001b[0mmethod\u001b[0m\u001b[1;33m=\u001b[0m\u001b[0mmethod\u001b[0m\u001b[1;33m,\u001b[0m \u001b[0mtolerance\u001b[0m\u001b[1;33m=\u001b[0m\u001b[0mtolerance\u001b[0m\u001b[1;33m)\u001b[0m\u001b[1;33m\u001b[0m\u001b[1;33m\u001b[0m\u001b[0m\n\u001b[0;32m    356\u001b[0m \u001b[1;33m\u001b[0m\u001b[0m\n",
      "\u001b[1;31mKeyError\u001b[0m: 'A'"
     ]
    }
   ],
   "source": [
    "df['A']"
   ]
  },
  {
   "cell_type": "code",
   "execution_count": 5,
   "metadata": {},
   "outputs": [
    {
     "name": "stdout",
     "output_type": "stream",
     "text": [
      "          A         B         C         D\n",
      "0 -0.825523  0.401358  1.199114  2.092676\n",
      "1  0.223923  0.484344  0.227367  1.722459\n",
      "2  0.960186 -1.567375 -0.503148 -0.611427\n",
      "3 -0.576443 -0.636377  0.480347  1.158419\n",
      "4  1.148812  0.496597 -0.767413  0.278265\n",
      "5  1.137837 -0.257678  2.012630 -0.488774\n",
      "6 -0.636440  1.080663  1.004879  0.361474\n",
      "7 -0.169457  1.206869  0.680214  1.178184\n",
      "8  0.626454  0.077148 -1.098140  0.492865\n",
      "9 -0.622009  0.920793  0.354062 -0.675026\n"
     ]
    }
   ],
   "source": [
    "df=pd.DataFrame(np.random.randn(10,4),columns=['A','B','C','D'])\n",
    "print(df)"
   ]
  },
  {
   "cell_type": "code",
   "execution_count": 6,
   "metadata": {},
   "outputs": [
    {
     "data": {
      "text/plain": [
       "0   -0.825523\n",
       "1    0.223923\n",
       "2    0.960186\n",
       "3   -0.576443\n",
       "4    1.148812\n",
       "5    1.137837\n",
       "6   -0.636440\n",
       "7   -0.169457\n",
       "8    0.626454\n",
       "9   -0.622009\n",
       "Name: A, dtype: float64"
      ]
     },
     "execution_count": 6,
     "metadata": {},
     "output_type": "execute_result"
    }
   ],
   "source": [
    "df['A']"
   ]
  },
  {
   "cell_type": "code",
   "execution_count": 7,
   "metadata": {},
   "outputs": [
    {
     "data": {
      "text/plain": [
       "0   -0.825523\n",
       "1    0.223923\n",
       "2    0.960186\n",
       "3   -0.576443\n",
       "4    1.148812\n",
       "5    1.137837\n",
       "6   -0.636440\n",
       "7   -0.169457\n",
       "8    0.626454\n",
       "9   -0.622009\n",
       "Name: A, dtype: float64"
      ]
     },
     "execution_count": 7,
     "metadata": {},
     "output_type": "execute_result"
    }
   ],
   "source": [
    "df.iloc[:,0]"
   ]
  },
  {
   "cell_type": "code",
   "execution_count": 8,
   "metadata": {},
   "outputs": [
    {
     "name": "stdout",
     "output_type": "stream",
     "text": [
      "             A   B a l l         C         D\n",
      "row0 -2.042564 -0.056018  0.417207  0.003894\n",
      "row1 -0.442620  0.857589  0.314043 -1.268257\n",
      "row2 -1.504804 -0.027168 -0.930094  1.081655\n",
      "row3 -1.235314 -0.336581  0.336642  0.093850\n",
      "row4 -0.735665 -0.004192 -0.372772 -0.969991\n",
      "row5  1.561050 -2.950871  0.193347  1.318407\n",
      "row6 -0.995347 -0.520899 -0.538398 -0.177308\n",
      "row7  0.530160 -0.762979  0.229581 -0.336207\n",
      "row8 -1.195998  1.172738  0.139174  1.579593\n",
      "row9 -0.718062  0.651051 -0.777075  0.342675\n"
     ]
    }
   ],
   "source": [
    "df=pd.DataFrame(np.random.randn(10,4),columns=['A','B a l l','C','D'],index=['row0', 'row1', 'row2', 'row3', 'row4', 'row5', \n",
    "                                                                       'row6', 'row7', 'row8', 'row9'])\n",
    "print(df)"
   ]
  },
  {
   "cell_type": "markdown",
   "metadata": {},
   "source": [
    "Selection column 'B' using its name, in other words, using the dictionary!"
   ]
  },
  {
   "cell_type": "code",
   "execution_count": 9,
   "metadata": {},
   "outputs": [
    {
     "data": {
      "text/plain": [
       "row0   -2.042564\n",
       "row1   -0.442620\n",
       "row2   -1.504804\n",
       "row3   -1.235314\n",
       "row4   -0.735665\n",
       "row5    1.561050\n",
       "row6   -0.995347\n",
       "row7    0.530160\n",
       "row8   -1.195998\n",
       "row9   -0.718062\n",
       "Name: A, dtype: float64"
      ]
     },
     "execution_count": 9,
     "metadata": {},
     "output_type": "execute_result"
    }
   ],
   "source": [
    "df.A"
   ]
  },
  {
   "cell_type": "code",
   "execution_count": 12,
   "metadata": {},
   "outputs": [
    {
     "data": {
      "text/plain": [
       "row0   -2.042564\n",
       "row1   -0.442620\n",
       "row2   -1.504804\n",
       "row3   -1.235314\n",
       "row4   -0.735665\n",
       "row5    1.561050\n",
       "row6   -0.995347\n",
       "row7    0.530160\n",
       "row8   -1.195998\n",
       "row9   -0.718062\n",
       "Name: A, dtype: float64"
      ]
     },
     "execution_count": 12,
     "metadata": {},
     "output_type": "execute_result"
    }
   ],
   "source": [
    "df[\"A\"]"
   ]
  },
  {
   "cell_type": "code",
   "execution_count": 11,
   "metadata": {},
   "outputs": [
    {
     "data": {
      "text/plain": [
       "row0   -0.056018\n",
       "row1    0.857589\n",
       "row2   -0.027168\n",
       "row3   -0.336581\n",
       "row4   -0.004192\n",
       "row5   -2.950871\n",
       "row6   -0.520899\n",
       "row7   -0.762979\n",
       "row8    1.172738\n",
       "row9    0.651051\n",
       "Name: B a l l, dtype: float64"
      ]
     },
     "execution_count": 11,
     "metadata": {},
     "output_type": "execute_result"
    }
   ],
   "source": [
    "df[\"B a l l\"]"
   ]
  },
  {
   "cell_type": "code",
   "execution_count": 13,
   "metadata": {},
   "outputs": [
    {
     "data": {
      "text/plain": [
       "row0   -0.056018\n",
       "row1    0.857589\n",
       "row2   -0.027168\n",
       "row3   -0.336581\n",
       "row4   -0.004192\n",
       "row5   -2.950871\n",
       "row6   -0.520899\n",
       "row7   -0.762979\n",
       "row8    1.172738\n",
       "row9    0.651051\n",
       "Name: B a l l, dtype: float64"
      ]
     },
     "execution_count": 13,
     "metadata": {},
     "output_type": "execute_result"
    }
   ],
   "source": [
    "df.loc[:,\"B a l l\"]"
   ]
  },
  {
   "cell_type": "code",
   "execution_count": 14,
   "metadata": {},
   "outputs": [
    {
     "data": {
      "text/plain": [
       "row0   -0.056018\n",
       "row1    0.857589\n",
       "row2   -0.027168\n",
       "row3   -0.336581\n",
       "row4   -0.004192\n",
       "row5   -2.950871\n",
       "row6   -0.520899\n",
       "row7   -0.762979\n",
       "row8    1.172738\n",
       "row9    0.651051\n",
       "Name: B a l l, dtype: float64"
      ]
     },
     "execution_count": 14,
     "metadata": {},
     "output_type": "execute_result"
    }
   ],
   "source": [
    "#df.B a l l #equivalent to df.loc[:,'B'] - LOC is for accessing the DICTIONARY of labels.\n",
    "df['B a l l'] #df.loc[rows,columns]"
   ]
  },
  {
   "cell_type": "markdown",
   "metadata": {},
   "source": [
    "Selection column 'B' using its position, in other words, using the list!"
   ]
  },
  {
   "cell_type": "code",
   "execution_count": 16,
   "metadata": {},
   "outputs": [
    {
     "name": "stdout",
     "output_type": "stream",
     "text": [
      "             A   B a l l         C         D\n",
      "row0 -2.042564 -0.056018  0.417207  0.003894\n",
      "row1 -0.442620  0.857589  0.314043 -1.268257\n",
      "row2 -1.504804 -0.027168 -0.930094  1.081655\n",
      "row3 -1.235314 -0.336581  0.336642  0.093850\n",
      "row4 -0.735665 -0.004192 -0.372772 -0.969991\n",
      "row5  1.561050 -2.950871  0.193347  1.318407\n",
      "row6 -0.995347 -0.520899 -0.538398 -0.177308\n",
      "row7  0.530160 -0.762979  0.229581 -0.336207\n",
      "row8 -1.195998  1.172738  0.139174  1.579593\n",
      "row9 -0.718062  0.651051 -0.777075  0.342675\n"
     ]
    }
   ],
   "source": [
    "print(df)"
   ]
  },
  {
   "cell_type": "code",
   "execution_count": 17,
   "metadata": {},
   "outputs": [
    {
     "data": {
      "text/plain": [
       "A         -2.042564\n",
       "B a l l   -0.056018\n",
       "C          0.417207\n",
       "D          0.003894\n",
       "Name: row0, dtype: float64"
      ]
     },
     "execution_count": 17,
     "metadata": {},
     "output_type": "execute_result"
    }
   ],
   "source": [
    "df.loc['row0',:]"
   ]
  },
  {
   "cell_type": "code",
   "execution_count": 23,
   "metadata": {},
   "outputs": [
    {
     "data": {
      "text/html": [
       "<div>\n",
       "<style scoped>\n",
       "    .dataframe tbody tr th:only-of-type {\n",
       "        vertical-align: middle;\n",
       "    }\n",
       "\n",
       "    .dataframe tbody tr th {\n",
       "        vertical-align: top;\n",
       "    }\n",
       "\n",
       "    .dataframe thead th {\n",
       "        text-align: right;\n",
       "    }\n",
       "</style>\n",
       "<table border=\"1\" class=\"dataframe\">\n",
       "  <thead>\n",
       "    <tr style=\"text-align: right;\">\n",
       "      <th></th>\n",
       "      <th>C</th>\n",
       "    </tr>\n",
       "  </thead>\n",
       "  <tbody>\n",
       "    <tr>\n",
       "      <th>row3</th>\n",
       "      <td>0.336642</td>\n",
       "    </tr>\n",
       "    <tr>\n",
       "      <th>row4</th>\n",
       "      <td>-0.372772</td>\n",
       "    </tr>\n",
       "    <tr>\n",
       "      <th>row5</th>\n",
       "      <td>0.193347</td>\n",
       "    </tr>\n",
       "    <tr>\n",
       "      <th>row6</th>\n",
       "      <td>-0.538398</td>\n",
       "    </tr>\n",
       "    <tr>\n",
       "      <th>row7</th>\n",
       "      <td>0.229581</td>\n",
       "    </tr>\n",
       "    <tr>\n",
       "      <th>row8</th>\n",
       "      <td>0.139174</td>\n",
       "    </tr>\n",
       "  </tbody>\n",
       "</table>\n",
       "</div>"
      ],
      "text/plain": [
       "             C\n",
       "row3  0.336642\n",
       "row4 -0.372772\n",
       "row5  0.193347\n",
       "row6 -0.538398\n",
       "row7  0.229581\n",
       "row8  0.139174"
      ]
     },
     "execution_count": 23,
     "metadata": {},
     "output_type": "execute_result"
    }
   ],
   "source": [
    "df.iloc[3:-1,2:-1]"
   ]
  },
  {
   "cell_type": "code",
   "execution_count": 24,
   "metadata": {
    "scrolled": true
   },
   "outputs": [
    {
     "data": {
      "text/html": [
       "<div>\n",
       "<style scoped>\n",
       "    .dataframe tbody tr th:only-of-type {\n",
       "        vertical-align: middle;\n",
       "    }\n",
       "\n",
       "    .dataframe tbody tr th {\n",
       "        vertical-align: top;\n",
       "    }\n",
       "\n",
       "    .dataframe thead th {\n",
       "        text-align: right;\n",
       "    }\n",
       "</style>\n",
       "<table border=\"1\" class=\"dataframe\">\n",
       "  <thead>\n",
       "    <tr style=\"text-align: right;\">\n",
       "      <th></th>\n",
       "      <th>B a l l</th>\n",
       "      <th>C</th>\n",
       "    </tr>\n",
       "  </thead>\n",
       "  <tbody>\n",
       "    <tr>\n",
       "      <th>row1</th>\n",
       "      <td>0.857589</td>\n",
       "      <td>0.314043</td>\n",
       "    </tr>\n",
       "    <tr>\n",
       "      <th>row2</th>\n",
       "      <td>-0.027168</td>\n",
       "      <td>-0.930094</td>\n",
       "    </tr>\n",
       "    <tr>\n",
       "      <th>row3</th>\n",
       "      <td>-0.336581</td>\n",
       "      <td>0.336642</td>\n",
       "    </tr>\n",
       "  </tbody>\n",
       "</table>\n",
       "</div>"
      ],
      "text/plain": [
       "       B a l l         C\n",
       "row1  0.857589  0.314043\n",
       "row2 -0.027168 -0.930094\n",
       "row3 -0.336581  0.336642"
      ]
     },
     "execution_count": 24,
     "metadata": {},
     "output_type": "execute_result"
    }
   ],
   "source": [
    "df.iloc[1:4,1:3] # second column of data frame (last_name) - : = all rows of column 1 (list index starts from 0) \n",
    "#  - ILOC is for accessing the LIST of indexes."
   ]
  },
  {
   "cell_type": "markdown",
   "metadata": {},
   "source": [
    "# Exercise: \n",
    "## Select the second row using its name 'row1' and the column name 'C', in other words, using the dictionary!"
   ]
  },
  {
   "cell_type": "code",
   "execution_count": null,
   "metadata": {},
   "outputs": [],
   "source": []
  },
  {
   "cell_type": "code",
   "execution_count": null,
   "metadata": {},
   "outputs": [],
   "source": []
  },
  {
   "cell_type": "code",
   "execution_count": null,
   "metadata": {},
   "outputs": [],
   "source": []
  },
  {
   "cell_type": "code",
   "execution_count": null,
   "metadata": {},
   "outputs": [],
   "source": []
  },
  {
   "cell_type": "code",
   "execution_count": null,
   "metadata": {},
   "outputs": [],
   "source": []
  },
  {
   "cell_type": "markdown",
   "metadata": {},
   "source": [
    "Selecting the second row using its position or index, in other words, using the list!"
   ]
  },
  {
   "cell_type": "code",
   "execution_count": 33,
   "metadata": {},
   "outputs": [
    {
     "data": {
      "text/html": [
       "<div>\n",
       "<style scoped>\n",
       "    .dataframe tbody tr th:only-of-type {\n",
       "        vertical-align: middle;\n",
       "    }\n",
       "\n",
       "    .dataframe tbody tr th {\n",
       "        vertical-align: top;\n",
       "    }\n",
       "\n",
       "    .dataframe thead th {\n",
       "        text-align: right;\n",
       "    }\n",
       "</style>\n",
       "<table border=\"1\" class=\"dataframe\">\n",
       "  <thead>\n",
       "    <tr style=\"text-align: right;\">\n",
       "      <th></th>\n",
       "      <th>A</th>\n",
       "      <th>B a l l</th>\n",
       "      <th>C</th>\n",
       "      <th>D</th>\n",
       "    </tr>\n",
       "  </thead>\n",
       "  <tbody>\n",
       "    <tr>\n",
       "      <th>row0</th>\n",
       "      <td>-2.042564</td>\n",
       "      <td>-0.056018</td>\n",
       "      <td>0.417207</td>\n",
       "      <td>0.003894</td>\n",
       "    </tr>\n",
       "    <tr>\n",
       "      <th>row1</th>\n",
       "      <td>-0.442620</td>\n",
       "      <td>0.857589</td>\n",
       "      <td>0.314043</td>\n",
       "      <td>-1.268257</td>\n",
       "    </tr>\n",
       "    <tr>\n",
       "      <th>row2</th>\n",
       "      <td>-1.504804</td>\n",
       "      <td>-0.027168</td>\n",
       "      <td>-0.930094</td>\n",
       "      <td>1.081655</td>\n",
       "    </tr>\n",
       "    <tr>\n",
       "      <th>row3</th>\n",
       "      <td>-1.235314</td>\n",
       "      <td>-0.336581</td>\n",
       "      <td>0.336642</td>\n",
       "      <td>0.093850</td>\n",
       "    </tr>\n",
       "    <tr>\n",
       "      <th>row4</th>\n",
       "      <td>-0.735665</td>\n",
       "      <td>-0.004192</td>\n",
       "      <td>-0.372772</td>\n",
       "      <td>-0.969991</td>\n",
       "    </tr>\n",
       "    <tr>\n",
       "      <th>row5</th>\n",
       "      <td>1.561050</td>\n",
       "      <td>-2.950871</td>\n",
       "      <td>0.193347</td>\n",
       "      <td>1.318407</td>\n",
       "    </tr>\n",
       "    <tr>\n",
       "      <th>row6</th>\n",
       "      <td>-0.995347</td>\n",
       "      <td>-0.520899</td>\n",
       "      <td>-0.538398</td>\n",
       "      <td>-0.177308</td>\n",
       "    </tr>\n",
       "    <tr>\n",
       "      <th>row7</th>\n",
       "      <td>0.530160</td>\n",
       "      <td>-0.762979</td>\n",
       "      <td>0.229581</td>\n",
       "      <td>-0.336207</td>\n",
       "    </tr>\n",
       "    <tr>\n",
       "      <th>row8</th>\n",
       "      <td>-1.195998</td>\n",
       "      <td>1.172738</td>\n",
       "      <td>0.139174</td>\n",
       "      <td>1.579593</td>\n",
       "    </tr>\n",
       "    <tr>\n",
       "      <th>row9</th>\n",
       "      <td>-0.718062</td>\n",
       "      <td>0.651051</td>\n",
       "      <td>-0.777075</td>\n",
       "      <td>0.342675</td>\n",
       "    </tr>\n",
       "  </tbody>\n",
       "</table>\n",
       "</div>"
      ],
      "text/plain": [
       "             A   B a l l         C         D\n",
       "row0 -2.042564 -0.056018  0.417207  0.003894\n",
       "row1 -0.442620  0.857589  0.314043 -1.268257\n",
       "row2 -1.504804 -0.027168 -0.930094  1.081655\n",
       "row3 -1.235314 -0.336581  0.336642  0.093850\n",
       "row4 -0.735665 -0.004192 -0.372772 -0.969991\n",
       "row5  1.561050 -2.950871  0.193347  1.318407\n",
       "row6 -0.995347 -0.520899 -0.538398 -0.177308\n",
       "row7  0.530160 -0.762979  0.229581 -0.336207\n",
       "row8 -1.195998  1.172738  0.139174  1.579593\n",
       "row9 -0.718062  0.651051 -0.777075  0.342675"
      ]
     },
     "execution_count": 33,
     "metadata": {},
     "output_type": "execute_result"
    }
   ],
   "source": [
    "df"
   ]
  },
  {
   "cell_type": "code",
   "execution_count": 34,
   "metadata": {},
   "outputs": [
    {
     "data": {
      "text/plain": [
       "A         -0.442620\n",
       "B a l l    0.857589\n",
       "C          0.314043\n",
       "D         -1.268257\n",
       "Name: row1, dtype: float64"
      ]
     },
     "execution_count": 34,
     "metadata": {},
     "output_type": "execute_result"
    }
   ],
   "source": [
    "df.iloc[1] # second row of data frame using"
   ]
  },
  {
   "cell_type": "code",
   "execution_count": 35,
   "metadata": {},
   "outputs": [],
   "source": [
    "a = [0,1,2,3,4,5,6,7]"
   ]
  },
  {
   "cell_type": "code",
   "execution_count": 36,
   "metadata": {},
   "outputs": [
    {
     "data": {
      "text/plain": [
       "list"
      ]
     },
     "execution_count": 36,
     "metadata": {},
     "output_type": "execute_result"
    }
   ],
   "source": [
    "type(a)"
   ]
  },
  {
   "cell_type": "code",
   "execution_count": 37,
   "metadata": {},
   "outputs": [
    {
     "data": {
      "text/plain": [
       "[0, 1, 2]"
      ]
     },
     "execution_count": 37,
     "metadata": {},
     "output_type": "execute_result"
    }
   ],
   "source": [
    "a[0:3]"
   ]
  },
  {
   "cell_type": "code",
   "execution_count": 40,
   "metadata": {},
   "outputs": [
    {
     "data": {
      "text/plain": [
       "row1   -0.442620\n",
       "row2   -1.504804\n",
       "row3   -1.235314\n",
       "row4   -0.735665\n",
       "row5    1.561050\n",
       "row6   -0.995347\n",
       "row7    0.530160\n",
       "row8   -1.195998\n",
       "row9   -0.718062\n",
       "Name: A, dtype: float64"
      ]
     },
     "execution_count": 40,
     "metadata": {},
     "output_type": "execute_result"
    }
   ],
   "source": [
    "df.iloc[1:10]['A']"
   ]
  },
  {
   "cell_type": "code",
   "execution_count": 41,
   "metadata": {},
   "outputs": [
    {
     "data": {
      "text/plain": [
       "row1   -0.442620\n",
       "row2   -1.504804\n",
       "row3   -1.235314\n",
       "row4   -0.735665\n",
       "row5    1.561050\n",
       "row6   -0.995347\n",
       "row7    0.530160\n",
       "row8   -1.195998\n",
       "row9   -0.718062\n",
       "Name: A, dtype: float64"
      ]
     },
     "execution_count": 41,
     "metadata": {},
     "output_type": "execute_result"
    }
   ],
   "source": [
    "df2 = df.iloc[1:10]\n",
    "df2['A']"
   ]
  },
  {
   "cell_type": "markdown",
   "metadata": {},
   "source": [
    "## 2.2 Slicing\n",
    "\n",
    "__ As .iloc access via list, and as we are specialists in list already ;-) - we can use the power of slicing to do cool things: __\n",
    "\n",
    "__ Rows: __\n",
    "* df.iloc[0] # first row of data frame\n",
    "* df.iloc[1] # second row of data frame\n",
    "* df.iloc[-1] # last row of data frame\n",
    "\n",
    "__ Columns: __ \n",
    "* df.iloc[:,0] # first column of data frame\n",
    "* df.iloc[:,1] # second column of data frame\n",
    "* df.iloc[:,-1] # last column of data frame"
   ]
  },
  {
   "cell_type": "code",
   "execution_count": 42,
   "metadata": {},
   "outputs": [
    {
     "data": {
      "text/plain": [
       "[0, 1, 2, 3, 4, 5, 6, 7]"
      ]
     },
     "execution_count": 42,
     "metadata": {},
     "output_type": "execute_result"
    }
   ],
   "source": [
    "a\n"
   ]
  },
  {
   "cell_type": "code",
   "execution_count": 45,
   "metadata": {},
   "outputs": [
    {
     "data": {
      "text/plain": [
       "[1, 4]"
      ]
     },
     "execution_count": 45,
     "metadata": {},
     "output_type": "execute_result"
    }
   ],
   "source": [
    "a[1:6:3]"
   ]
  },
  {
   "cell_type": "code",
   "execution_count": 46,
   "metadata": {},
   "outputs": [
    {
     "name": "stdout",
     "output_type": "stream",
     "text": [
      "             A   B a l l         C         D\n",
      "row0 -2.042564 -0.056018  0.417207  0.003894\n",
      "row2 -1.504804 -0.027168 -0.930094  1.081655\n",
      "row4 -0.735665 -0.004192 -0.372772 -0.969991\n",
      "row6 -0.995347 -0.520899 -0.538398 -0.177308\n",
      "row8 -1.195998  1.172738  0.139174  1.579593\n"
     ]
    }
   ],
   "source": [
    "# Remember, double colon :: allows us to set the step we wish to select.\n",
    "print(df.iloc[0::2]) #Starts from 0 and gets all the EVEN rows."
   ]
  },
  {
   "cell_type": "code",
   "execution_count": 47,
   "metadata": {},
   "outputs": [
    {
     "name": "stdout",
     "output_type": "stream",
     "text": [
      "             A   B a l l         C         D\n",
      "row1 -0.442620  0.857589  0.314043 -1.268257\n",
      "row3 -1.235314 -0.336581  0.336642  0.093850\n",
      "row5  1.561050 -2.950871  0.193347  1.318407\n",
      "row7  0.530160 -0.762979  0.229581 -0.336207\n",
      "row9 -0.718062  0.651051 -0.777075  0.342675\n"
     ]
    }
   ],
   "source": [
    "print(df.iloc[1::2]) #Starts from 0 and gets all the ODD rows."
   ]
  },
  {
   "cell_type": "code",
   "execution_count": 48,
   "metadata": {},
   "outputs": [
    {
     "name": "stdout",
     "output_type": "stream",
     "text": [
      "             A         C\n",
      "row0 -2.042564  0.417207\n",
      "row1 -0.442620  0.314043\n",
      "row2 -1.504804 -0.930094\n",
      "row3 -1.235314  0.336642\n",
      "row4 -0.735665 -0.372772\n",
      "row5  1.561050  0.193347\n",
      "row6 -0.995347 -0.538398\n",
      "row7  0.530160  0.229581\n",
      "row8 -1.195998  0.139174\n",
      "row9 -0.718062 -0.777075\n"
     ]
    }
   ],
   "source": [
    "print(df.iloc[:,0::2]) #Starts from 0 and gets all the EVEN columns."
   ]
  },
  {
   "cell_type": "code",
   "execution_count": 49,
   "metadata": {},
   "outputs": [
    {
     "name": "stdout",
     "output_type": "stream",
     "text": [
      "       B a l l         D\n",
      "row0 -0.056018  0.003894\n",
      "row1  0.857589 -1.268257\n",
      "row2 -0.027168  1.081655\n",
      "row3 -0.336581  0.093850\n",
      "row4 -0.004192 -0.969991\n",
      "row5 -2.950871  1.318407\n",
      "row6 -0.520899 -0.177308\n",
      "row7 -0.762979 -0.336207\n",
      "row8  1.172738  1.579593\n",
      "row9  0.651051  0.342675\n"
     ]
    }
   ],
   "source": [
    "print(df.iloc[:,1::2]) #Starts from 1 and gets all the ODD columns."
   ]
  },
  {
   "cell_type": "markdown",
   "metadata": {},
   "source": [
    "## Exercise:\n",
    "\n",
    "__print that would return all the EVEN rows and all the ODD columns of df!!!__ \n",
    "\n"
   ]
  },
  {
   "cell_type": "code",
   "execution_count": null,
   "metadata": {},
   "outputs": [],
   "source": []
  },
  {
   "cell_type": "code",
   "execution_count": null,
   "metadata": {},
   "outputs": [],
   "source": []
  },
  {
   "cell_type": "code",
   "execution_count": null,
   "metadata": {},
   "outputs": [],
   "source": []
  },
  {
   "cell_type": "markdown",
   "metadata": {},
   "source": [
    "Great job, from now on, we are ready to start doing serious things with Python using this power Data Structure that brings __VELOCITY, VOLUME AND VARIETY__ to the table."
   ]
  },
  {
   "cell_type": "markdown",
   "metadata": {},
   "source": [
    "## 2.4 Practicing Pandas via exercises"
   ]
  },
  {
   "cell_type": "markdown",
   "metadata": {},
   "source": [
    "Where can I learn more about Pandas? https://github.com/ajcr/100-pandas-puzzles/blob/master/100-pandas-puzzles-with-solutions.ipynb"
   ]
  },
  {
   "cell_type": "markdown",
   "metadata": {},
   "source": [
    "---\n",
    "# EXTRA MATERIAL - "
   ]
  },
  {
   "cell_type": "markdown",
   "metadata": {},
   "source": [
    "## Numpy\n",
    "\n",
    "<img src=\"img/scipy_ecosystem.png\" width=500 height=400 align=\"left\">"
   ]
  },
  {
   "cell_type": "markdown",
   "metadata": {},
   "source": [
    "## Numpy "
   ]
  },
  {
   "cell_type": "markdown",
   "metadata": {},
   "source": [
    "<img src=\"img/Numpy1.png\" width=600 height=500 align=\"left\">"
   ]
  },
  {
   "cell_type": "markdown",
   "metadata": {},
   "source": [
    "<img src=\"img/Numpy2.png\" width=600 height=500 align=\"left\">"
   ]
  },
  {
   "cell_type": "markdown",
   "metadata": {},
   "source": [
    "<img src=\"img/Numpy3.png\" width=600 height=500 align=\"left\">"
   ]
  },
  {
   "cell_type": "markdown",
   "metadata": {},
   "source": [
    "Travis Oliphant is an American data scientist and businessman. He is founder of technology startup Anaconda. In addition, he is the primary creator of NumPy and founding contributor to the SciPy packages in the Python programming languages.\n",
    "ref: https://en.wikipedia.org/wiki/Travis_Oliphant"
   ]
  },
  {
   "cell_type": "markdown",
   "metadata": {},
   "source": [
    "Numpy arrays can be 1D, 2D, 3D, ... N-Dimension, let´s have a look at 2D:\n"
   ]
  },
  {
   "cell_type": "markdown",
   "metadata": {},
   "source": [
    "<img src=\"img/np_array.png\" width=500 height=400 align=\"left\">"
   ]
  },
  {
   "cell_type": "markdown",
   "metadata": {},
   "source": [
    "* The number of dimensions is known as the rank of the array\n",
    "* The shape of an array is a tuple of integers giving the size of the array along each dimension\n",
    "* The index refers to the position of a value in the array. In Python, indexing starts at 0.\n"
   ]
  },
  {
   "cell_type": "markdown",
   "metadata": {},
   "source": [
    "## 1.1 Practicing Numpy via exercises"
   ]
  },
  {
   "cell_type": "markdown",
   "metadata": {},
   "source": [
    "Where can I learn more about Numpy? https://github.com/rougier/numpy-100/blob/master/100_Numpy_exercises.ipynb"
   ]
  }
 ],
 "metadata": {
  "kernelspec": {
   "display_name": "Python 3",
   "language": "python",
   "name": "python3"
  },
  "language_info": {
   "codemirror_mode": {
    "name": "ipython",
    "version": 3
   },
   "file_extension": ".py",
   "mimetype": "text/x-python",
   "name": "python",
   "nbconvert_exporter": "python",
   "pygments_lexer": "ipython3",
   "version": "3.8.8"
  },
  "vscode": {
   "interpreter": {
    "hash": "916dbcbb3f70747c44a77c7bcd40155683ae19c65e1c03b4aa3499c5328201f1"
   }
  }
 },
 "nbformat": 4,
 "nbformat_minor": 2
}
