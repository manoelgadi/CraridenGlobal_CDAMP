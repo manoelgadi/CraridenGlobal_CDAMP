{
 "cells": [
  {
   "cell_type": "code",
   "execution_count": 1,
   "metadata": {},
   "outputs": [
    {
     "data": {
      "text/html": [
       "<style>.container { width:100% !important; }</style>"
      ],
      "text/plain": [
       "<IPython.core.display.HTML object>"
      ]
     },
     "metadata": {},
     "output_type": "display_data"
    }
   ],
   "source": [
    "from IPython.display import display, HTML\n",
    "display(HTML(\"<style>.container { width:100% !important; }</style>\"))"
   ]
  },
  {
   "cell_type": "markdown",
   "metadata": {},
   "source": [
    "\n",
    "\n",
    "Author: Prof. Manoel Gadi\n",
    "\n",
    "Contact: manoelgadi@gmail.com\n",
    "\n",
    "Teaching Web: http://mfalonso.pythonanywhere.com\n",
    "\n",
    "Linkedin: https://www.linkedin.com/in/manoel-gadi-97821213/\n",
    "\n",
    "Github: https://github.com/manoelgadi\n",
    "\n",
    "Last revision: 27/October/2022\n"
   ]
  },
  {
   "cell_type": "markdown",
   "metadata": {},
   "source": [
    "\n",
    "# Session 7 - Introduction to basic statistics in Python with Scipy"
   ]
  },
  {
   "cell_type": "markdown",
   "metadata": {},
   "source": [
    "# 1. Introduction: ```scipy.stats``` module"
   ]
  },
  {
   "cell_type": "markdown",
   "metadata": {},
   "source": [
    "The SciPy library has many modules, each aiming to solve or handle specific purposes related to science. The scope of the modules themselves can be daunting, and without knowing when and where to use them, it is easy to overlook the library's usefulness. This exercise sticks to using one of the basic module called ```scipy.stats```. \n",
    "\n",
    "```scipy.stats``` contains a large number of probabilitiy distributions and statistical functions. It is an extension to NumPy's own stats module, though the number and variety of functions are much more diverse.\n",
    "\n",
    "The SciPy library has its own [documentation](https://docs.scipy.org/doc/scipy/reference/), which you could refer to."
   ]
  },
  {
   "cell_type": "markdown",
   "metadata": {},
   "source": [
    "# 2. Loading libraries and dataset"
   ]
  },
  {
   "cell_type": "markdown",
   "metadata": {},
   "source": [
    "You can import specific modules of SciPy using ```import scipy.[module_name]``` format. Note that it is convention to import specific module directly to the workspace for SciPy. This avoids possible clash of named global variables that are defined in other modules. \n",
    "\n",
    "Also note that SciPy is built on top of NumPy, NumPy is automatically imported too when SciPy is imported. However, calling NumPy separately avoids any confusion when calling a module specific function."
   ]
  },
  {
   "cell_type": "code",
   "execution_count": 1,
   "metadata": {},
   "outputs": [],
   "source": [
    "# import libraries numpy, pandas, and scipy.stats module\n",
    "\n",
    "import numpy as np\n",
    "import pandas as pd\n",
    "import scipy.stats as stats"
   ]
  },
  {
   "cell_type": "code",
   "execution_count": 2,
   "metadata": {},
   "outputs": [],
   "source": [
    "import sqlite3\n",
    "conn = sqlite3.connect(\"db\\company_balancesheet_database.db\")\n"
   ]
  },
  {
   "cell_type": "code",
   "execution_count": 3,
   "metadata": {},
   "outputs": [],
   "source": [
    "# import dataset using pd.read_sql() function\n",
    "import pandas as pd\n",
    "pd.set_option('display.float_format', lambda x: '%.3f' % x)\n",
    "df = pd.read_sql(\"\"\"SELECT * FROM balance_sheet;\"\"\", conn)"
   ]
  },
  {
   "cell_type": "code",
   "execution_count": 5,
   "metadata": {},
   "outputs": [
    {
     "data": {
      "text/html": [
       "<div>\n",
       "<style scoped>\n",
       "    .dataframe tbody tr th:only-of-type {\n",
       "        vertical-align: middle;\n",
       "    }\n",
       "\n",
       "    .dataframe tbody tr th {\n",
       "        vertical-align: top;\n",
       "    }\n",
       "\n",
       "    .dataframe thead th {\n",
       "        text-align: right;\n",
       "    }\n",
       "</style>\n",
       "<table border=\"1\" class=\"dataframe\">\n",
       "  <thead>\n",
       "    <tr style=\"text-align: right;\">\n",
       "      <th></th>\n",
       "      <th>id</th>\n",
       "      <th>nif_fical_number_id</th>\n",
       "      <th>company_name</th>\n",
       "      <th>CNAE</th>\n",
       "      <th>p10000_TotalAssets_h0</th>\n",
       "      <th>p10000_TotalAssets_h1</th>\n",
       "      <th>p10000_TotalAssets_h2</th>\n",
       "      <th>p20000_OwnCapital_h0</th>\n",
       "      <th>p20000_OwnCapital_h1</th>\n",
       "      <th>p20000_OwnCapital_h2</th>\n",
       "      <th>...</th>\n",
       "      <th>p40100_40500_SalesTurnover_h0</th>\n",
       "      <th>p40100_40500_SalesTurnover_h1</th>\n",
       "      <th>p40100_40500_SalesTurnover_h2</th>\n",
       "      <th>p40800_Amortization_h0</th>\n",
       "      <th>p40800_Amortization_h1</th>\n",
       "      <th>p40800_Amortization_h2</th>\n",
       "      <th>p49100_Profit_h0</th>\n",
       "      <th>p49100_Profit_h1</th>\n",
       "      <th>p49100_Profit_h2</th>\n",
       "      <th>detailed_status</th>\n",
       "    </tr>\n",
       "  </thead>\n",
       "  <tbody>\n",
       "    <tr>\n",
       "      <th>0</th>\n",
       "      <td>1</td>\n",
       "      <td>A28015865</td>\n",
       "      <td>Telefonica, SA</td>\n",
       "      <td>6420</td>\n",
       "      <td>115066000.000</td>\n",
       "      <td>123641000.000</td>\n",
       "      <td>120329000.000</td>\n",
       "      <td>26618000.000</td>\n",
       "      <td>28385000.000</td>\n",
       "      <td>25436000.000</td>\n",
       "      <td>...</td>\n",
       "      <td>52455000.000</td>\n",
       "      <td>52574000.000</td>\n",
       "      <td>55665000.000</td>\n",
       "      <td>-9396000.000</td>\n",
       "      <td>-9649000.000</td>\n",
       "      <td>-9704000.000</td>\n",
       "      <td>6791000.000</td>\n",
       "      <td>5469000.000</td>\n",
       "      <td>3525000.000</td>\n",
       "      <td>Activa</td>\n",
       "    </tr>\n",
       "    <tr>\n",
       "      <th>1</th>\n",
       "      <td>2</td>\n",
       "      <td>A39000013</td>\n",
       "      <td>Banco Santander SA</td>\n",
       "      <td>6419</td>\n",
       "      <td>1444305000.000</td>\n",
       "      <td>1339125000.000</td>\n",
       "      <td>1340260000.000</td>\n",
       "      <td>106833000.000</td>\n",
       "      <td>102699000.000</td>\n",
       "      <td>98753000.000</td>\n",
       "      <td>...</td>\n",
       "      <td>50321000.000</td>\n",
       "      <td>46192000.000</td>\n",
       "      <td>48130000.000</td>\n",
       "      <td>0.000</td>\n",
       "      <td>0.000</td>\n",
       "      <td>0.000</td>\n",
       "      <td>0.000</td>\n",
       "      <td>0.000</td>\n",
       "      <td>0.000</td>\n",
       "      <td>0</td>\n",
       "    </tr>\n",
       "    <tr>\n",
       "      <th>2</th>\n",
       "      <td>3</td>\n",
       "      <td>A78374725</td>\n",
       "      <td>Repsol SA.</td>\n",
       "      <td>7010</td>\n",
       "      <td>59857000.000</td>\n",
       "      <td>64849000.000</td>\n",
       "      <td>63077000.000</td>\n",
       "      <td>30067000.000</td>\n",
       "      <td>31115000.000</td>\n",
       "      <td>28696000.000</td>\n",
       "      <td>...</td>\n",
       "      <td>42378000.000</td>\n",
       "      <td>35679000.000</td>\n",
       "      <td>42265000.000</td>\n",
       "      <td>-2399000.000</td>\n",
       "      <td>-2529000.000</td>\n",
       "      <td>-2988000.000</td>\n",
       "      <td>2789000.000</td>\n",
       "      <td>1911000.000</td>\n",
       "      <td>-2440000.000</td>\n",
       "      <td>Activa</td>\n",
       "    </tr>\n",
       "    <tr>\n",
       "      <th>3</th>\n",
       "      <td>4</td>\n",
       "      <td>A32001166</td>\n",
       "      <td>Peugeot España SA (Extinguida)</td>\n",
       "      <td>4511</td>\n",
       "      <td>0.000</td>\n",
       "      <td>0.000</td>\n",
       "      <td>0.000</td>\n",
       "      <td>0.000</td>\n",
       "      <td>0.000</td>\n",
       "      <td>0.000</td>\n",
       "      <td>...</td>\n",
       "      <td>0.000</td>\n",
       "      <td>0.000</td>\n",
       "      <td>0.000</td>\n",
       "      <td>0.000</td>\n",
       "      <td>0.000</td>\n",
       "      <td>0.000</td>\n",
       "      <td>0.000</td>\n",
       "      <td>0.000</td>\n",
       "      <td>0.000</td>\n",
       "      <td>Extinción: La empresa se encuentra en situació...</td>\n",
       "    </tr>\n",
       "    <tr>\n",
       "      <th>4</th>\n",
       "      <td>5</td>\n",
       "      <td>A28004885</td>\n",
       "      <td>Acs, Actividades De Construccion Y Servicios, SA</td>\n",
       "      <td>4299</td>\n",
       "      <td>31880684.000</td>\n",
       "      <td>33373266.000</td>\n",
       "      <td>35279828.000</td>\n",
       "      <td>5168036.000</td>\n",
       "      <td>4985911.000</td>\n",
       "      <td>5256045.000</td>\n",
       "      <td>...</td>\n",
       "      <td>35218839.000</td>\n",
       "      <td>32436917.000</td>\n",
       "      <td>35345782.000</td>\n",
       "      <td>-611218.000</td>\n",
       "      <td>-513934.000</td>\n",
       "      <td>-788001.000</td>\n",
       "      <td>1329227.000</td>\n",
       "      <td>1237430.000</td>\n",
       "      <td>1221298.000</td>\n",
       "      <td>Activa</td>\n",
       "    </tr>\n",
       "  </tbody>\n",
       "</table>\n",
       "<p>5 rows × 26 columns</p>\n",
       "</div>"
      ],
      "text/plain": [
       "   id nif_fical_number_id                                      company_name  \\\n",
       "0   1           A28015865                                    Telefonica, SA   \n",
       "1   2           A39000013                                Banco Santander SA   \n",
       "2   3           A78374725                                        Repsol SA.   \n",
       "3   4           A32001166                    Peugeot España SA (Extinguida)   \n",
       "4   5           A28004885  Acs, Actividades De Construccion Y Servicios, SA   \n",
       "\n",
       "   CNAE  p10000_TotalAssets_h0  p10000_TotalAssets_h1  p10000_TotalAssets_h2  \\\n",
       "0  6420          115066000.000          123641000.000          120329000.000   \n",
       "1  6419         1444305000.000         1339125000.000         1340260000.000   \n",
       "2  7010           59857000.000           64849000.000           63077000.000   \n",
       "3  4511                  0.000                  0.000                  0.000   \n",
       "4  4299           31880684.000           33373266.000           35279828.000   \n",
       "\n",
       "   p20000_OwnCapital_h0  p20000_OwnCapital_h1  p20000_OwnCapital_h2  ...  \\\n",
       "0          26618000.000          28385000.000          25436000.000  ...   \n",
       "1         106833000.000         102699000.000          98753000.000  ...   \n",
       "2          30067000.000          31115000.000          28696000.000  ...   \n",
       "3                 0.000                 0.000                 0.000  ...   \n",
       "4           5168036.000           4985911.000           5256045.000  ...   \n",
       "\n",
       "   p40100_40500_SalesTurnover_h0  p40100_40500_SalesTurnover_h1  \\\n",
       "0                   52455000.000                   52574000.000   \n",
       "1                   50321000.000                   46192000.000   \n",
       "2                   42378000.000                   35679000.000   \n",
       "3                          0.000                          0.000   \n",
       "4                   35218839.000                   32436917.000   \n",
       "\n",
       "   p40100_40500_SalesTurnover_h2  p40800_Amortization_h0  \\\n",
       "0                   55665000.000            -9396000.000   \n",
       "1                   48130000.000                   0.000   \n",
       "2                   42265000.000            -2399000.000   \n",
       "3                          0.000                   0.000   \n",
       "4                   35345782.000             -611218.000   \n",
       "\n",
       "   p40800_Amortization_h1  p40800_Amortization_h2  p49100_Profit_h0  \\\n",
       "0            -9649000.000            -9704000.000       6791000.000   \n",
       "1                   0.000                   0.000             0.000   \n",
       "2            -2529000.000            -2988000.000       2789000.000   \n",
       "3                   0.000                   0.000             0.000   \n",
       "4             -513934.000             -788001.000       1329227.000   \n",
       "\n",
       "   p49100_Profit_h1  p49100_Profit_h2  \\\n",
       "0       5469000.000       3525000.000   \n",
       "1             0.000             0.000   \n",
       "2       1911000.000      -2440000.000   \n",
       "3             0.000             0.000   \n",
       "4       1237430.000       1221298.000   \n",
       "\n",
       "                                     detailed_status  \n",
       "0                                             Activa  \n",
       "1                                                  0  \n",
       "2                                             Activa  \n",
       "3  Extinción: La empresa se encuentra en situació...  \n",
       "4                                             Activa  \n",
       "\n",
       "[5 rows x 26 columns]"
      ]
     },
     "execution_count": 5,
     "metadata": {},
     "output_type": "execute_result"
    }
   ],
   "source": [
    "# view first few rows of the dataset using pandas dataframe.head() function\n",
    "df.head()"
   ]
  },
  {
   "cell_type": "code",
   "execution_count": 6,
   "metadata": {},
   "outputs": [],
   "source": [
    "df['alive'] = df['detailed_status'].apply(lambda x: 1 if x in ('Activa','') else 0)"
   ]
  },
  {
   "cell_type": "code",
   "execution_count": 7,
   "metadata": {},
   "outputs": [],
   "source": [
    "df['industry'] = df.CNAE.apply(lambda x: int(str(x)[:1])) # industry the first digit of CNAE"
   ]
  },
  {
   "cell_type": "code",
   "execution_count": 8,
   "metadata": {},
   "outputs": [
    {
     "data": {
      "text/plain": [
       "4    22419\n",
       "2     6222\n",
       "6     5360\n",
       "1     4989\n",
       "7     3083\n",
       "5     3055\n",
       "8     2099\n",
       "3     2015\n",
       "9      754\n",
       "0        4\n",
       "Name: industry, dtype: int64"
      ]
     },
     "execution_count": 8,
     "metadata": {},
     "output_type": "execute_result"
    }
   ],
   "source": [
    "df['industry'].value_counts()"
   ]
  },
  {
   "cell_type": "markdown",
   "metadata": {},
   "source": [
    "Alive:\n",
    "\n",
    "* alive: = 1: Company still active at the end of the period\n",
    "* alive: = 0: Company not in operation at the end of the period\n",
    "\n",
    "We can use various statistical tools in the scipy.stats module to perform descriptive statistics and statistical tests."
   ]
  },
  {
   "cell_type": "code",
   "execution_count": 9,
   "metadata": {},
   "outputs": [
    {
     "data": {
      "text/plain": [
       "Index(['p10000_TotalAssets_h0', 'p10000_TotalAssets_h1',\n",
       "       'p10000_TotalAssets_h2', 'p20000_OwnCapital_h0', 'p20000_OwnCapital_h1',\n",
       "       'p20000_OwnCapital_h2', 'p31200_ShortTermDebt_h0',\n",
       "       'p31200_ShortTermDebt_h1', 'p31200_ShortTermDebt_h2',\n",
       "       'p32300_LongTermDebt_h0', 'p32300_LongTermDebt_h1',\n",
       "       'p32300_LongTermDebt_h2', 'p40100_40500_SalesTurnover_h0',\n",
       "       'p40100_40500_SalesTurnover_h1', 'p40100_40500_SalesTurnover_h2',\n",
       "       'p40800_Amortization_h0', 'p40800_Amortization_h1',\n",
       "       'p40800_Amortization_h2', 'p49100_Profit_h0', 'p49100_Profit_h1',\n",
       "       'p49100_Profit_h2', 'detailed_status'],\n",
       "      dtype='object')"
      ]
     },
     "execution_count": 9,
     "metadata": {},
     "output_type": "execute_result"
    }
   ],
   "source": [
    "df.columns[4:-2]"
   ]
  },
  {
   "cell_type": "markdown",
   "metadata": {},
   "source": [
    "# 3. Statistical tests"
   ]
  },
  {
   "cell_type": "markdown",
   "metadata": {},
   "source": [
    "## 3-1. Are the weights normally distributed? (Normality tests)\n",
    "\n",
    "There are various ways in which we can test if a given set of data is normally distributed or not.\n",
    "\n",
    "Here we introduce these:\n",
    "* [```scipy.stats.normaltest(x)```](https://docs.scipy.org/doc/scipy/reference/generated/scipy.stats.normaltest.html#r676), where x is the data array\n",
    "* [```scipy.stats.shapiro(x)```](https://docs.scipy.org/doc/scipy/reference/generated/scipy.stats.shapiro.html), where x is the data array\n",
    "\n",
    "Both tests are used to determine whether or not a dataset comes from a normal distribution. For both tests, the hypothesis is as follows:\n",
    "\n",
    "* H0: Sample comes from a normal distribution\n",
    "* H1: Sample does not come from a normal distribution.\n",
    "\n",
    "As in the case of the modules, you can access functions of stats module using ```stats.[function_name]``` format."
   ]
  },
  {
   "cell_type": "code",
   "execution_count": 10,
   "metadata": {},
   "outputs": [
    {
     "name": "stdout",
     "output_type": "stream",
     "text": [
      "Column: p10000_TotalAssets_h0: NormaltestResult(statistic=204300.39683076745, pvalue=0.0) \n",
      "Column: p10000_TotalAssets_h1: NormaltestResult(statistic=197386.6186145027, pvalue=0.0) \n",
      "Column: p10000_TotalAssets_h2: NormaltestResult(statistic=197976.26054356323, pvalue=0.0) \n",
      "Column: p20000_OwnCapital_h0: NormaltestResult(statistic=175365.02557736172, pvalue=0.0) \n",
      "Column: p20000_OwnCapital_h1: NormaltestResult(statistic=169457.63075443846, pvalue=0.0) \n",
      "Column: p20000_OwnCapital_h2: NormaltestResult(statistic=167755.74705677677, pvalue=0.0) \n",
      "Column: p31200_ShortTermDebt_h0: NormaltestResult(statistic=192068.64334298606, pvalue=0.0) \n",
      "Column: p31200_ShortTermDebt_h1: NormaltestResult(statistic=192480.98869902236, pvalue=0.0) \n",
      "Column: p31200_ShortTermDebt_h2: NormaltestResult(statistic=193504.2882903775, pvalue=0.0) \n",
      "Column: p32300_LongTermDebt_h0: NormaltestResult(statistic=207030.71480894682, pvalue=0.0) \n",
      "Column: p32300_LongTermDebt_h1: NormaltestResult(statistic=197810.0499268255, pvalue=0.0) \n",
      "Column: p32300_LongTermDebt_h2: NormaltestResult(statistic=208301.62273869247, pvalue=0.0) \n",
      "Column: p40100_40500_SalesTurnover_h0: NormaltestResult(statistic=152051.01476335878, pvalue=0.0) \n",
      "Column: p40100_40500_SalesTurnover_h1: NormaltestResult(statistic=150634.37610824214, pvalue=0.0) \n",
      "Column: p40100_40500_SalesTurnover_h2: NormaltestResult(statistic=151089.54647683052, pvalue=0.0) \n",
      "Column: p40800_Amortization_h0: NormaltestResult(statistic=212617.89680797502, pvalue=0.0) \n",
      "Column: p40800_Amortization_h1: NormaltestResult(statistic=214533.93984691097, pvalue=0.0) \n",
      "Column: p40800_Amortization_h2: NormaltestResult(statistic=216301.0194934656, pvalue=0.0) \n",
      "Column: p49100_Profit_h0: NormaltestResult(statistic=154246.30101284213, pvalue=0.0) \n",
      "Column: p49100_Profit_h1: NormaltestResult(statistic=111839.57660439747, pvalue=0.0) \n",
      "Column: p49100_Profit_h2: NormaltestResult(statistic=132013.88468899758, pvalue=0.0) \n"
     ]
    }
   ],
   "source": [
    "# use the normaltest function to find the test statistic and p-value\n",
    "# of each column, and print each of them.\n",
    "# since pandas dataframe is also built on top of arrays,\n",
    "# you can use the dataframe column selection method directly to use the normaltest\n",
    "for col in df.columns[4:-3]:\n",
    "    print('Column: {}: {} '.format(col,stats.normaltest(df[col])))"
   ]
  },
  {
   "cell_type": "markdown",
   "metadata": {},
   "source": [
    "As you can see, the function returns 2 values: the test statistic, and the p-value. If you want to access a particular value of the two, you can use the slicing method or assign both values to a new variable at the same time.\n",
    "\n",
    "```\n",
    "# slicing:\n",
    "p_value = stats.normaltest(x)[1]\n",
    "\n",
    "# variable assignment\n",
    "test_statistic, p_value = stats.normaltest(x)\n",
    "```"
   ]
  },
  {
   "cell_type": "code",
   "execution_count": 11,
   "metadata": {},
   "outputs": [
    {
     "name": "stdout",
     "output_type": "stream",
     "text": [
      "Column: p49100_Profit_h2: NormaltestResult(statistic=132013.88468899758, pvalue=0.0) \n",
      "132013.88468899758\n",
      "0.0\n"
     ]
    }
   ],
   "source": [
    "print('Column: {}: {} '.format(col,stats.normaltest(df[col])))\n",
    "print(stats.normaltest(df[col])[0]) # statistic\n",
    "print(stats.normaltest(df[col])[1]) # p-value"
   ]
  },
  {
   "cell_type": "markdown",
   "metadata": {},
   "source": [
    "Just to verify the normality, use the [```stats.shapiro(x)```](https://docs.scipy.org/doc/scipy/reference/generated/scipy.stats.shapiro.html) function to conduct the shapiro test on the columns."
   ]
  },
  {
   "cell_type": "code",
   "execution_count": 12,
   "metadata": {},
   "outputs": [
    {
     "name": "stdout",
     "output_type": "stream",
     "text": [
      "Column: p10000_TotalAssets_h0: ShapiroResult(statistic=0.006810009479522705, pvalue=0.0) \n",
      "Column: p10000_TotalAssets_h1: ShapiroResult(statistic=0.008111357688903809, pvalue=0.0) \n",
      "Column: p10000_TotalAssets_h2: ShapiroResult(statistic=0.008340120315551758, pvalue=0.0) \n",
      "Column: p20000_OwnCapital_h0: ShapiroResult(statistic=0.025196373462677002, pvalue=0.0) \n",
      "Column: p20000_OwnCapital_h1: ShapiroResult(statistic=0.027913928031921387, pvalue=0.0) \n",
      "Column: p20000_OwnCapital_h2: ShapiroResult(statistic=0.02779608964920044, pvalue=0.0) \n",
      "Column: p31200_ShortTermDebt_h0: ShapiroResult(statistic=0.0124778151512146, pvalue=0.0) \n",
      "Column: p31200_ShortTermDebt_h1: ShapiroResult(statistic=0.014345288276672363, pvalue=0.0) \n",
      "Column: p31200_ShortTermDebt_h2: ShapiroResult(statistic=0.013727664947509766, pvalue=0.0) \n",
      "Column: p32300_LongTermDebt_h0: ShapiroResult(statistic=0.009758532047271729, pvalue=0.0) \n",
      "Column: p32300_LongTermDebt_h1: ShapiroResult(statistic=0.009930074214935303, pvalue=0.0) \n",
      "Column: p32300_LongTermDebt_h2: ShapiroResult(statistic=0.008361995220184326, pvalue=0.0) \n",
      "Column: p40100_40500_SalesTurnover_h0: ShapiroResult(statistic=0.04062753915786743, pvalue=0.0) \n",
      "Column: p40100_40500_SalesTurnover_h1: ShapiroResult(statistic=0.0447123646736145, pvalue=0.0) \n",
      "Column: p40100_40500_SalesTurnover_h2: ShapiroResult(statistic=0.04220515489578247, pvalue=0.0) \n",
      "Column: p40800_Amortization_h0: ShapiroResult(statistic=0.012182533740997314, pvalue=0.0) \n",
      "Column: p40800_Amortization_h1: ShapiroResult(statistic=0.01322329044342041, pvalue=0.0) \n",
      "Column: p40800_Amortization_h2: ShapiroResult(statistic=0.011874735355377197, pvalue=0.0) \n",
      "Column: p49100_Profit_h0: ShapiroResult(statistic=0.040312767028808594, pvalue=0.0) \n",
      "Column: p49100_Profit_h1: ShapiroResult(statistic=0.03654354810714722, pvalue=0.0) \n",
      "Column: p49100_Profit_h2: ShapiroResult(statistic=0.04196447134017944, pvalue=0.0) \n"
     ]
    },
    {
     "name": "stderr",
     "output_type": "stream",
     "text": [
      "/home/manuel/.local/lib/python3.8/site-packages/scipy/stats/_morestats.py:1761: UserWarning: p-value may not be accurate for N > 5000.\n",
      "  warnings.warn(\"p-value may not be accurate for N > 5000.\")\n"
     ]
    }
   ],
   "source": [
    "# use the shapiro function to find the test statistic and p-value\n",
    "# of each column, and print each of them.\n",
    "# shapiro test also returns test-statistic and p-value respectively\n",
    "\n",
    "for col in df.columns[4:-3]:\n",
    "    print('Column: {}: {} '.format(col,stats.shapiro(df[col])))\n"
   ]
  },
  {
   "cell_type": "markdown",
   "metadata": {},
   "source": [
    "```\n",
    "# slicing:\n",
    "p_value = stats.shapiro(x)[1]\n",
    "\n",
    "# variable assignment\n",
    "shapiro_statistic, p_value = stats.shapiro(x)\n",
    "```"
   ]
  },
  {
   "cell_type": "code",
   "execution_count": 13,
   "metadata": {},
   "outputs": [
    {
     "name": "stdout",
     "output_type": "stream",
     "text": [
      "Column: p49100_Profit_h2: ShapiroResult(statistic=0.04196447134017944, pvalue=0.0) \n",
      "0.04196447134017944\n",
      "0.0\n"
     ]
    }
   ],
   "source": [
    "print('Column: {}: {} '.format(col,stats.shapiro(df[col])))\n",
    "print(stats.shapiro(df[col])[0]) # statistic\n",
    "print(stats.shapiro(df[col])[1]) # p-value"
   ]
  },
  {
   "cell_type": "markdown",
   "metadata": {},
   "source": [
    "## 3-2. Skewness and Kurtosis"
   ]
  },
  {
   "cell_type": "markdown",
   "metadata": {},
   "source": [
    "The normaltest uses kurtosis and skewness to test normality. We can check the actual kurtosis and skewness values by using [```stats.kurtosis```](https://docs.scipy.org/doc/scipy/reference/generated/scipy.stats.kurtosis.html) and [```stats.skew```](https://docs.scipy.org/doc/scipy/reference/generated/scipy.stats.skew.html) functions (note: kurtosis returns excess kurtosis value). You can also run a separate tests using [```stats.kurtosistest```](https://docs.scipy.org/doc/scipy-0.16.0/reference/generated/scipy.stats.kurtosistest.html) and [```stats.skewtest```](https://docs.scipy.org/doc/scipy-0.14.0/reference/generated/scipy.stats.skewtest.html). "
   ]
  },
  {
   "cell_type": "code",
   "execution_count": 14,
   "metadata": {},
   "outputs": [
    {
     "name": "stdout",
     "output_type": "stream",
     "text": [
      "Column:p10000_TotalAssets_h0 / kurtosis=15003.432286983887 / skweness=109.49533461800223\n",
      "Column:p10000_TotalAssets_h1 / kurtosis=12387.580230351337 / skweness=98.16277290608836\n",
      "Column:p10000_TotalAssets_h2 / kurtosis=12720.641233540084 / skweness=99.07282309540646\n",
      "Column:p20000_OwnCapital_h0 / kurtosis=6699.479951320811 / skweness=68.34931942253174\n",
      "Column:p20000_OwnCapital_h1 / kurtosis=5594.468913308029 / skweness=61.79730529136646\n",
      "Column:p20000_OwnCapital_h2 / kurtosis=5277.07440670696 / skweness=60.01815182197934\n",
      "Column:p31200_ShortTermDebt_h0 / kurtosis=9899.212448112425 / skweness=90.25026624996731\n",
      "Column:p31200_ShortTermDebt_h1 / kurtosis=10207.245996912494 / skweness=90.82210715192645\n",
      "Column:p31200_ShortTermDebt_h2 / kurtosis=10608.880908110608 / skweness=92.31644470769314\n",
      "Column:p32300_LongTermDebt_h0 / kurtosis=15118.240826864598 / skweness=114.37816406149234\n",
      "Column:p32300_LongTermDebt_h1 / kurtosis=11402.884927673811 / skweness=98.98370090997265\n",
      "Column:p32300_LongTermDebt_h2 / kurtosis=15590.17038067292 / skweness=116.66381561284467\n",
      "Column:p40100_40500_SalesTurnover_h0 / kurtosis=2755.3763449411463 / skweness=45.65858124846928\n",
      "Column:p40100_40500_SalesTurnover_h1 / kurtosis=2696.7386524977665 / skweness=44.46782554744254\n",
      "Column:p40100_40500_SalesTurnover_h2 / kurtosis=2724.561076836572 / skweness=44.843049958708065\n",
      "Column:p40800_Amortization_h0 / kurtosis=19793.565152912586 / skweness=-124.47964672808492\n",
      "Column:p40800_Amortization_h1 / kurtosis=21558.33248035952 / skweness=-128.12993909417523\n",
      "Column:p40800_Amortization_h2 / kurtosis=22219.901902598765 / skweness=-131.6606074985265\n",
      "Column:p49100_Profit_h0 / kurtosis=3595.8990664893417 / skweness=47.23259224261618\n",
      "Column:p49100_Profit_h1 / kurtosis=2493.1634200172034 / skweness=19.744098891442356\n",
      "Column:p49100_Profit_h2 / kurtosis=2125.8930718038105 / skweness=30.91493286489067\n"
     ]
    }
   ],
   "source": [
    "# find the excess kurtosis and skewness values\n",
    "# of each column, and the print the values\n",
    "# using stats.kurtosis(x) and stats.skew(x)\n",
    "\n",
    "for col in df.columns[4:-3]:\n",
    "    print('Column:{} / kurtosis={} / skweness={}'.format(col,stats.kurtosis(df[col]),stats.skew(df[col])))\n"
   ]
  },
  {
   "cell_type": "markdown",
   "metadata": {},
   "source": [
    "```\n",
    "# getting the value:\n",
    "kurtosis_statistic = stats.kurtosis(x)\n",
    "\n",
    "# variable assignment\n",
    "skewness_statistic = stats.skew(x)\n",
    "```"
   ]
  },
  {
   "cell_type": "code",
   "execution_count": 15,
   "metadata": {},
   "outputs": [
    {
     "name": "stdout",
     "output_type": "stream",
     "text": [
      "Column: p49100_Profit_h2: skewness=30.91493286489067 \n",
      "Column: p49100_Profit_h2: kurtosis=2125.8930718038105 \n"
     ]
    }
   ],
   "source": [
    "kurtosis_statistic = stats.kurtosis(df[col])\n",
    "skewness_statistic = stats.skew(df[col])\n",
    "print('Column: {}: skewness={} '.format(col,skewness_statistic)) # statistic\n",
    "print('Column: {}: kurtosis={} '.format(col,kurtosis_statistic)) # p-value\n"
   ]
  },
  {
   "cell_type": "markdown",
   "metadata": {},
   "source": [
    "## 3-3. Have people's weight changed in general before and after the treatments? (one-sample t-test)\n",
    "\n",
    "Since we already have the values for difference in weight pre and post treatment, we can use one-sample paired t-test on the 'difwt' column to see whether there is a significant change in weights, where the hypothesis is:\n",
    "\n",
    "* H0: Mean difference is equal to 0\n",
    "* H1: Mean difference is not equal to 0\n",
    "\n",
    "We can use the [```stats.ttest_1samp(x, mean)```](https://docs.scipy.org/doc/scipy-0.14.0/reference/generated/scipy.stats.ttest_1samp.html) to conduct the one-sample t-test, where x is the data and mean is the population mean you want to test the data against (in this case, 0). The function returns the test statistic and the p-value respectively."
   ]
  },
  {
   "cell_type": "code",
   "execution_count": 16,
   "metadata": {},
   "outputs": [
    {
     "name": "stdout",
     "output_type": "stream",
     "text": [
      "p10000_TotalAssets: Ttest_1sampResult(statistic=-1.7665518221879424, pvalue=0.07730941599304499)\n",
      "p20000_OwnCapital: Ttest_1sampResult(statistic=-2.172171889415615, pvalue=0.029847383082839296)\n",
      "p31200_ShortTermDebt: Ttest_1sampResult(statistic=-4.366143301735749, pvalue=1.2671317346758155e-05)\n",
      "p32300_LongTermDebt: Ttest_1sampResult(statistic=-2.307657401586613, pvalue=0.021022261819747562)\n",
      "p40100_40500_SalesTurnover: Ttest_1sampResult(statistic=-2.035018760050049, pvalue=0.041854249101523425)\n",
      "p40800_Amortization: Ttest_1sampResult(statistic=2.2243029216430057, pvalue=0.026132517794939032)\n",
      "p49100_Profit: Ttest_1sampResult(statistic=0.10295542723365515, pvalue=0.9179987597078809)\n"
     ]
    }
   ],
   "source": [
    "# Use the stats.ttest_1samp function to see whether the difference \n",
    "# of last year and this year for a given variable is different from population mean 0\n",
    "# and print the result\n",
    "print('p10000_TotalAssets:',stats.ttest_1samp(df['p10000_TotalAssets_h0']-df['p10000_TotalAssets_h1'], 0))\n",
    "print('p20000_OwnCapital:',stats.ttest_1samp(df['p20000_OwnCapital_h0']-df['p20000_OwnCapital_h1'], 0))\n",
    "print('p31200_ShortTermDebt:', stats.ttest_1samp(df['p31200_ShortTermDebt_h0']-df['p31200_ShortTermDebt_h1'], 0))\n",
    "print('p32300_LongTermDebt:', stats.ttest_1samp(df['p32300_LongTermDebt_h0']-df['p32300_LongTermDebt_h1'], 0))\n",
    "print('p40100_40500_SalesTurnover:', stats.ttest_1samp(df['p40100_40500_SalesTurnover_h0']-df['p40100_40500_SalesTurnover_h1'], 0))\n",
    "print('p40800_Amortization:', stats.ttest_1samp(df['p40800_Amortization_h0']-df['p40800_Amortization_h1'], 0))\n",
    "print('p49100_Profit:', stats.ttest_1samp(df['p49100_Profit_h0']-df['p49100_Profit_h1'], 0))\n"
   ]
  },
  {
   "cell_type": "markdown",
   "metadata": {},
   "source": [
    "```\n",
    "# slicing:\n",
    "p_value = stats.ttest_1samp(x)[1]\n",
    "\n",
    "# variable assignment\n",
    "shapiro_statistic, p_value = stats.ttest_1samp(x)\n",
    "```"
   ]
  },
  {
   "cell_type": "code",
   "execution_count": 17,
   "metadata": {},
   "outputs": [
    {
     "name": "stdout",
     "output_type": "stream",
     "text": [
      "Column: p10000_TotalAssets: Ttest_1sampResult(statistic=-1.7665518221879424, pvalue=0.07730941599304499) \n",
      "-1.7665518221879424\n",
      "0.07730941599304499\n"
     ]
    }
   ],
   "source": [
    "print('Column: {}: {} '.format('p10000_TotalAssets',stats.ttest_1samp(df['p10000_TotalAssets_h0']-df['p10000_TotalAssets_h1'], 0)))\n",
    "print(stats.ttest_1samp(df['p10000_TotalAssets_h0']-df['p10000_TotalAssets_h1'], 0)[0]) # statistic\n",
    "print(stats.ttest_1samp(df['p10000_TotalAssets_h0']-df['p10000_TotalAssets_h1'], 0)[1]) # p-value"
   ]
  },
  {
   "cell_type": "markdown",
   "metadata": {},
   "source": [
    "## 3-4. Have the value not changed overtime? (paired t-test)\n",
    "\n",
    "Now we can check if the actual differences have changed using a paired t-test, as each pre-weight and post-weight has to match for each individual. The hypothesis is similar:\n",
    "\n",
    "* H0: Mean(p10000_TotalAssets_h0) = Mean(p10000_TotalAssets_h1)\n",
    "* H1: Mean(p10000_TotalAssets_h0) != Mean(p10000_TotalAssets_h1).\n",
    "\n",
    "We can use the [```stats.ttest_rel(a,b)```](https://docs.scipy.org/doc/scipy/reference/generated/scipy.stats.ttest_rel.html) to conduct a paired t-test, where a and b are each of the samples. The function returns the test-statistic and the p-value respectively."
   ]
  },
  {
   "cell_type": "code",
   "execution_count": 18,
   "metadata": {},
   "outputs": [
    {
     "name": "stdout",
     "output_type": "stream",
     "text": [
      "p10000_TotalAssets: Ttest_relResult(statistic=-1.7665518221879424, pvalue=0.07730941599304499)\n",
      "p20000_OwnCapital: Ttest_relResult(statistic=-2.172171889415615, pvalue=0.029847383082839296)\n",
      "p31200_ShortTermDebt: Ttest_relResult(statistic=-4.366143301735749, pvalue=1.2671317346758155e-05)\n",
      "p32300_LongTermDebt: Ttest_relResult(statistic=-2.307657401586613, pvalue=0.021022261819747562)\n",
      "p40100_40500_SalesTurnover: Ttest_relResult(statistic=-2.035018760050049, pvalue=0.041854249101523425)\n",
      "p40800_Amortization: Ttest_relResult(statistic=2.2243029216430057, pvalue=0.026132517794939032)\n",
      "p49100_Profit: Ttest_relResult(statistic=0.10295542723365515, pvalue=0.9179987597078809)\n"
     ]
    }
   ],
   "source": [
    "# use the stats.ttest_rel function to see whether the values of 'prewt' and 'postwt'\n",
    "# for each individual are significantly different\n",
    "# and print the result\n",
    "print('p10000_TotalAssets:',stats.ttest_rel(df['p10000_TotalAssets_h0'],df['p10000_TotalAssets_h1']))\n",
    "print('p20000_OwnCapital:',stats.ttest_rel(df['p20000_OwnCapital_h0'],df['p20000_OwnCapital_h1']))\n",
    "print('p31200_ShortTermDebt:', stats.ttest_rel(df['p31200_ShortTermDebt_h0'],df['p31200_ShortTermDebt_h1']))\n",
    "print('p32300_LongTermDebt:', stats.ttest_rel(df['p32300_LongTermDebt_h0'],df['p32300_LongTermDebt_h1']))\n",
    "print('p40100_40500_SalesTurnover:', stats.ttest_rel(df['p40100_40500_SalesTurnover_h0'],df['p40100_40500_SalesTurnover_h1']))\n",
    "print('p40800_Amortization:', stats.ttest_rel(df['p40800_Amortization_h0'],df['p40800_Amortization_h1']))\n",
    "print('p49100_Profit:', stats.ttest_rel(df['p49100_Profit_h0'],df['p49100_Profit_h1']))"
   ]
  },
  {
   "cell_type": "markdown",
   "metadata": {},
   "source": [
    "```\n",
    "# slicing:\n",
    "p_value = stats.ttest_rel(x)[1]\n",
    "\n",
    "# variable assignment\n",
    "shapiro_statistic, p_value = stats.ttest_rel(x)\n",
    "```"
   ]
  },
  {
   "cell_type": "code",
   "execution_count": 19,
   "metadata": {},
   "outputs": [
    {
     "name": "stdout",
     "output_type": "stream",
     "text": [
      "p10000_TotalAssets: Ttest_relResult(statistic=-1.7665518221879424, pvalue=0.07730941599304499)\n",
      "-1.7665518221879424\n",
      "0.07730941599304499\n"
     ]
    }
   ],
   "source": [
    "print('p10000_TotalAssets:',stats.ttest_rel(df['p10000_TotalAssets_h0'],df['p10000_TotalAssets_h1']))\n",
    "print(stats.ttest_rel(df['p10000_TotalAssets_h0'],df['p10000_TotalAssets_h1'])[0]) # statistic\n",
    "print(stats.ttest_rel(df['p10000_TotalAssets_h0'],df['p10000_TotalAssets_h1'])[1]) # p-value"
   ]
  },
  {
   "cell_type": "markdown",
   "metadata": {},
   "source": [
    "## 3-5. Are the effect of each treatment different from one another? (one-way ANOVA)\n",
    "\n",
    "Since there are 3 groups, we need to use the ANOVA test to determine whether or not the means (difference in weight) are the same. The hypothesis is as follows:\n",
    "\n",
    "* H0: Mean(group1) = Mean(group2) = Mean(group3)\n",
    "* H1: at least one pair has different means\n",
    "\n",
    "We can use the [```stats.f_oneway(a,b,c...)```](https://docs.scipy.org/doc/scipy/reference/generated/scipy.stats.f_oneway.html) to conduct a one-way anova test, where a, b, c.. are each of the samples. The function returns the test statistic and the p-value respectively."
   ]
  },
  {
   "cell_type": "code",
   "execution_count": 20,
   "metadata": {},
   "outputs": [
    {
     "name": "stdout",
     "output_type": "stream",
     "text": [
      "F_onewayResult(statistic=0.03286933991611936, pvalue=0.8561402256292817)\n",
      "F_onewayResult(statistic=0.8536202215287285, pvalue=0.42589806807913066)\n",
      "F_onewayResult(statistic=18.29812067235471, pvalue=8.934723780227242e-31)\n"
     ]
    }
   ],
   "source": [
    "# use the stats.f_oneway function to see whether the means of 'difwt' column\n",
    "# are significantly different for at least one pair\n",
    "print(stats.f_oneway(df[df['industry'] == 0]['p10000_TotalAssets_h0'], \n",
    "                     df[df['industry'] == 1]['p10000_TotalAssets_h0']\n",
    "                    ))\n",
    "\n",
    "print(stats.f_oneway(df[df['industry'] == 0]['p10000_TotalAssets_h0'], \n",
    "                     df[df['industry'] == 1]['p10000_TotalAssets_h0'],\n",
    "                     df[df['industry'] == 2]['p10000_TotalAssets_h0']\n",
    "                    ))\n",
    "\n",
    "print(stats.f_oneway(df[df['industry'] == 0]['p10000_TotalAssets_h0'], \n",
    "                     df[df['industry'] == 1]['p10000_TotalAssets_h0'],\n",
    "                     df[df['industry'] == 2]['p10000_TotalAssets_h0'],\n",
    "                     df[df['industry'] == 3]['p10000_TotalAssets_h0'],\n",
    "                     df[df['industry'] == 4]['p10000_TotalAssets_h0'],\n",
    "                     df[df['industry'] == 5]['p10000_TotalAssets_h0'],\n",
    "                     df[df['industry'] == 6]['p10000_TotalAssets_h0'],\n",
    "                     df[df['industry'] == 7]['p10000_TotalAssets_h0'],\n",
    "                     df[df['industry'] == 8]['p10000_TotalAssets_h0'],\n",
    "                     df[df['industry'] == 9]['p10000_TotalAssets_h0'],\n",
    "                    ))\n",
    "\n",
    "# you can carry out additional tukey's test using\n",
    "# the statsmodels library :)"
   ]
  },
  {
   "cell_type": "markdown",
   "metadata": {},
   "source": [
    "```\n",
    "# slicing:\n",
    "p_value = stats.f_oneway(x,y,z)[1]\n",
    "\n",
    "# variable assignment\n",
    "shapiro_statistic, p_value = stats.f_oneway(x,y,z)\n",
    "```"
   ]
  },
  {
   "cell_type": "code",
   "execution_count": 21,
   "metadata": {},
   "outputs": [
    {
     "name": "stdout",
     "output_type": "stream",
     "text": [
      "F_onewayResult(statistic=0.03286933991611936, pvalue=0.8561402256292817)\n",
      "0.03286933991611936\n",
      "0.8561402256292817\n"
     ]
    }
   ],
   "source": [
    "print(stats.f_oneway(df[df['industry'] == 0]['p10000_TotalAssets_h0'], \n",
    "                     df[df['industry'] == 1]['p10000_TotalAssets_h0']\n",
    "                    ))\n",
    "\n",
    "print(stats.f_oneway(df[df['industry'] == 0]['p10000_TotalAssets_h0'], \n",
    "                     df[df['industry'] == 1]['p10000_TotalAssets_h0']\n",
    "                    )[0]) # statistic\n",
    "print(stats.f_oneway(df[df['industry'] == 0]['p10000_TotalAssets_h0'], \n",
    "                     df[df['industry'] == 1]['p10000_TotalAssets_h0']\n",
    "                    )[1]) # p-value"
   ]
  },
  {
   "cell_type": "markdown",
   "metadata": {},
   "source": [
    "---"
   ]
  }
 ],
 "metadata": {
  "kernelspec": {
   "display_name": "Python 3 (ipykernel)",
   "language": "python",
   "name": "python3"
  },
  "language_info": {
   "codemirror_mode": {
    "name": "ipython",
    "version": 3
   },
   "file_extension": ".py",
   "mimetype": "text/x-python",
   "name": "python",
   "nbconvert_exporter": "python",
   "pygments_lexer": "ipython3",
   "version": "3.9.12"
  },
  "vscode": {
   "interpreter": {
    "hash": "916dbcbb3f70747c44a77c7bcd40155683ae19c65e1c03b4aa3499c5328201f1"
   }
  }
 },
 "nbformat": 4,
 "nbformat_minor": 2
}
