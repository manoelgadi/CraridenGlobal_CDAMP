{
 "cells": [
  {
   "cell_type": "markdown",
   "metadata": {},
   "source": [
    "# Exercises for Main Session 3 - The making of Pandas data frames.ipynb"
   ]
  },
  {
   "cell_type": "code",
   "execution_count": 20,
   "metadata": {},
   "outputs": [],
   "source": [
    "import pandas as pd\n",
    "import numpy as np"
   ]
  },
  {
   "cell_type": "code",
   "execution_count": 2,
   "metadata": {},
   "outputs": [],
   "source": [
    "df = pd.read_excel('./data/yahoo.xlsx')"
   ]
  },
  {
   "cell_type": "markdown",
   "metadata": {},
   "source": [
    "### 1. How to get values on specific column"
   ]
  },
  {
   "cell_type": "code",
   "execution_count": null,
   "metadata": {},
   "outputs": [],
   "source": [
    "#Code"
   ]
  },
  {
   "cell_type": "markdown",
   "metadata": {},
   "source": [
    "### 2. Get 50-Day Moving Average > 100.00"
   ]
  },
  {
   "cell_type": "code",
   "execution_count": null,
   "metadata": {},
   "outputs": [],
   "source": [
    "#Code"
   ]
  },
  {
   "cell_type": "markdown",
   "metadata": {},
   "source": [
    "### 3. Write a Pandas program to create and display a DataFrame from a specified dictionary data which has the index labels. Sample Python dictionary data and list labels:\n",
    "* exam_data = {'name': ['Anastasia', 'Dima', 'Katherine', 'James', 'Emily', 'Michael', 'Matthew', 'Laura', 'Kevin', 'Jonas'],\n",
    "* 'score': [12.5, 9, 16.5, np.nan, 9, 20, 14.5, np.nan, 8, 19],\n",
    "* 'attempts': [1, 3, 2, 3, 2, 3, 1, 1, 2, 1],\n",
    "* 'qualify': ['yes', 'no', 'yes', 'no', 'no', 'yes', 'yes', 'no', 'no', 'yes']}\n",
    "* labels = ['a', 'b', 'c', 'd', 'e', 'f', 'g', 'h', 'i', 'j']\n",
    "\n",
    "### Expected Output:\n",
    "attempts name qualify score\n",
    "\n",
    "a 1 Anastasia yes 12.5\n",
    "\n",
    "b 3 Dima no 9.0\n",
    "\n",
    ".... i 2 Kevin no 8.0\n",
    "\n",
    "j 1 Jonas yes 19.0"
   ]
  },
  {
   "cell_type": "code",
   "execution_count": null,
   "metadata": {},
   "outputs": [],
   "source": [
    "#Code"
   ]
  },
  {
   "cell_type": "markdown",
   "metadata": {},
   "source": [
    "### 4.Write a Pandas program to get the first 3 rows of a given DataFrame. Sample Python dictionary data and list labels:\n",
    "* exam_data = {'name': ['Anastasia', 'Dima', 'Katherine', 'James', 'Emily', 'Michael', 'Matthew', 'Laura', 'Kevin', 'Jonas'],\n",
    "* 'score': [12.5, 9, 16.5, np.nan, 9, 20, 14.5, np.nan, 8, 19],\n",
    "* 'attempts': [1, 3, 2, 3, 2, 3, 1, 1, 2, 1],\n",
    "* 'qualify': ['yes', 'no', 'yes', 'no', 'no', 'yes', 'yes', 'no', 'no', 'yes']}\n",
    "* labels = ['a', 'b', 'c', 'd', 'e', 'f', 'g', 'h', 'i', 'j']\n",
    "\n",
    "Expected Output:\n",
    "\n",
    "First three rows of the data frame:\n",
    "\n",
    "attempts name qualify score\n",
    "\n",
    "a -> 1 Anastasia yes 12.5\n",
    "\n",
    "b -> 3 Dima no 9.0\n",
    "\n",
    "c -> 2 Katherine yes 16.5"
   ]
  },
  {
   "cell_type": "code",
   "execution_count": null,
   "metadata": {},
   "outputs": [],
   "source": [
    "#code"
   ]
  },
  {
   "cell_type": "markdown",
   "metadata": {},
   "source": [
    "### 5. Write a Pandas program to select the 'name' and 'score' columns from the following DataFrame.\n",
    "* exam_data = {'name': ['Anastasia', 'Dima', 'Katherine', 'James', 'Emily', 'Michael', 'Matthew', 'Laura', 'Kevin', 'Jonas'],\n",
    "* 'score': [12.5, 9, 16.5, np.nan, 9, 20, 14.5, np.nan, 8, 19],\n",
    "* 'attempts': [1, 3, 2, 3, 2, 3, 1, 1, 2, 1],\n",
    "* 'qualify': ['yes', 'no', 'yes', 'no', 'no', 'yes', 'yes', 'no', 'no', 'yes']}\n",
    "* labels = ['a', 'b', 'c', 'd', 'e', 'f', 'g', 'h', 'i', 'j']\n",
    "\n",
    "Expected Output:\n",
    "\n",
    "Select specific columns:\n",
    "name score\n",
    "* a Anastasia 12.5\n",
    "* b Dima 9.0\n",
    "* c Katherine 16.5\n",
    "... h Laura NaN\n",
    "* i Kevin 8.0\n",
    "* j Jonas 19.0"
   ]
  },
  {
   "cell_type": "code",
   "execution_count": null,
   "metadata": {},
   "outputs": [],
   "source": [
    "#Code"
   ]
  },
  {
   "cell_type": "markdown",
   "metadata": {},
   "source": [
    "### 6. Write a Pandas program to select the rows where the score is missing, i.e. is NaN.\n",
    "Sample Python dictionary data and list labels:\n",
    "* exam_data = {'name': ['Anastasia', 'Dima', 'Katherine', 'James', 'Emily', 'Michael', 'Matthew', 'Laura', 'Kevin', 'Jonas'],\n",
    "* 'score': [12.5, 9, 16.5, np.nan, 9, 20, 14.5, np.nan, 8, 19],\n",
    "* 'attempts': [1, 3, 2, 3, 2, 3, 1, 1, 2, 1],\n",
    "* 'qualify': ['yes', 'no', 'yes', 'no', 'no', 'yes', 'yes', 'no', 'no', 'yes']}\n",
    "* labels = ['a', 'b', 'c', 'd', 'e', 'f', 'g', labels = ['a', 'b', 'c', 'd', 'e', 'f', 'g', 'h', 'i', 'j']\n",
    "\n",
    "Expected Output:\n",
    "* d  James    NaN         3      no\n",
    "* h  Laura    NaN         1      no"
   ]
  },
  {
   "cell_type": "code",
   "execution_count": null,
   "metadata": {},
   "outputs": [],
   "source": [
    "#Code"
   ]
  },
  {
   "cell_type": "markdown",
   "metadata": {},
   "source": [
    "### 7. Write a Pandas program to rename columns of a given DataFrame\n",
    "Sample data:\n",
    "Original DataFrame\n",
    "\n",
    "col1 col2 col3<br>\n",
    "0 1 4 7 <br>\n",
    "1 2 5 8<br>\n",
    "2 3 6 9<br>\n",
    "\n",
    "\n",
    "New DataFrame after renaming columns:\n",
    "\n",
    "\n",
    "Column1 Column2 Column3<br>\n",
    "0 1 4 7<br>\n",
    "1 2 5 8<br>\n",
    "2 3 6 9<br>"
   ]
  },
  {
   "cell_type": "code",
   "execution_count": null,
   "metadata": {},
   "outputs": [],
   "source": [
    "#Code"
   ]
  },
  {
   "cell_type": "markdown",
   "metadata": {},
   "source": [
    "### 8. Write a Pandas program to convert a given list of lists into a Dataframe\n",
    "\n",
    "Sample data:\n",
    "\n",
    "\n",
    "Original list of lists:\n",
    "\n",
    "[[2, 4], [1, 3]]\n",
    "\n",
    "New DataFrame\n",
    "\n",
    "col1 col2<br>\n",
    "0 2 4<br>\n",
    "1 1 3<br>"
   ]
  },
  {
   "cell_type": "code",
   "execution_count": null,
   "metadata": {},
   "outputs": [],
   "source": [
    "#code"
   ]
  },
  {
   "cell_type": "markdown",
   "metadata": {},
   "source": [
    "### 9. Write a Pandas program to replace the current value in a dataframe column based on last largest value. If the current value is less than last largest value replaces the value with 0."
   ]
  },
  {
   "cell_type": "code",
   "execution_count": null,
   "metadata": {},
   "outputs": [],
   "source": [
    "#Code"
   ]
  },
  {
   "cell_type": "markdown",
   "metadata": {},
   "source": [
    "### 10.Write a Pandas program to fill missing values in time series data.\n",
    "\n",
    "##### From Wikipedia , in the mathematical field of numerical analysis, interpolation is a type of estimation, a method of constructing new data points within the range of a discrete set of known data points.\n",
    "\n",
    "Original DataFrame:\n",
    "\n",
    "c1 c2<br>\n",
    "2000-01-03 120.0 7.0<br>\n",
    "2000-01-04 130.0 NaN<br>\n",
    "2000-01-05 140.0 10.0<br>\n",
    "2000-01-06 150.0 NaN<br>\n",
    "2000-01-07 NaN 5.5<br>\n",
    "2000-01-10 170.0 16.5<br>\n",
    "\n",
    "DataFrame after interpolate:\n",
    "\n",
    "c1 c2<br>\n",
    "2000-01-03 120.0 7.00<br>\n",
    "2000-01-04 130.0 8.50<br>\n",
    "2000-01-05 140.0 10.00<br>\n",
    "2000-01-06 150.0 7.75<br>\n",
    "2000-01-07 160.0 5.50<br>\n",
    "2000-01-10 170.0 16.50<br>"
   ]
  },
  {
   "cell_type": "code",
   "execution_count": null,
   "metadata": {},
   "outputs": [],
   "source": [
    "#Code"
   ]
  },
  {
   "cell_type": "markdown",
   "metadata": {},
   "source": [
    "### Solutions"
   ]
  },
  {
   "cell_type": "code",
   "execution_count": 9,
   "metadata": {},
   "outputs": [
    {
     "data": {
      "text/plain": [
       "0     1,203.95\n",
       "1       109.96\n",
       "2       172.03\n",
       "3        32.72\n",
       "4        48.74\n",
       "        ...   \n",
       "81       66.15\n",
       "82       48.38\n",
       "83       74.10\n",
       "84       38.23\n",
       "85      236.11\n",
       "Name: 50-Day Moving Average, Length: 86, dtype: object"
      ]
     },
     "execution_count": 9,
     "metadata": {},
     "output_type": "execute_result"
    }
   ],
   "source": [
    "#1\n",
    "df['50-Day Moving Average']"
   ]
  },
  {
   "cell_type": "code",
   "execution_count": 17,
   "metadata": {},
   "outputs": [
    {
     "data": {
      "text/html": [
       "<div>\n",
       "<style scoped>\n",
       "    .dataframe tbody tr th:only-of-type {\n",
       "        vertical-align: middle;\n",
       "    }\n",
       "\n",
       "    .dataframe tbody tr th {\n",
       "        vertical-align: top;\n",
       "    }\n",
       "\n",
       "    .dataframe thead th {\n",
       "        text-align: right;\n",
       "    }\n",
       "</style>\n",
       "<table border=\"1\" class=\"dataframe\">\n",
       "  <thead>\n",
       "    <tr style=\"text-align: right;\">\n",
       "      <th></th>\n",
       "      <th>Unnamed: 0</th>\n",
       "      <th>ticker</th>\n",
       "      <th>country</th>\n",
       "      <th>sector</th>\n",
       "      <th>RefIndex</th>\n",
       "      <th>Market Cap</th>\n",
       "      <th>Enterprise Value</th>\n",
       "      <th>Trailing P/E</th>\n",
       "      <th>Forward P/E</th>\n",
       "      <th>PEG Ratio</th>\n",
       "      <th>...</th>\n",
       "      <th>Trailing Annual Dividend Rate</th>\n",
       "      <th>Trailing Annual Dividend Yield</th>\n",
       "      <th>5 Year Average Dividend Yield</th>\n",
       "      <th>Payout Ratio</th>\n",
       "      <th>Dividend Date</th>\n",
       "      <th>Ex-Dividend Date</th>\n",
       "      <th>Last Split Factor</th>\n",
       "      <th>Last Split Date</th>\n",
       "      <th>ScrapedName</th>\n",
       "      <th>Sector</th>\n",
       "    </tr>\n",
       "  </thead>\n",
       "  <tbody>\n",
       "    <tr>\n",
       "      <th>0</th>\n",
       "      <td>0</td>\n",
       "      <td>GOOG</td>\n",
       "      <td>USA</td>\n",
       "      <td>Technology</td>\n",
       "      <td>SPY</td>\n",
       "      <td>818.1B</td>\n",
       "      <td>712.95B</td>\n",
       "      <td>50.67</td>\n",
       "      <td>24.46</td>\n",
       "      <td>1.70</td>\n",
       "      <td>...</td>\n",
       "      <td>NaN</td>\n",
       "      <td>NaN</td>\n",
       "      <td>NaN</td>\n",
       "      <td>0.00%</td>\n",
       "      <td>NaN</td>\n",
       "      <td>NaN</td>\n",
       "      <td>10000000/10000000</td>\n",
       "      <td>Apr 27, 2015</td>\n",
       "      <td>Alphabet Inc. (GOOG)</td>\n",
       "      <td>Technology</td>\n",
       "    </tr>\n",
       "    <tr>\n",
       "      <th>1</th>\n",
       "      <td>1</td>\n",
       "      <td>MSFT</td>\n",
       "      <td>USA</td>\n",
       "      <td>Technology</td>\n",
       "      <td>SPY</td>\n",
       "      <td>879.31B</td>\n",
       "      <td>830.01B</td>\n",
       "      <td>53.84</td>\n",
       "      <td>23.26</td>\n",
       "      <td>2.14</td>\n",
       "      <td>...</td>\n",
       "      <td>1.68</td>\n",
       "      <td>1.47%</td>\n",
       "      <td>2.35</td>\n",
       "      <td>77.46%</td>\n",
       "      <td>Dec 13, 2018</td>\n",
       "      <td>Nov 14, 2018</td>\n",
       "      <td>2/1</td>\n",
       "      <td>Feb 18, 2003</td>\n",
       "      <td>Microsoft Corporation (MSFT)</td>\n",
       "      <td>Technology</td>\n",
       "    </tr>\n",
       "    <tr>\n",
       "      <th>3</th>\n",
       "      <td>3</td>\n",
       "      <td>T</td>\n",
       "      <td>USA</td>\n",
       "      <td>Technology</td>\n",
       "      <td>SPY</td>\n",
       "      <td>246.25B</td>\n",
       "      <td>424.67B</td>\n",
       "      <td>6.63</td>\n",
       "      <td>9.32</td>\n",
       "      <td>1.56</td>\n",
       "      <td>...</td>\n",
       "      <td>1.99</td>\n",
       "      <td>5.89%</td>\n",
       "      <td>5.25</td>\n",
       "      <td>38.79%</td>\n",
       "      <td>Aug 1, 2018</td>\n",
       "      <td>Jul 9, 2018</td>\n",
       "      <td>2/1</td>\n",
       "      <td>Mar 20, 1998</td>\n",
       "      <td>AT&amp;amp;T Inc. (T)</td>\n",
       "      <td>Communication Services</td>\n",
       "    </tr>\n",
       "    <tr>\n",
       "      <th>4</th>\n",
       "      <td>4</td>\n",
       "      <td>ORCL</td>\n",
       "      <td>USA</td>\n",
       "      <td>Technology</td>\n",
       "      <td>SPY</td>\n",
       "      <td>203.99B</td>\n",
       "      <td>192.27B</td>\n",
       "      <td>56.93</td>\n",
       "      <td>14.04</td>\n",
       "      <td>1.79</td>\n",
       "      <td>...</td>\n",
       "      <td>0.76</td>\n",
       "      <td>1.49%</td>\n",
       "      <td>1.36</td>\n",
       "      <td>78.35%</td>\n",
       "      <td>Oct 30, 2018</td>\n",
       "      <td>Oct 15, 2018</td>\n",
       "      <td>2/1</td>\n",
       "      <td>Oct 13, 2000</td>\n",
       "      <td>Oracle Corporation (ORCL)</td>\n",
       "      <td>Technology</td>\n",
       "    </tr>\n",
       "    <tr>\n",
       "      <th>5</th>\n",
       "      <td>5</td>\n",
       "      <td>VZ</td>\n",
       "      <td>USA</td>\n",
       "      <td>Technology</td>\n",
       "      <td>SPY</td>\n",
       "      <td>221.22B</td>\n",
       "      <td>340.36B</td>\n",
       "      <td>7.10</td>\n",
       "      <td>11.27</td>\n",
       "      <td>1.95</td>\n",
       "      <td>...</td>\n",
       "      <td>2.36</td>\n",
       "      <td>4.34%</td>\n",
       "      <td>4.52</td>\n",
       "      <td>31.26%</td>\n",
       "      <td>Nov 1, 2018</td>\n",
       "      <td>Oct 9, 2018</td>\n",
       "      <td>1000000/937889</td>\n",
       "      <td>Jul 2, 2010</td>\n",
       "      <td>Verizon Communications Inc. (VZ)</td>\n",
       "      <td>Communication Services</td>\n",
       "    </tr>\n",
       "    <tr>\n",
       "      <th>15</th>\n",
       "      <td>15</td>\n",
       "      <td>ADBE</td>\n",
       "      <td>USA</td>\n",
       "      <td>Technology</td>\n",
       "      <td>SPY</td>\n",
       "      <td>129.32B</td>\n",
       "      <td>124.77B</td>\n",
       "      <td>60.86</td>\n",
       "      <td>33.99</td>\n",
       "      <td>1.64</td>\n",
       "      <td>...</td>\n",
       "      <td>NaN</td>\n",
       "      <td>NaN</td>\n",
       "      <td>NaN</td>\n",
       "      <td>0.00%</td>\n",
       "      <td>NaN</td>\n",
       "      <td>Mar 24, 2005</td>\n",
       "      <td>2/1</td>\n",
       "      <td>May 24, 2005</td>\n",
       "      <td>Adobe Systems Incorporated (ADBE)</td>\n",
       "      <td>Technology</td>\n",
       "    </tr>\n",
       "    <tr>\n",
       "      <th>20</th>\n",
       "      <td>20</td>\n",
       "      <td>KO</td>\n",
       "      <td>USA</td>\n",
       "      <td>Consumer</td>\n",
       "      <td>SPY</td>\n",
       "      <td>195.93B</td>\n",
       "      <td>227.45B</td>\n",
       "      <td>82.56</td>\n",
       "      <td>20.57</td>\n",
       "      <td>3.07</td>\n",
       "      <td>...</td>\n",
       "      <td>1.52</td>\n",
       "      <td>3.26%</td>\n",
       "      <td>3.10</td>\n",
       "      <td>292.31%</td>\n",
       "      <td>Oct 1, 2018</td>\n",
       "      <td>Sep 13, 2018</td>\n",
       "      <td>2/1</td>\n",
       "      <td>Aug 13, 2012</td>\n",
       "      <td>Coca-Cola Company (The) (KO)</td>\n",
       "      <td>Consumer Defensive</td>\n",
       "    </tr>\n",
       "    <tr>\n",
       "      <th>27</th>\n",
       "      <td>27</td>\n",
       "      <td>NKE</td>\n",
       "      <td>USA</td>\n",
       "      <td>Consumer</td>\n",
       "      <td>SPY</td>\n",
       "      <td>134.88B</td>\n",
       "      <td>135.49B</td>\n",
       "      <td>72.03</td>\n",
       "      <td>26.75</td>\n",
       "      <td>2.33</td>\n",
       "      <td>...</td>\n",
       "      <td>0.78</td>\n",
       "      <td>0.91%</td>\n",
       "      <td>1.11</td>\n",
       "      <td>66.67%</td>\n",
       "      <td>Oct 1, 2018</td>\n",
       "      <td>Aug 31, 2018</td>\n",
       "      <td>2/1</td>\n",
       "      <td>Dec 24, 2015</td>\n",
       "      <td>Nike, Inc. (NKE)</td>\n",
       "      <td>Consumer Cyclical</td>\n",
       "    </tr>\n",
       "    <tr>\n",
       "      <th>34</th>\n",
       "      <td>34</td>\n",
       "      <td>WMT</td>\n",
       "      <td>USA</td>\n",
       "      <td>Services</td>\n",
       "      <td>SPY</td>\n",
       "      <td>278B</td>\n",
       "      <td>321.82B</td>\n",
       "      <td>54.30</td>\n",
       "      <td>19.77</td>\n",
       "      <td>3.57</td>\n",
       "      <td>...</td>\n",
       "      <td>2.06</td>\n",
       "      <td>2.15%</td>\n",
       "      <td>2.59</td>\n",
       "      <td>117.71%</td>\n",
       "      <td>Jan 2, 2019</td>\n",
       "      <td>Dec 6, 2018</td>\n",
       "      <td>2/1</td>\n",
       "      <td>Apr 20, 1999</td>\n",
       "      <td>Walmart Inc. (WMT)</td>\n",
       "      <td>Consumer Defensive</td>\n",
       "    </tr>\n",
       "    <tr>\n",
       "      <th>35</th>\n",
       "      <td>35</td>\n",
       "      <td>CMCSA</td>\n",
       "      <td>USA</td>\n",
       "      <td>Services</td>\n",
       "      <td>SPY</td>\n",
       "      <td>163.25B</td>\n",
       "      <td>234.9B</td>\n",
       "      <td>7.00</td>\n",
       "      <td>12.77</td>\n",
       "      <td>0.92</td>\n",
       "      <td>...</td>\n",
       "      <td>0.69</td>\n",
       "      <td>1.83%</td>\n",
       "      <td>1.62</td>\n",
       "      <td>13.76%</td>\n",
       "      <td>Oct 24, 2018</td>\n",
       "      <td>Oct 2, 2018</td>\n",
       "      <td>2/1</td>\n",
       "      <td>Feb 21, 2017</td>\n",
       "      <td>Comcast Corporation (CMCSA)</td>\n",
       "      <td>Communication Services</td>\n",
       "    </tr>\n",
       "    <tr>\n",
       "      <th>67</th>\n",
       "      <td>67</td>\n",
       "      <td>ING</td>\n",
       "      <td>USA</td>\n",
       "      <td>Financial</td>\n",
       "      <td>SPY</td>\n",
       "      <td>51.88B</td>\n",
       "      <td>82.29B</td>\n",
       "      <td>9.00</td>\n",
       "      <td>NaN</td>\n",
       "      <td>NaN</td>\n",
       "      <td>...</td>\n",
       "      <td>0.78</td>\n",
       "      <td>5.71%</td>\n",
       "      <td>NaN</td>\n",
       "      <td>45.58%</td>\n",
       "      <td>Aug 21, 2018</td>\n",
       "      <td>Aug 10, 2018</td>\n",
       "      <td>2/1</td>\n",
       "      <td>Jul 13, 2001</td>\n",
       "      <td>ING Group, N.V. (ING)</td>\n",
       "      <td>Financial Services</td>\n",
       "    </tr>\n",
       "    <tr>\n",
       "      <th>73</th>\n",
       "      <td>73</td>\n",
       "      <td>AMGN</td>\n",
       "      <td>USA</td>\n",
       "      <td>Healthcare</td>\n",
       "      <td>SPY</td>\n",
       "      <td>134.12B</td>\n",
       "      <td>137.86B</td>\n",
       "      <td>62.08</td>\n",
       "      <td>14.27</td>\n",
       "      <td>2.73</td>\n",
       "      <td>...</td>\n",
       "      <td>4.94</td>\n",
       "      <td>2.41%</td>\n",
       "      <td>2.13</td>\n",
       "      <td>133.15%</td>\n",
       "      <td>Sep 7, 2018</td>\n",
       "      <td>Aug 16, 2018</td>\n",
       "      <td>2/1</td>\n",
       "      <td>Nov 22, 1999</td>\n",
       "      <td>Amgen Inc. (AMGN)</td>\n",
       "      <td>Healthcare</td>\n",
       "    </tr>\n",
       "  </tbody>\n",
       "</table>\n",
       "<p>12 rows × 65 columns</p>\n",
       "</div>"
      ],
      "text/plain": [
       "    Unnamed: 0 ticker country      sector RefIndex Market Cap  \\\n",
       "0            0   GOOG     USA  Technology      SPY     818.1B   \n",
       "1            1   MSFT     USA  Technology      SPY    879.31B   \n",
       "3            3      T     USA  Technology      SPY    246.25B   \n",
       "4            4   ORCL     USA  Technology      SPY    203.99B   \n",
       "5            5     VZ     USA  Technology      SPY    221.22B   \n",
       "15          15   ADBE     USA  Technology      SPY    129.32B   \n",
       "20          20     KO     USA    Consumer      SPY    195.93B   \n",
       "27          27    NKE     USA    Consumer      SPY    134.88B   \n",
       "34          34    WMT     USA    Services      SPY       278B   \n",
       "35          35  CMCSA     USA    Services      SPY    163.25B   \n",
       "67          67    ING     USA   Financial      SPY     51.88B   \n",
       "73          73   AMGN     USA  Healthcare      SPY    134.12B   \n",
       "\n",
       "   Enterprise Value Trailing P/E  Forward P/E  PEG Ratio  ...  \\\n",
       "0           712.95B        50.67        24.46       1.70  ...   \n",
       "1           830.01B        53.84        23.26       2.14  ...   \n",
       "3           424.67B         6.63         9.32       1.56  ...   \n",
       "4           192.27B        56.93        14.04       1.79  ...   \n",
       "5           340.36B         7.10        11.27       1.95  ...   \n",
       "15          124.77B        60.86        33.99       1.64  ...   \n",
       "20          227.45B        82.56        20.57       3.07  ...   \n",
       "27          135.49B        72.03        26.75       2.33  ...   \n",
       "34          321.82B        54.30        19.77       3.57  ...   \n",
       "35           234.9B         7.00        12.77       0.92  ...   \n",
       "67           82.29B         9.00          NaN        NaN  ...   \n",
       "73          137.86B        62.08        14.27       2.73  ...   \n",
       "\n",
       "    Trailing Annual Dividend Rate  Trailing Annual Dividend Yield  \\\n",
       "0                             NaN                             NaN   \n",
       "1                            1.68                           1.47%   \n",
       "3                            1.99                           5.89%   \n",
       "4                            0.76                           1.49%   \n",
       "5                            2.36                           4.34%   \n",
       "15                            NaN                             NaN   \n",
       "20                           1.52                           3.26%   \n",
       "27                           0.78                           0.91%   \n",
       "34                           2.06                           2.15%   \n",
       "35                           0.69                           1.83%   \n",
       "67                           0.78                           5.71%   \n",
       "73                           4.94                           2.41%   \n",
       "\n",
       "    5 Year Average Dividend Yield  Payout Ratio Dividend Date  \\\n",
       "0                             NaN         0.00%           NaN   \n",
       "1                            2.35        77.46%  Dec 13, 2018   \n",
       "3                            5.25        38.79%   Aug 1, 2018   \n",
       "4                            1.36        78.35%  Oct 30, 2018   \n",
       "5                            4.52        31.26%   Nov 1, 2018   \n",
       "15                            NaN         0.00%           NaN   \n",
       "20                           3.10       292.31%   Oct 1, 2018   \n",
       "27                           1.11        66.67%   Oct 1, 2018   \n",
       "34                           2.59       117.71%   Jan 2, 2019   \n",
       "35                           1.62        13.76%  Oct 24, 2018   \n",
       "67                            NaN        45.58%  Aug 21, 2018   \n",
       "73                           2.13       133.15%   Sep 7, 2018   \n",
       "\n",
       "   Ex-Dividend Date  Last Split Factor Last Split Date  \\\n",
       "0               NaN  10000000/10000000    Apr 27, 2015   \n",
       "1      Nov 14, 2018                2/1    Feb 18, 2003   \n",
       "3       Jul 9, 2018                2/1    Mar 20, 1998   \n",
       "4      Oct 15, 2018                2/1    Oct 13, 2000   \n",
       "5       Oct 9, 2018     1000000/937889     Jul 2, 2010   \n",
       "15     Mar 24, 2005                2/1    May 24, 2005   \n",
       "20     Sep 13, 2018                2/1    Aug 13, 2012   \n",
       "27     Aug 31, 2018                2/1    Dec 24, 2015   \n",
       "34      Dec 6, 2018                2/1    Apr 20, 1999   \n",
       "35      Oct 2, 2018                2/1    Feb 21, 2017   \n",
       "67     Aug 10, 2018                2/1    Jul 13, 2001   \n",
       "73     Aug 16, 2018                2/1    Nov 22, 1999   \n",
       "\n",
       "                           ScrapedName                  Sector  \n",
       "0                 Alphabet Inc. (GOOG)              Technology  \n",
       "1         Microsoft Corporation (MSFT)              Technology  \n",
       "3                    AT&amp;T Inc. (T)  Communication Services  \n",
       "4            Oracle Corporation (ORCL)              Technology  \n",
       "5     Verizon Communications Inc. (VZ)  Communication Services  \n",
       "15   Adobe Systems Incorporated (ADBE)              Technology  \n",
       "20        Coca-Cola Company (The) (KO)      Consumer Defensive  \n",
       "27                    Nike, Inc. (NKE)       Consumer Cyclical  \n",
       "34                  Walmart Inc. (WMT)      Consumer Defensive  \n",
       "35         Comcast Corporation (CMCSA)  Communication Services  \n",
       "67               ING Group, N.V. (ING)      Financial Services  \n",
       "73                   Amgen Inc. (AMGN)              Healthcare  \n",
       "\n",
       "[12 rows x 65 columns]"
      ]
     },
     "execution_count": 17,
     "metadata": {},
     "output_type": "execute_result"
    }
   ],
   "source": [
    "#2.\n",
    "df[df['Trailing P/E'] >= '50']"
   ]
  },
  {
   "cell_type": "code",
   "execution_count": 21,
   "metadata": {},
   "outputs": [
    {
     "name": "stdout",
     "output_type": "stream",
     "text": [
      "        name  score  attempts qualify\n",
      "a  Anastasia   12.5         1     yes\n",
      "b       Dima    9.0         3      no\n",
      "c  Katherine   16.5         2     yes\n",
      "d      James    NaN         3      no\n",
      "e      Emily    9.0         2      no\n",
      "f    Michael   20.0         3     yes\n",
      "g    Matthew   14.5         1     yes\n",
      "h      Laura    NaN         1      no\n",
      "i      Kevin    8.0         2      no\n",
      "j      Jonas   19.0         1     yes\n"
     ]
    }
   ],
   "source": [
    "#3.\n",
    "exam_data  = {'name': ['Anastasia', 'Dima', 'Katherine', 'James', 'Emily', 'Michael', 'Matthew', 'Laura', 'Kevin', 'Jonas'],\n",
    "        'score': [12.5, 9, 16.5, np.nan, 9, 20, 14.5, np.nan, 8, 19],\n",
    "        'attempts': [1, 3, 2, 3, 2, 3, 1, 1, 2, 1],\n",
    "        'qualify': ['yes', 'no', 'yes', 'no', 'no', 'yes', 'yes', 'no', 'no', 'yes']}\n",
    "labels = ['a', 'b', 'c', 'd', 'e', 'f', 'g', 'h', 'i', 'j']\n",
    "\n",
    "df = pd.DataFrame(exam_data , index=labels)\n",
    "print(df)\n"
   ]
  },
  {
   "cell_type": "code",
   "execution_count": 22,
   "metadata": {},
   "outputs": [
    {
     "name": "stdout",
     "output_type": "stream",
     "text": [
      "First three rows of the data frame:\n",
      "        name  score  attempts qualify\n",
      "a  Anastasia   12.5         1     yes\n",
      "b       Dima    9.0         3      no\n",
      "c  Katherine   16.5         2     yes\n"
     ]
    }
   ],
   "source": [
    "#4.\n",
    "exam_data  = {'name': ['Anastasia', 'Dima', 'Katherine', 'James', 'Emily', 'Michael', 'Matthew', 'Laura', 'Kevin', 'Jonas'],\n",
    "        'score': [12.5, 9, 16.5, np.nan, 9, 20, 14.5, np.nan, 8, 19],\n",
    "        'attempts': [1, 3, 2, 3, 2, 3, 1, 1, 2, 1],\n",
    "        'qualify': ['yes', 'no', 'yes', 'no', 'no', 'yes', 'yes', 'no', 'no', 'yes']}\n",
    "labels = ['a', 'b', 'c', 'd', 'e', 'f', 'g', 'h', 'i', 'j']\n",
    "\n",
    "df = pd.DataFrame(exam_data , index=labels)\n",
    "print(\"First three rows of the data frame:\")\n",
    "print(df.iloc[:3])"
   ]
  },
  {
   "cell_type": "code",
   "execution_count": 23,
   "metadata": {},
   "outputs": [
    {
     "name": "stdout",
     "output_type": "stream",
     "text": [
      "Select specific columns:\n",
      "        name  score\n",
      "a  Anastasia   12.5\n",
      "b       Dima    9.0\n",
      "c  Katherine   16.5\n",
      "d      James    NaN\n",
      "e      Emily    9.0\n",
      "f    Michael   20.0\n",
      "g    Matthew   14.5\n",
      "h      Laura    NaN\n",
      "i      Kevin    8.0\n",
      "j      Jonas   19.0\n"
     ]
    }
   ],
   "source": [
    "#5\n",
    "exam_data  = {'name': ['Anastasia', 'Dima', 'Katherine', 'James', 'Emily', 'Michael', 'Matthew', 'Laura', 'Kevin', 'Jonas'],\n",
    "        'score': [12.5, 9, 16.5, np.nan, 9, 20, 14.5, np.nan, 8, 19],\n",
    "        'attempts': [1, 3, 2, 3, 2, 3, 1, 1, 2, 1],\n",
    "        'qualify': ['yes', 'no', 'yes', 'no', 'no', 'yes', 'yes', 'no', 'no', 'yes']}\n",
    "labels = ['a', 'b', 'c', 'd', 'e', 'f', 'g', 'h', 'i', 'j']\n",
    "\n",
    "df = pd.DataFrame(exam_data , index=labels)\n",
    "print(\"Select specific columns:\")\n",
    "print(df[['name', 'score']])"
   ]
  },
  {
   "cell_type": "code",
   "execution_count": 24,
   "metadata": {},
   "outputs": [
    {
     "name": "stdout",
     "output_type": "stream",
     "text": [
      "Rows where score is missing:\n",
      "    name  score  attempts qualify\n",
      "d  James    NaN         3      no\n",
      "h  Laura    NaN         1      no\n"
     ]
    }
   ],
   "source": [
    "#6.\n",
    "exam_data  = {'name': ['Anastasia', 'Dima', 'Katherine', 'James', 'Emily', 'Michael', 'Matthew', 'Laura', 'Kevin', 'Jonas'],\n",
    "        'score': [12.5, 9, 16.5, np.nan, 9, 20, 14.5, np.nan, 8, 19],\n",
    "        'attempts': [1, 3, 2, 3, 2, 3, 1, 1, 2, 1],\n",
    "        'qualify': ['yes', 'no', 'yes', 'no', 'no', 'yes', 'yes', 'no', 'no', 'yes']}\n",
    "labels = ['a', 'b', 'c', 'd', 'e', 'f', 'g', 'h', 'i', 'j']\n",
    "\n",
    "df = pd.DataFrame(exam_data , index=labels)\n",
    "print(\"Rows where score is missing:\")\n",
    "print(df[df['score'].isnull()])"
   ]
  },
  {
   "cell_type": "code",
   "execution_count": 27,
   "metadata": {},
   "outputs": [
    {
     "name": "stdout",
     "output_type": "stream",
     "text": [
      "Original DataFrame\n",
      "   col1  col2  col3\n",
      "0     1     4     7\n",
      "1     2     5     8\n",
      "2     3     6     9\n",
      "New DataFrame after renaming columns:\n",
      "   Column1  Column2  Column3\n",
      "0        1        4        7\n",
      "1        2        5        8\n",
      "2        3        6        9\n"
     ]
    }
   ],
   "source": [
    "#7.\n",
    "d = {'col1': [1, 2, 3], 'col2': [4, 5, 6], 'col3': [7, 8, 9]}\n",
    "df = pd.DataFrame(data=d)\n",
    "print(\"Original DataFrame\")\n",
    "print(df)\n",
    "df.columns = ['Column1', 'Column2', 'Column3']\n",
    "df = df.rename(columns={'col1': 'Column1', 'col2': 'Column2', 'col3': 'Column3'})\n",
    "print(\"New DataFrame after renaming columns:\")\n",
    "print(df)"
   ]
  },
  {
   "cell_type": "code",
   "execution_count": 26,
   "metadata": {},
   "outputs": [
    {
     "name": "stdout",
     "output_type": "stream",
     "text": [
      "Original list of lists:\n",
      "[[2, 4], [1, 3]]\n",
      "New DataFrame\n",
      "   col1  col2\n",
      "0     2     4\n",
      "1     1     3\n"
     ]
    }
   ],
   "source": [
    "#8\n",
    "my_lists = [['col1', 'col2'], [2, 4], [1, 3]]\n",
    "# sets the headers as list\n",
    "headers = my_lists.pop(0) \n",
    "print(\"Original list of lists:\")\n",
    "print(my_lists)\n",
    "df = pd.DataFrame(my_lists, columns = headers)\n",
    "print(\"New DataFrame\")\n",
    "print(df)"
   ]
  },
  {
   "cell_type": "code",
   "execution_count": 25,
   "metadata": {},
   "outputs": [
    {
     "name": "stdout",
     "output_type": "stream",
     "text": [
      "Original DataFrame:\n",
      "    rnum\n",
      "0     23\n",
      "1     21\n",
      "2     27\n",
      "3     22\n",
      "4     34\n",
      "5     33\n",
      "6     34\n",
      "7     31\n",
      "8     25\n",
      "9     22\n",
      "10    34\n",
      "11    19\n",
      "12    31\n",
      "13    32\n",
      "14    19\n",
      "\n",
      "Replace current value in a dataframe column based on last largest value:\n",
      "    rnum\n",
      "0     23\n",
      "1      0\n",
      "2     27\n",
      "3      0\n",
      "4     34\n",
      "5      0\n",
      "6     34\n",
      "7      0\n",
      "8      0\n",
      "9      0\n",
      "10    34\n",
      "11     0\n",
      "12     0\n",
      "13     0\n",
      "14     0\n"
     ]
    }
   ],
   "source": [
    "#9. \n",
    "df1=pd.DataFrame({'rnum':[23, 21, 27, 22, 34, 33, 34, 31, 25, 22, 34, 19, 31, 32, 19]})\n",
    "print(\"Original DataFrame:\")\n",
    "print(df1)\n",
    "df1['rnum']=df1.rnum.where(df1.rnum.eq(df1.rnum.cummax()),0)\n",
    "print(\"\\nReplace current value in a dataframe column based on last largest value:\")\n",
    "print(df1)"
   ]
  },
  {
   "cell_type": "code",
   "execution_count": 29,
   "metadata": {},
   "outputs": [
    {
     "name": "stdout",
     "output_type": "stream",
     "text": [
      "Original DataFrame:\n",
      "               c1    c2\n",
      "2000-01-03  120.0   7.0\n",
      "2000-01-04  130.0   NaN\n",
      "2000-01-05  140.0  10.0\n",
      "2000-01-06  150.0   NaN\n",
      "2000-01-07    NaN   5.5\n",
      "2000-01-10  170.0  16.5\n",
      "\n",
      "DataFrame after interpolate:\n",
      "               c1     c2\n",
      "2000-01-03  120.0   7.00\n",
      "2000-01-04  130.0   8.50\n",
      "2000-01-05  140.0  10.00\n",
      "2000-01-06  150.0   7.75\n",
      "2000-01-07  160.0   5.50\n",
      "2000-01-10  170.0  16.50\n"
     ]
    },
    {
     "name": "stderr",
     "output_type": "stream",
     "text": [
      "/usr/local/lib/python3.8/dist-packages/pandas/util/__init__.py:15: FutureWarning: pandas.util.testing is deprecated. Use the functions in the public API at pandas.testing instead.\n",
      "  import pandas.util.testing\n"
     ]
    }
   ],
   "source": [
    "#10\n",
    "sdata = {\"c1\":[120, 130 ,140, 150, np.nan, 170], \"c2\":[7, np.nan, 10, np.nan, 5.5, 16.5]}\n",
    "df = pd.DataFrame(sdata)\n",
    "df.index = pd.util.testing.makeDateIndex()[0:6]\n",
    "print(\"Original DataFrame:\")\n",
    "print(df)\n",
    "print(\"\\nDataFrame after interpolate:\")\n",
    "print(df.interpolate())\n"
   ]
  }
 ],
 "metadata": {
  "kernelspec": {
   "display_name": "Python 3 (ipykernel)",
   "language": "python",
   "name": "python3"
  },
  "language_info": {
   "codemirror_mode": {
    "name": "ipython",
    "version": 3
   },
   "file_extension": ".py",
   "mimetype": "text/x-python",
   "name": "python",
   "nbconvert_exporter": "python",
   "pygments_lexer": "ipython3",
   "version": "3.9.13"
  },
  "vscode": {
   "interpreter": {
    "hash": "916dbcbb3f70747c44a77c7bcd40155683ae19c65e1c03b4aa3499c5328201f1"
   }
  }
 },
 "nbformat": 4,
 "nbformat_minor": 2
}
