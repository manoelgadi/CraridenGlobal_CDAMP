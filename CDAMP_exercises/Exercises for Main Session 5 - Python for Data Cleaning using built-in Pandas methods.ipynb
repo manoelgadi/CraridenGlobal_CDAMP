{
 "cells": [
  {
   "cell_type": "markdown",
   "metadata": {},
   "source": [
    "# Exercises for Main Session 5 - Python for Data Cleaning using built-in Pandas methods"
   ]
  },
  {
   "cell_type": "code",
   "execution_count": null,
   "metadata": {},
   "outputs": [],
   "source": [
    "import pandas as pd\n",
    "import numpy as np"
   ]
  },
  {
   "cell_type": "code",
   "execution_count": null,
   "metadata": {},
   "outputs": [],
   "source": [
    "df = pd.DataFrame({\n",
    "'ord_no':[70001,np.nan,70002,70004,70005,np.nan,70005,\"--\",70010,70003,70012,np.nan,70013,70001],\n",
    "'purch_amt':[150.5,270.65,65.26,110.5,948.5,2400.6,65.26,5760,\"?\",12.43,2480.4,250.45, 3045.6,65.26],\n",
    "'ord_date': ['?','2012-09-10','2012-10-10',np.nan,'2012-08-17','2012-09-10','2012-07-27','2012-09-10','2012-10-10','2012-10-10','2012-06-27','2012-08-17','2012-10-10','2012-04-25'],\n",
    "'customer_id':[3002,3001,3001,3003,3007,3002,3001,3001,3004,\"--\",3002,3001,3001,3007],\n",
    "'salesman_id':[5002,5003,\"?\",5001,np.nan,5002,5001,\"?\",5003,5002,5002,5003,\"--\",5002]})"
   ]
  },
  {
   "cell_type": "markdown",
   "metadata": {},
   "source": [
    "### 1. How to get the number of '?' values, null values and nan values?"
   ]
  },
  {
   "cell_type": "code",
   "execution_count": null,
   "metadata": {},
   "outputs": [],
   "source": [
    "#Code"
   ]
  },
  {
   "cell_type": "markdown",
   "metadata": {},
   "source": [
    "### 2. Write a Pandas program to find and replace the missing values in a given DataFrame which do not have any valuable information. "
   ]
  },
  {
   "cell_type": "code",
   "execution_count": null,
   "metadata": {},
   "outputs": [],
   "source": [
    "#Code"
   ]
  },
  {
   "cell_type": "markdown",
   "metadata": {},
   "source": [
    "### 3 Change NaN values to mean into result dataframe"
   ]
  },
  {
   "cell_type": "code",
   "execution_count": null,
   "metadata": {},
   "outputs": [],
   "source": [
    "#code"
   ]
  },
  {
   "cell_type": "markdown",
   "metadata": {},
   "source": [
    "### 4. Drop unnecesary columns"
   ]
  },
  {
   "cell_type": "code",
   "execution_count": null,
   "metadata": {},
   "outputs": [],
   "source": [
    "#code"
   ]
  },
  {
   "cell_type": "markdown",
   "metadata": {},
   "source": [
    "### 5. How to rename a column"
   ]
  },
  {
   "cell_type": "code",
   "execution_count": null,
   "metadata": {},
   "outputs": [],
   "source": [
    "#code"
   ]
  },
  {
   "cell_type": "markdown",
   "metadata": {},
   "source": [
    "### 6. Set the index of the dataset"
   ]
  },
  {
   "cell_type": "code",
   "execution_count": null,
   "metadata": {},
   "outputs": [],
   "source": [
    "#Code"
   ]
  },
  {
   "cell_type": "markdown",
   "metadata": {},
   "source": [
    "### 7. How to eliminate de duplicated values in a specific column 'ord_no'"
   ]
  },
  {
   "cell_type": "code",
   "execution_count": null,
   "metadata": {},
   "outputs": [],
   "source": [
    "#Code"
   ]
  },
  {
   "cell_type": "markdown",
   "metadata": {},
   "source": [
    "### 8 .Replace the missing values with the most frequent values present in each column"
   ]
  },
  {
   "cell_type": "code",
   "execution_count": null,
   "metadata": {},
   "outputs": [],
   "source": [
    "#Code"
   ]
  },
  {
   "cell_type": "markdown",
   "metadata": {},
   "source": [
    "### 9. Find the Indexes of missing values"
   ]
  },
  {
   "cell_type": "code",
   "execution_count": null,
   "metadata": {},
   "outputs": [],
   "source": [
    "#Code"
   ]
  },
  {
   "cell_type": "markdown",
   "metadata": {},
   "source": [
    "### 10. Write a Pandas program to create a hitmap for more information about the distribution of missing values"
   ]
  },
  {
   "cell_type": "code",
   "execution_count": null,
   "metadata": {},
   "outputs": [],
   "source": [
    "#Code"
   ]
  },
  {
   "cell_type": "markdown",
   "metadata": {},
   "source": [
    "### Solutions"
   ]
  },
  {
   "cell_type": "code",
   "execution_count": null,
   "metadata": {},
   "outputs": [],
   "source": [
    "#1\n",
    "print('null values: \\n',df.isnull().sum())\n",
    "\n",
    "print('\\n\\n nan values: \\n',df.isna().sum())\n",
    "\n",
    "print('\\n\\n ? values: \\n',df.eq('?').sum())"
   ]
  },
  {
   "cell_type": "code",
   "execution_count": null,
   "metadata": {},
   "outputs": [],
   "source": [
    "#2. \n",
    "pd.set_option('display.max_rows', None)\n",
    "#pd.set_option('display.max_columns', None)\n",
    "print(\"Original Orders DataFrame:\")\n",
    "print(df)\n",
    "print(\"\\nReplace the missing values with NaN:\")\n",
    "result = df.replace({\"?\": np.nan, \"--\": np.nan})\n",
    "print(result)\n"
   ]
  },
  {
   "cell_type": "code",
   "execution_count": null,
   "metadata": {},
   "outputs": [],
   "source": [
    "#3.\n",
    "for col in result.columns:\n",
    "    result[col].fillna(result[col].mode()[0], inplace=True)"
   ]
  },
  {
   "cell_type": "code",
   "execution_count": null,
   "metadata": {},
   "outputs": [],
   "source": [
    "#4\n",
    "cols = ['ord_no','purch_amt']\n",
    "df_col_deleted = result.drop(cols, axis=1)"
   ]
  },
  {
   "cell_type": "code",
   "execution_count": null,
   "metadata": {},
   "outputs": [],
   "source": [
    "#5\n",
    "result.rename(columns={'ord_no':'ordenNo'},inplace=True)"
   ]
  },
  {
   "cell_type": "code",
   "execution_count": null,
   "metadata": {},
   "outputs": [],
   "source": [
    "#6\n",
    "result.index = range(0,len(result))"
   ]
  },
  {
   "cell_type": "code",
   "execution_count": null,
   "metadata": {},
   "outputs": [],
   "source": [
    "#7\n",
    "\n",
    "df.drop_duplicates(subset=['ord_no'], keep='first', inplace=False, ignore_index=False)\n",
    "\n",
    "#The parameter subset is used to specify the column names which we want to consider for identifying duplicates.\n",
    "# If we don’t specify any column name, then all the columns will be considered for identifying duplicates.\n",
    "# df.drop_duplicates(subset=None, keep='first', inplace=False, ignore_index=False)\n",
    "\n",
    "\n",
    "\n"
   ]
  },
  {
   "cell_type": "code",
   "execution_count": null,
   "metadata": {},
   "outputs": [],
   "source": [
    "#8#\n",
    "print(\"Original Orders DataFrame:\")\n",
    "print(df) \n",
    "print(\"\\nReplace the missing values with the most frequent values present in each column:\")\n",
    "result = df.fillna(df.mode().iloc[0])\n",
    "print(result)"
   ]
  },
  {
   "cell_type": "code",
   "execution_count": 42,
   "metadata": {},
   "outputs": [
    {
     "name": "stdout",
     "output_type": "stream",
     "text": [
      "Original Orders DataFrame:\n",
      "   ord_no purch_amt    ord_date customer_id salesman_id\n",
      "0   70001     150.5           ?        3002        5002\n",
      "1     NaN    270.65  2012-09-10        3001        5003\n",
      "2   70002     65.26  2012-10-10        3001           ?\n",
      "3   70004     110.5         NaN        3003        5001\n",
      "4   70005     948.5  2012-08-17        3007         NaN\n",
      "5     NaN    2400.6  2012-09-10        3002        5002\n",
      "6   70005     65.26  2012-07-27        3001        5001\n",
      "7      --      5760  2012-09-10        3001           ?\n",
      "8   70010         ?  2012-10-10        3004        5003\n",
      "9   70003     12.43  2012-10-10          --        5002\n",
      "10  70012    2480.4  2012-06-27        3002        5002\n",
      "11    NaN    250.45  2012-08-17        3001        5003\n",
      "12  70013    3045.6  2012-10-10        3001          --\n",
      "13  70001     65.26  2012-04-25        3007        5002\n",
      "\n",
      "Missing values in purch_amt column:\n",
      "(array([ 1,  5, 11]),)\n"
     ]
    }
   ],
   "source": [
    "#9\n",
    "print(\"Original Orders DataFrame:\")\n",
    "print(df) \n",
    "print(\"\\nMissing values in purch_amt column:\")\n",
    "result = df['ord_no'].isnull().to_numpy().nonzero()\n",
    "print(result)"
   ]
  },
  {
   "cell_type": "code",
   "execution_count": 44,
   "metadata": {},
   "outputs": [
    {
     "data": {
      "image/png": "[encoded data removed]",
      "text/plain": [
       "<Figure size 1600x1000 with 1 Axes>"
      ]
     },
     "metadata": {},
     "output_type": "display_data"
    }
   ],
   "source": [
    "#10\n",
    "import seaborn as sns\n",
    "import matplotlib.pyplot as plt\n",
    "plt.figure(figsize=(16,10))\n",
    "sns.heatmap(df.isnull(), cbar=False, cmap=\"YlGnBu\")\n",
    "plt.show()"
   ]
  }
 ],
 "metadata": {
  "kernelspec": {
   "display_name": "Python 3.8.10 64-bit",
   "language": "python",
   "name": "python3"
  },
  "language_info": {
   "codemirror_mode": {
    "name": "ipython",
    "version": 3
   },
   "file_extension": ".py",
   "mimetype": "text/x-python",
   "name": "python",
   "nbconvert_exporter": "python",
   "pygments_lexer": "ipython3",
   "version": "3.8.10"
  },
  "orig_nbformat": 4,
  "vscode": {
   "interpreter": {
    "hash": "916dbcbb3f70747c44a77c7bcd40155683ae19c65e1c03b4aa3499c5328201f1"
   }
  }
 },
 "nbformat": 4,
 "nbformat_minor": 2
}
